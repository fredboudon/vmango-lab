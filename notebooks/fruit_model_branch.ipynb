{
 "cells": [
  {
   "cell_type": "code",
   "execution_count": null,
   "id": "italic-movement",
   "metadata": {},
   "outputs": [],
   "source": [
    "import numpy as np\n",
    "import pandas as pd\n",
    "import igraph as ig\n",
    "import vmlab"
   ]
  },
  {
   "cell_type": "code",
   "execution_count": null,
   "id": "radical-recruitment",
   "metadata": {},
   "outputs": [],
   "source": [
    "from vmlab.models import fruit_model\n",
    "from vmlab.processes import harvest\n",
    "fruit_model = fruit_model.update_processes({'harvest': harvest.HarvestByQuality})\n",
    "fruit_model.visualize()"
   ]
  },
  {
   "cell_type": "code",
   "execution_count": null,
   "id": "enormous-basic",
   "metadata": {},
   "outputs": [],
   "source": [
    "tree = pd.read_csv('../share/trees/branch_G3.csv')\n",
    "# tree"
   ]
  },
  {
   "cell_type": "code",
   "execution_count": null,
   "id": "conventional-receptor",
   "metadata": {},
   "outputs": [],
   "source": [
    "setup = vmlab.create_setup(\n",
    "    model=fruit_model,\n",
    "    tree=tree,\n",
    "    start_date='2003-06-01',\n",
    "    end_date='2004-06-01',\n",
    "    setup_toml='../share/setup/fruit_model_branch.toml',\n",
    "    current_cycle=3,\n",
    "    input_vars={\n",
    "        'topology': {\n",
    "            'seed': 11,\n",
    "        },\n",
    "        'geometry__interpretation_freq': 15\n",
    "    },\n",
    "    output_vars={\n",
    "        'topology': {\n",
    "            'adjacency': 'day'\n",
    "        },\n",
    "        'environment': {\n",
    "            'TM_day': 'day',\n",
    "            'RH_day': 'day'\n",
    "        },\n",
    "        'carbon_allocation': {\n",
    "            'DM_fruit': 'day',\n",
    "            'DM_fleshpeel': 'day',\n",
    "            'DM_flesh': 'day'\n",
    "        },\n",
    "        'harvest': {\n",
    "            'ripeness_index': 'day',\n",
    "            'nb_fruit_harvested': None\n",
    "        },\n",
    "        'growth': {\n",
    "            'nb_leaf': None,\n",
    "        },\n",
    "        'fruit_quality': {\n",
    "            'FM_fruit': 'day',\n",
    "            'W_fleshpeel': 'day',\n",
    "            'W_flesh': 'day',\n",
    "            'transpiration_fruit': 'day',\n",
    "            'osmotic_pressure_fruit': 'day',\n",
    "            'turgor_pressure_fruit': 'day',\n",
    "            'water_potential_fruit': 'day',\n",
    "            'flux_xylem_phloem': 'day',\n",
    "            'sucrose': 'day'\n",
    "        }\n",
    "    }\n",
    ")"
   ]
  },
  {
   "cell_type": "code",
   "execution_count": null,
   "id": "foster-static",
   "metadata": {},
   "outputs": [],
   "source": [
    "ds_out = vmlab.run(setup, fruit_model, geometry=True)"
   ]
  },
  {
   "cell_type": "code",
   "execution_count": null,
   "id": "starting-profit",
   "metadata": {
    "jupyter": {
     "outputs_hidden": true
    },
    "tags": []
   },
   "outputs": [],
   "source": [
    "g = ig.Graph.Adjacency([row.tolist() for row in ds_out.topology__adjacency[-1].data.astype(np.int64)])\n",
    "layout = g.layout_reingold_tilford(root=0.)\n",
    "layout.rotate(-180)\n",
    "ig.plot(g, layout=layout, bbox=(600, 300), **{\n",
    "    'vertex_size': 1,\n",
    "    'vertex_label_size': 10,\n",
    "    'edge_arrow_width': 0.1,\n",
    "    'vertex_label': [\n",
    "        f'GU{idx}\\nF:{int(ds_out.harvest__nb_fruit_harvested.data[idx])}\\nL:{int(ds_out.growth__nb_leaf.data[idx])}' for idx in g.vs.indices\n",
    "    ]\n",
    "})"
   ]
  },
  {
   "cell_type": "code",
   "execution_count": null,
   "id": "sustained-intersection",
   "metadata": {
    "tags": []
   },
   "outputs": [],
   "source": [
    "# how can we select all variables for GUs with at leat one fruit ? \n",
    "ds = ds_out[['fruit_quality__FM_fruit', 'carbon_allocation__DM_fruit']].sel({\n",
    "        'day': slice('2003-06-01', '2004-06-01')\n",
    "    }).where(ds_out.carbon_allocation__DM_fruit > 0, drop=True).rename_vars({\n",
    "        'fruit_quality__FM_fruit': 'FM',\n",
    "        'carbon_allocation__DM_fruit': 'DM',\n",
    "    })\n",
    "ds"
   ]
  },
  {
   "cell_type": "code",
   "execution_count": null,
   "id": "5d9edb2b-9ba4-453b-bce0-06e874c01aec",
   "metadata": {},
   "outputs": [],
   "source": [
    "ds_out.carbon_allocation__DM_fruit.where(ds_out.carbon_allocation__DM_fruit > 0, drop=True).plot(col='GU', col_wrap=6)\n",
    "#ds.DM.plot(col='GU', col_wrap=6)"
   ]
  },
  {
   "cell_type": "code",
   "execution_count": null,
   "id": "7112a92a-1199-4424-b83a-dd047cf334dc",
   "metadata": {},
   "outputs": [],
   "source": [
    "ds_out.carbon_allocation__DM_fleshpeel.where(ds_out.carbon_allocation__DM_fruit > 0, drop=True).plot(col='GU', col_wrap=6)"
   ]
  },
  {
   "cell_type": "code",
   "execution_count": null,
   "id": "b1f4ae37-7613-4ffa-9e09-60cd8d1f8af0",
   "metadata": {},
   "outputs": [],
   "source": [
    "ds_out.carbon_allocation__DM_flesh.where(ds_out.carbon_allocation__DM_fruit > 0, drop=True).plot(col='GU', col_wrap=6)"
   ]
  },
  {
   "cell_type": "code",
   "execution_count": null,
   "id": "miniature-holocaust",
   "metadata": {},
   "outputs": [],
   "source": [
    "ds_out.fruit_quality__FM_fruit.where(ds_out.carbon_allocation__DM_fruit > 0, drop=True).plot(col='GU', col_wrap=6)\n",
    "#ds.FM.plot(col='GU', col_wrap=6)"
   ]
  },
  {
   "cell_type": "code",
   "execution_count": null,
   "id": "completed-north",
   "metadata": {},
   "outputs": [],
   "source": [
    "ds_out.fruit_quality__W_fleshpeel.where(ds_out.carbon_allocation__DM_fruit > 0, drop=True).plot(col='GU', col_wrap=6)"
   ]
  },
  {
   "cell_type": "code",
   "execution_count": null,
   "id": "electronic-madonna",
   "metadata": {},
   "outputs": [],
   "source": [
    "ds_out.fruit_quality__W_flesh.where(ds_out.carbon_allocation__DM_fruit > 0, drop=True).plot(col='GU', col_wrap=6)"
   ]
  },
  {
   "cell_type": "code",
   "execution_count": null,
   "id": "dated-delight",
   "metadata": {},
   "outputs": [],
   "source": [
    "ds_out.fruit_quality__transpiration_fruit.where(ds_out.carbon_allocation__DM_fruit > 0, drop=True).plot(col='GU', col_wrap=6)"
   ]
  },
  {
   "cell_type": "code",
   "execution_count": null,
   "id": "843d0105-01d6-4c73-a7a5-2e88f5cd19ba",
   "metadata": {},
   "outputs": [],
   "source": [
    "ds_out.environment__TM_day.sel({'day': slice('2004-01-01', '2004-04-01')}).plot(col_wrap=6)"
   ]
  },
  {
   "cell_type": "code",
   "execution_count": null,
   "id": "50a01663-5e33-47ca-a2fa-e59b80c85b9d",
   "metadata": {},
   "outputs": [],
   "source": [
    "ds_out.environment__RH_day.sel({'day': slice('2004-01-01', '2004-04-01')}).plot(col_wrap=6)"
   ]
  },
  {
   "cell_type": "code",
   "execution_count": null,
   "id": "d0ae6af7-4319-48b1-acf5-a8f45f23cc3d",
   "metadata": {},
   "outputs": [],
   "source": [
    "ds_out.fruit_quality__flux_xylem_phloem.where(ds_out.carbon_allocation__DM_fruit > 0, drop=True).plot(col='GU', col_wrap=6)"
   ]
  },
  {
   "cell_type": "code",
   "execution_count": null,
   "id": "3d5fd788-2613-4d4c-b84e-09fa87bb3833",
   "metadata": {},
   "outputs": [],
   "source": [
    "ds_out.fruit_quality__water_potential_fruit.where(ds_out.carbon_allocation__DM_fruit > 0, drop=True).plot(col='GU', col_wrap=6)"
   ]
  },
  {
   "cell_type": "code",
   "execution_count": null,
   "id": "7ee05112-a331-4a3b-96c6-c3ee295b4a78",
   "metadata": {},
   "outputs": [],
   "source": [
    "ds_out.fruit_quality__osmotic_pressure_fruit.where(ds_out.carbon_allocation__DM_fruit > 0, drop=True).plot(col='GU', col_wrap=6)"
   ]
  },
  {
   "cell_type": "code",
   "execution_count": null,
   "id": "5d5a6769-592f-4eb9-8b9d-5e755f98ed6e",
   "metadata": {},
   "outputs": [],
   "source": [
    "ds_out.fruit_quality__turgor_pressure_fruit.where(ds_out.carbon_allocation__DM_fruit > 0, drop=True).plot(col='GU', col_wrap=6)"
   ]
  },
  {
   "cell_type": "code",
   "execution_count": null,
   "id": "beginning-chain",
   "metadata": {},
   "outputs": [],
   "source": [
    "ds_out.fruit_quality__sucrose.where(ds_out.carbon_allocation__DM_fruit > 0, drop=True).plot(col='GU', col_wrap=6)"
   ]
  },
  {
   "cell_type": "code",
   "execution_count": null,
   "id": "governing-diagnosis",
   "metadata": {},
   "outputs": [],
   "source": [
    "ds_out.harvest__ripeness_index.where(ds_out.carbon_allocation__DM_fruit > 0, drop=True).plot(col='GU', col_wrap=6)"
   ]
  },
  {
   "cell_type": "code",
   "execution_count": null,
   "id": "f10f31f0-8765-4991-a0e9-e2d5c956401d",
   "metadata": {},
   "outputs": [],
   "source": []
  }
 ],
 "metadata": {
  "kernelspec": {
   "display_name": "Python 3",
   "language": "python",
   "name": "python3"
  },
  "language_info": {
   "codemirror_mode": {
    "name": "ipython",
    "version": 3
   },
   "file_extension": ".py",
   "mimetype": "text/x-python",
   "name": "python",
   "nbconvert_exporter": "python",
   "pygments_lexer": "ipython3",
   "version": "3.8.9"
  },
  "widgets": {
   "application/vnd.jupyter.widget-state+json": {
    "state": {
     "0456b17ab3714f4d822d428536fce052": {
      "model_module": "@jupyter-widgets/controls",
      "model_module_version": "1.5.0",
      "model_name": "FloatProgressModel",
      "state": {
       "bar_style": "success",
       "layout": "IPY_MODEL_b1c1a07dfd264ecf8cda7f420d0eb3fa",
       "max": 368,
       "style": "IPY_MODEL_5c9b5d4ef205434686ff3bd8da62d37a",
       "value": 368
      }
     },
     "0482819fa5f04951aa08c8a3d4f4bff4": {
      "model_module": "@jupyter-widgets/base",
      "model_module_version": "1.2.0",
      "model_name": "LayoutModel",
      "state": {}
     },
     "0548196844ff4b7089324f28a01f062b": {
      "model_module": "@jupyter-widgets/base",
      "model_module_version": "1.2.0",
      "model_name": "LayoutModel",
      "state": {}
     },
     "0b9e14b1a3ba498694373e52a23dee00": {
      "model_module": "@jupyter-widgets/base",
      "model_module_version": "1.2.0",
      "model_name": "LayoutModel",
      "state": {}
     },
     "14eb11a448e44cde836c1dd881df30e4": {
      "model_module": "@jupyter-widgets/base",
      "model_module_version": "1.2.0",
      "model_name": "LayoutModel",
      "state": {}
     },
     "3065ba63d94144b68dcdd4f82104aabe": {
      "model_module": "@jupyter-widgets/base",
      "model_module_version": "1.2.0",
      "model_name": "LayoutModel",
      "state": {}
     },
     "3b7c8a42ba254e31a174cbd4dfad6796": {
      "model_module": "@jupyter-widgets/controls",
      "model_module_version": "1.5.0",
      "model_name": "HBoxModel",
      "state": {
       "children": [
        "IPY_MODEL_a7d3478c46264d65a8aac0a6e553127b",
        "IPY_MODEL_0456b17ab3714f4d822d428536fce052",
        "IPY_MODEL_7e48d037a8f748f188b2bea7866cdb99"
       ],
       "layout": "IPY_MODEL_0548196844ff4b7089324f28a01f062b"
      }
     },
     "3f85ffd040cf4ec3b4e118c2c0e94434": {
      "model_module": "@jupyter-widgets/base",
      "model_module_version": "1.2.0",
      "model_name": "LayoutModel",
      "state": {}
     },
     "40dd61ad718e4813853b2369b271de08": {
      "model_module": "@jupyter-widgets/controls",
      "model_module_version": "1.5.0",
      "model_name": "HBoxModel",
      "state": {
       "children": [
        "IPY_MODEL_92a2c95575514a07a693b7bc58dab256",
        "IPY_MODEL_77ef2c832c984d9b897fb81c7f8565f6",
        "IPY_MODEL_8cc73b5763f747a796e34923cf829b5a"
       ],
       "layout": "IPY_MODEL_4e1d2f69375c41fa840afe7aa83c9fd8"
      }
     },
     "46cdd85b9ed1456da2553b944880eaa4": {
      "model_module": "@jupyter-widgets/base",
      "model_module_version": "1.2.0",
      "model_name": "LayoutModel",
      "state": {}
     },
     "4e1d2f69375c41fa840afe7aa83c9fd8": {
      "model_module": "@jupyter-widgets/base",
      "model_module_version": "1.2.0",
      "model_name": "LayoutModel",
      "state": {}
     },
     "4f53ceb6568e4747b2bcba008b080464": {
      "model_module": "pgljupyter",
      "model_module_version": "^1.0.5",
      "model_name": "SceneWidgetModel",
      "state": {
       "_model_module_version": "^1.0.5",
       "_view_module_version": "^1.0.5",
       "axes_helper": false,
       "layout": "IPY_MODEL_adadd5dcae3d48009ff20b0b5846e697",
       "light_helper": false,
       "plane": true,
       "size_display": [
        400,
        400
       ],
       "size_world": 2.5
      }
     },
     "53fcaa04b3b543e0afad5a07b89d68c6": {
      "model_module": "@jupyter-widgets/base",
      "model_module_version": "1.2.0",
      "model_name": "LayoutModel",
      "state": {}
     },
     "59bab43352a54ac0997052665c64d859": {
      "model_module": "@jupyter-widgets/base",
      "model_module_version": "1.2.0",
      "model_name": "LayoutModel",
      "state": {}
     },
     "5bcafbdc1851487a93aaadd7a4cca726": {
      "model_module": "@jupyter-widgets/controls",
      "model_module_version": "1.5.0",
      "model_name": "DescriptionStyleModel",
      "state": {
       "description_width": ""
      }
     },
     "5c9b5d4ef205434686ff3bd8da62d37a": {
      "model_module": "@jupyter-widgets/controls",
      "model_module_version": "1.5.0",
      "model_name": "ProgressStyleModel",
      "state": {
       "description_width": ""
      }
     },
     "6519ba42aa6546979ff38c650894166a": {
      "model_module": "@jupyter-widgets/base",
      "model_module_version": "1.2.0",
      "model_name": "LayoutModel",
      "state": {}
     },
     "6ed3e2e3f9b64f4e9e6f6da98e8e3292": {
      "model_module": "@jupyter-widgets/base",
      "model_module_version": "1.2.0",
      "model_name": "LayoutModel",
      "state": {}
     },
     "77ef2c832c984d9b897fb81c7f8565f6": {
      "model_module": "@jupyter-widgets/controls",
      "model_module_version": "1.5.0",
      "model_name": "FloatProgressModel",
      "state": {
       "bar_style": "danger",
       "layout": "IPY_MODEL_6ed3e2e3f9b64f4e9e6f6da98e8e3292",
       "max": 368,
       "style": "IPY_MODEL_d8cca6f6b94d4b68bf6ca84ad6733ec3",
       "value": 2
      }
     },
     "7e48d037a8f748f188b2bea7866cdb99": {
      "model_module": "@jupyter-widgets/controls",
      "model_module_version": "1.5.0",
      "model_name": "HTMLModel",
      "state": {
       "layout": "IPY_MODEL_59bab43352a54ac0997052665c64d859",
       "style": "IPY_MODEL_beb970a2dcc443c19ea8dd06d7a6032b",
       "value": " 100% | Simulation finished in 00:11 "
      }
     },
     "82d582af8a7348dd915e857604240c12": {
      "model_module": "@jupyter-widgets/controls",
      "model_module_version": "1.5.0",
      "model_name": "HTMLModel",
      "state": {
       "layout": "IPY_MODEL_6519ba42aa6546979ff38c650894166a",
       "style": "IPY_MODEL_9c67eaf89a8240e39fffb7cdf5bacab3",
       "value": " 100% | Simulation finished in 00:11 "
      }
     },
     "858c701c427e42c1b2769c9d7536d4a0": {
      "model_module": "pgljupyter",
      "model_module_version": "^1.0.5",
      "model_name": "SceneWidgetModel",
      "state": {
       "_model_module_version": "^1.0.5",
       "_view_module_version": "^1.0.5",
       "axes_helper": false,
       "layout": "IPY_MODEL_3f85ffd040cf4ec3b4e118c2c0e94434",
       "light_helper": false,
       "plane": true,
       "size_display": [
        400,
        400
       ],
       "size_world": 2.5
      }
     },
     "8b50805859d54803a2b1ee8d828ea9b6": {
      "model_module": "@jupyter-widgets/controls",
      "model_module_version": "1.5.0",
      "model_name": "HBoxModel",
      "state": {
       "children": [
        "IPY_MODEL_f4cf717cd20f4082abc15a2d59b16d4a",
        "IPY_MODEL_defea5a79b2c483f93d466f23e824a75",
        "IPY_MODEL_82d582af8a7348dd915e857604240c12"
       ],
       "layout": "IPY_MODEL_3065ba63d94144b68dcdd4f82104aabe"
      }
     },
     "8cc73b5763f747a796e34923cf829b5a": {
      "model_module": "@jupyter-widgets/controls",
      "model_module_version": "1.5.0",
      "model_name": "HTMLModel",
      "state": {
       "layout": "IPY_MODEL_ab37328a8c0c496bab7caccd0badfa8c",
       "style": "IPY_MODEL_5bcafbdc1851487a93aaadd7a4cca726",
       "value": "   1% | Simulation finished in 00:06 "
      }
     },
     "92a2c95575514a07a693b7bc58dab256": {
      "model_module": "@jupyter-widgets/controls",
      "model_module_version": "1.5.0",
      "model_name": "HTMLModel",
      "state": {
       "layout": "IPY_MODEL_53fcaa04b3b543e0afad5a07b89d68c6",
       "style": "IPY_MODEL_c07e13defbed4e2483f6000b0ee29ca2"
      }
     },
     "9c67eaf89a8240e39fffb7cdf5bacab3": {
      "model_module": "@jupyter-widgets/controls",
      "model_module_version": "1.5.0",
      "model_name": "DescriptionStyleModel",
      "state": {
       "description_width": ""
      }
     },
     "a7d3478c46264d65a8aac0a6e553127b": {
      "model_module": "@jupyter-widgets/controls",
      "model_module_version": "1.5.0",
      "model_name": "HTMLModel",
      "state": {
       "layout": "IPY_MODEL_0482819fa5f04951aa08c8a3d4f4bff4",
       "style": "IPY_MODEL_b0091f943e6c439ba8b214d1cf7dd948"
      }
     },
     "ab37328a8c0c496bab7caccd0badfa8c": {
      "model_module": "@jupyter-widgets/base",
      "model_module_version": "1.2.0",
      "model_name": "LayoutModel",
      "state": {}
     },
     "adadd5dcae3d48009ff20b0b5846e697": {
      "model_module": "@jupyter-widgets/base",
      "model_module_version": "1.2.0",
      "model_name": "LayoutModel",
      "state": {}
     },
     "b0091f943e6c439ba8b214d1cf7dd948": {
      "model_module": "@jupyter-widgets/controls",
      "model_module_version": "1.5.0",
      "model_name": "DescriptionStyleModel",
      "state": {
       "description_width": ""
      }
     },
     "b1c1a07dfd264ecf8cda7f420d0eb3fa": {
      "model_module": "@jupyter-widgets/base",
      "model_module_version": "1.2.0",
      "model_name": "LayoutModel",
      "state": {}
     },
     "beb970a2dcc443c19ea8dd06d7a6032b": {
      "model_module": "@jupyter-widgets/controls",
      "model_module_version": "1.5.0",
      "model_name": "DescriptionStyleModel",
      "state": {
       "description_width": ""
      }
     },
     "c07e13defbed4e2483f6000b0ee29ca2": {
      "model_module": "@jupyter-widgets/controls",
      "model_module_version": "1.5.0",
      "model_name": "DescriptionStyleModel",
      "state": {
       "description_width": ""
      }
     },
     "d7ad402dbbf64f5c9d5b37e8aedbe4c6": {
      "model_module": "pgljupyter",
      "model_module_version": "^1.0.5",
      "model_name": "SceneWidgetModel",
      "state": {
       "_model_module_version": "^1.0.5",
       "_view_module_version": "^1.0.5",
       "axes_helper": false,
       "layout": "IPY_MODEL_46cdd85b9ed1456da2553b944880eaa4",
       "light_helper": false,
       "plane": true,
       "size_display": [
        400,
        400
       ],
       "size_world": 2.5
      }
     },
     "d8cca6f6b94d4b68bf6ca84ad6733ec3": {
      "model_module": "@jupyter-widgets/controls",
      "model_module_version": "1.5.0",
      "model_name": "ProgressStyleModel",
      "state": {
       "description_width": ""
      }
     },
     "defea5a79b2c483f93d466f23e824a75": {
      "model_module": "@jupyter-widgets/controls",
      "model_module_version": "1.5.0",
      "model_name": "FloatProgressModel",
      "state": {
       "bar_style": "success",
       "layout": "IPY_MODEL_0b9e14b1a3ba498694373e52a23dee00",
       "max": 368,
       "style": "IPY_MODEL_e14ac04381594ec8a8ce4696e1a4d98a",
       "value": 368
      }
     },
     "e14ac04381594ec8a8ce4696e1a4d98a": {
      "model_module": "@jupyter-widgets/controls",
      "model_module_version": "1.5.0",
      "model_name": "ProgressStyleModel",
      "state": {
       "description_width": ""
      }
     },
     "f404b51f26e4468c9c17024347d5aaad": {
      "model_module": "@jupyter-widgets/controls",
      "model_module_version": "1.5.0",
      "model_name": "DescriptionStyleModel",
      "state": {
       "description_width": ""
      }
     },
     "f4cf717cd20f4082abc15a2d59b16d4a": {
      "model_module": "@jupyter-widgets/controls",
      "model_module_version": "1.5.0",
      "model_name": "HTMLModel",
      "state": {
       "layout": "IPY_MODEL_14eb11a448e44cde836c1dd881df30e4",
       "style": "IPY_MODEL_f404b51f26e4468c9c17024347d5aaad"
      }
     }
    },
    "version_major": 2,
    "version_minor": 0
   }
  }
 },
 "nbformat": 4,
 "nbformat_minor": 5
}
