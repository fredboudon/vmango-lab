{
 "cells": [
  {
   "cell_type": "code",
   "execution_count": 1,
   "id": "unavailable-adoption",
   "metadata": {},
   "outputs": [],
   "source": [
    "import numpy as np\n",
    "import pandas as pd\n",
    "import igraph as ig\n",
    "import xarray as xr\n",
    "import ipywidgets as iw\n",
    "from importlib import resources\n",
    "import vmlab"
   ]
  },
  {
   "cell_type": "code",
   "execution_count": 2,
   "id": "inner-design",
   "metadata": {},
   "outputs": [],
   "source": [
    "from vmlab.models import fruit_model"
   ]
  },
  {
   "cell_type": "markdown",
   "id": "dd86d093-554d-4838-b701-d28bd747749d",
   "metadata": {},
   "source": [
    "### 1 Data aquisition in the field"
   ]
  },
  {
   "cell_type": "code",
   "execution_count": 3,
   "id": "adedd41a-625e-46d7-bd4f-b11625838f02",
   "metadata": {},
   "outputs": [
    {
     "data": {
      "application/vnd.jupyter.widget-view+json": {
       "model_id": "39a5d1c20ea34e798a8ea9bb763cb1da",
       "version_major": 2,
       "version_minor": 0
      },
      "text/plain": [
       "HBox(children=(Image(value=b'\\x89PNG\\r\\n\\x1a\\n\\x00\\x00\\x00\\rIHDR\\x00\\x00\\x01R\\x00\\x00\\x02X\\x08\\x06\\x00\\x00\\x00…"
      ]
     },
     "metadata": {},
     "output_type": "display_data"
    }
   ],
   "source": [
    "iw.HBox([\n",
    "    iw.Image(value=open('./branch_F14_25_photo.png', 'rb').read(), format='png'),\n",
    "    iw.Image(value=open('./branch_F14_25_recording.png', 'rb').read(), format='png')\n",
    "])"
   ]
  },
  {
   "cell_type": "markdown",
   "id": "tamil-soundtrack",
   "metadata": {},
   "source": [
    "### 2.1 Encoding as csv, import and visualization"
   ]
  },
  {
   "cell_type": "code",
   "execution_count": 4,
   "id": "duplicate-quilt",
   "metadata": {},
   "outputs": [
    {
     "data": {
      "image/svg+xml": [
       "<?xml version=\"1.0\" encoding=\"UTF-8\"?>\n",
       "<svg xmlns=\"http://www.w3.org/2000/svg\" xmlns:xlink=\"http://www.w3.org/1999/xlink\" width=\"600pt\" height=\"250pt\" viewBox=\"0 0 600 250\" version=\"1.1\">\n",
       "<defs>\n",
       "<g>\n",
       "<symbol overflow=\"visible\" id=\"glyph0-0\">\n",
       "<path style=\"stroke:none;\" d=\"M 0.5 1.765625 L 0.5 -7.046875 L 5.5 -7.046875 L 5.5 1.765625 Z M 1.0625 1.21875 L 4.9375 1.21875 L 4.9375 -6.484375 L 1.0625 -6.484375 Z M 1.0625 1.21875 \"/>\n",
       "</symbol>\n",
       "<symbol overflow=\"visible\" id=\"glyph0-1\">\n",
       "<path style=\"stroke:none;\" d=\"M 1.234375 -0.828125 L 2.859375 -0.828125 L 2.859375 -6.390625 L 1.09375 -6.046875 L 1.09375 -6.9375 L 2.84375 -7.296875 L 3.828125 -7.296875 L 3.828125 -0.828125 L 5.4375 -0.828125 L 5.4375 0 L 1.234375 0 Z M 1.234375 -0.828125 \"/>\n",
       "</symbol>\n",
       "<symbol overflow=\"visible\" id=\"glyph0-2\">\n",
       "<path style=\"stroke:none;\" d=\"M 1.921875 -0.828125 L 5.359375 -0.828125 L 5.359375 0 L 0.734375 0 L 0.734375 -0.828125 C 1.109375 -1.210938 1.617188 -1.734375 2.265625 -2.390625 C 2.910156 -3.046875 3.316406 -3.46875 3.484375 -3.65625 C 3.796875 -4.007812 4.015625 -4.304688 4.140625 -4.546875 C 4.265625 -4.796875 4.328125 -5.039062 4.328125 -5.28125 C 4.328125 -5.664062 4.191406 -5.976562 3.921875 -6.21875 C 3.648438 -6.46875 3.296875 -6.59375 2.859375 -6.59375 C 2.546875 -6.59375 2.21875 -6.535156 1.875 -6.421875 C 1.539062 -6.316406 1.175781 -6.15625 0.78125 -5.9375 L 0.78125 -6.9375 C 1.175781 -7.09375 1.546875 -7.210938 1.890625 -7.296875 C 2.234375 -7.378906 2.550781 -7.421875 2.84375 -7.421875 C 3.59375 -7.421875 4.191406 -7.234375 4.640625 -6.859375 C 5.097656 -6.484375 5.328125 -5.976562 5.328125 -5.34375 C 5.328125 -5.039062 5.269531 -4.753906 5.15625 -4.484375 C 5.039062 -4.222656 4.835938 -3.910156 4.546875 -3.546875 C 4.460938 -3.453125 4.203125 -3.175781 3.765625 -2.71875 C 3.328125 -2.269531 2.710938 -1.640625 1.921875 -0.828125 Z M 1.921875 -0.828125 \"/>\n",
       "</symbol>\n",
       "<symbol overflow=\"visible\" id=\"glyph0-3\">\n",
       "<path style=\"stroke:none;\" d=\"M 4.0625 -3.9375 C 4.53125 -3.832031 4.894531 -3.617188 5.15625 -3.296875 C 5.425781 -2.984375 5.5625 -2.59375 5.5625 -2.125 C 5.5625 -1.40625 5.3125 -0.847656 4.8125 -0.453125 C 4.320312 -0.0546875 3.617188 0.140625 2.703125 0.140625 C 2.398438 0.140625 2.085938 0.109375 1.765625 0.046875 C 1.441406 -0.015625 1.109375 -0.101562 0.765625 -0.21875 L 0.765625 -1.171875 C 1.035156 -1.015625 1.332031 -0.894531 1.65625 -0.8125 C 1.988281 -0.726562 2.332031 -0.6875 2.6875 -0.6875 C 3.300781 -0.6875 3.769531 -0.804688 4.09375 -1.046875 C 4.414062 -1.296875 4.578125 -1.65625 4.578125 -2.125 C 4.578125 -2.550781 4.425781 -2.882812 4.125 -3.125 C 3.820312 -3.363281 3.40625 -3.484375 2.875 -3.484375 L 2.015625 -3.484375 L 2.015625 -4.296875 L 2.90625 -4.296875 C 3.394531 -4.296875 3.765625 -4.394531 4.015625 -4.59375 C 4.273438 -4.789062 4.40625 -5.070312 4.40625 -5.4375 C 4.40625 -5.800781 4.269531 -6.082031 4 -6.28125 C 3.738281 -6.488281 3.363281 -6.59375 2.875 -6.59375 C 2.601562 -6.59375 2.3125 -6.5625 2 -6.5 C 1.6875 -6.445312 1.347656 -6.359375 0.984375 -6.234375 L 0.984375 -7.109375 C 1.359375 -7.210938 1.707031 -7.289062 2.03125 -7.34375 C 2.363281 -7.394531 2.671875 -7.421875 2.953125 -7.421875 C 3.703125 -7.421875 4.296875 -7.25 4.734375 -6.90625 C 5.171875 -6.570312 5.390625 -6.113281 5.390625 -5.53125 C 5.390625 -5.125 5.273438 -4.78125 5.046875 -4.5 C 4.816406 -4.226562 4.488281 -4.039062 4.0625 -3.9375 Z M 4.0625 -3.9375 \"/>\n",
       "</symbol>\n",
       "<symbol overflow=\"visible\" id=\"glyph0-4\">\n",
       "<path style=\"stroke:none;\" d=\"M 3.78125 -6.4375 L 1.296875 -2.546875 L 3.78125 -2.546875 Z M 3.515625 -7.296875 L 4.765625 -7.296875 L 4.765625 -2.546875 L 5.796875 -2.546875 L 5.796875 -1.71875 L 4.765625 -1.71875 L 4.765625 0 L 3.78125 0 L 3.78125 -1.71875 L 0.484375 -1.71875 L 0.484375 -2.671875 Z M 3.515625 -7.296875 \"/>\n",
       "</symbol>\n",
       "<symbol overflow=\"visible\" id=\"glyph0-5\">\n",
       "<path style=\"stroke:none;\" d=\"M 1.078125 -7.296875 L 4.953125 -7.296875 L 4.953125 -6.453125 L 1.984375 -6.453125 L 1.984375 -4.671875 C 2.128906 -4.722656 2.269531 -4.757812 2.40625 -4.78125 C 2.550781 -4.800781 2.695312 -4.8125 2.84375 -4.8125 C 3.65625 -4.8125 4.296875 -4.585938 4.765625 -4.140625 C 5.242188 -3.703125 5.484375 -3.101562 5.484375 -2.34375 C 5.484375 -1.550781 5.238281 -0.9375 4.75 -0.5 C 4.269531 -0.0703125 3.582031 0.140625 2.6875 0.140625 C 2.382812 0.140625 2.070312 0.113281 1.75 0.0625 C 1.4375 0.0078125 1.109375 -0.0664062 0.765625 -0.171875 L 0.765625 -1.15625 C 1.066406 -1 1.375 -0.878906 1.6875 -0.796875 C 2 -0.722656 2.328125 -0.6875 2.671875 -0.6875 C 3.234375 -0.6875 3.675781 -0.832031 4 -1.125 C 4.332031 -1.425781 4.5 -1.832031 4.5 -2.34375 C 4.5 -2.84375 4.332031 -3.238281 4 -3.53125 C 3.675781 -3.832031 3.234375 -3.984375 2.671875 -3.984375 C 2.410156 -3.984375 2.144531 -3.953125 1.875 -3.890625 C 1.613281 -3.835938 1.347656 -3.75 1.078125 -3.625 Z M 1.078125 -7.296875 \"/>\n",
       "</symbol>\n",
       "<symbol overflow=\"visible\" id=\"glyph0-6\">\n",
       "<path style=\"stroke:none;\" d=\"M 3.296875 -4.03125 C 2.859375 -4.03125 2.507812 -3.878906 2.25 -3.578125 C 1.988281 -3.273438 1.859375 -2.863281 1.859375 -2.34375 C 1.859375 -1.8125 1.988281 -1.394531 2.25 -1.09375 C 2.507812 -0.789062 2.859375 -0.640625 3.296875 -0.640625 C 3.742188 -0.640625 4.09375 -0.789062 4.34375 -1.09375 C 4.601562 -1.394531 4.734375 -1.8125 4.734375 -2.34375 C 4.734375 -2.863281 4.601562 -3.273438 4.34375 -3.578125 C 4.09375 -3.878906 3.742188 -4.03125 3.296875 -4.03125 Z M 5.265625 -7.125 L 5.265625 -6.234375 C 5.015625 -6.347656 4.757812 -6.4375 4.5 -6.5 C 4.25 -6.5625 4.003906 -6.59375 3.765625 -6.59375 C 3.109375 -6.59375 2.609375 -6.375 2.265625 -5.9375 C 1.921875 -5.5 1.726562 -4.832031 1.6875 -3.9375 C 1.875 -4.21875 2.113281 -4.429688 2.40625 -4.578125 C 2.695312 -4.734375 3.015625 -4.8125 3.359375 -4.8125 C 4.085938 -4.8125 4.664062 -4.585938 5.09375 -4.140625 C 5.519531 -3.703125 5.734375 -3.101562 5.734375 -2.34375 C 5.734375 -1.59375 5.507812 -0.988281 5.0625 -0.53125 C 4.625 -0.0820312 4.035156 0.140625 3.296875 0.140625 C 2.453125 0.140625 1.804688 -0.179688 1.359375 -0.828125 C 0.921875 -1.472656 0.703125 -2.410156 0.703125 -3.640625 C 0.703125 -4.785156 0.972656 -5.703125 1.515625 -6.390625 C 2.066406 -7.078125 2.800781 -7.421875 3.71875 -7.421875 C 3.96875 -7.421875 4.21875 -7.394531 4.46875 -7.34375 C 4.71875 -7.300781 4.984375 -7.226562 5.265625 -7.125 Z M 5.265625 -7.125 \"/>\n",
       "</symbol>\n",
       "<symbol overflow=\"visible\" id=\"glyph0-7\">\n",
       "<path style=\"stroke:none;\" d=\"M 0.828125 -7.296875 L 5.515625 -7.296875 L 5.515625 -6.875 L 2.859375 0 L 1.828125 0 L 4.328125 -6.453125 L 0.828125 -6.453125 Z M 0.828125 -7.296875 \"/>\n",
       "</symbol>\n",
       "<symbol overflow=\"visible\" id=\"glyph0-8\">\n",
       "<path style=\"stroke:none;\" d=\"M 3.171875 -3.46875 C 2.703125 -3.46875 2.332031 -3.335938 2.0625 -3.078125 C 1.800781 -2.828125 1.671875 -2.484375 1.671875 -2.046875 C 1.671875 -1.609375 1.800781 -1.265625 2.0625 -1.015625 C 2.332031 -0.765625 2.703125 -0.640625 3.171875 -0.640625 C 3.640625 -0.640625 4.007812 -0.765625 4.28125 -1.015625 C 4.550781 -1.265625 4.6875 -1.609375 4.6875 -2.046875 C 4.6875 -2.484375 4.550781 -2.828125 4.28125 -3.078125 C 4.019531 -3.335938 3.648438 -3.46875 3.171875 -3.46875 Z M 2.1875 -3.875 C 1.769531 -3.976562 1.441406 -4.175781 1.203125 -4.46875 C 0.960938 -4.757812 0.84375 -5.113281 0.84375 -5.53125 C 0.84375 -6.113281 1.050781 -6.570312 1.46875 -6.90625 C 1.882812 -7.25 2.453125 -7.421875 3.171875 -7.421875 C 3.898438 -7.421875 4.472656 -7.25 4.890625 -6.90625 C 5.304688 -6.570312 5.515625 -6.113281 5.515625 -5.53125 C 5.515625 -5.113281 5.394531 -4.757812 5.15625 -4.46875 C 4.914062 -4.175781 4.585938 -3.976562 4.171875 -3.875 C 4.648438 -3.769531 5.019531 -3.554688 5.28125 -3.234375 C 5.539062 -2.910156 5.671875 -2.515625 5.671875 -2.046875 C 5.671875 -1.335938 5.457031 -0.796875 5.03125 -0.421875 C 4.601562 -0.046875 3.984375 0.140625 3.171875 0.140625 C 2.367188 0.140625 1.75 -0.046875 1.3125 -0.421875 C 0.882812 -0.796875 0.671875 -1.335938 0.671875 -2.046875 C 0.671875 -2.515625 0.804688 -2.910156 1.078125 -3.234375 C 1.347656 -3.554688 1.71875 -3.769531 2.1875 -3.875 Z M 1.828125 -5.4375 C 1.828125 -5.0625 1.945312 -4.765625 2.1875 -4.546875 C 2.425781 -4.335938 2.753906 -4.234375 3.171875 -4.234375 C 3.597656 -4.234375 3.929688 -4.335938 4.171875 -4.546875 C 4.410156 -4.765625 4.53125 -5.0625 4.53125 -5.4375 C 4.53125 -5.8125 4.410156 -6.101562 4.171875 -6.3125 C 3.929688 -6.53125 3.597656 -6.640625 3.171875 -6.640625 C 2.753906 -6.640625 2.425781 -6.53125 2.1875 -6.3125 C 1.945312 -6.101562 1.828125 -5.8125 1.828125 -5.4375 Z M 1.828125 -5.4375 \"/>\n",
       "</symbol>\n",
       "<symbol overflow=\"visible\" id=\"glyph0-9\">\n",
       "<path style=\"stroke:none;\" d=\"M 1.09375 -0.15625 L 1.09375 -1.046875 C 1.34375 -0.929688 1.59375 -0.84375 1.84375 -0.78125 C 2.101562 -0.71875 2.351562 -0.6875 2.59375 -0.6875 C 3.25 -0.6875 3.75 -0.90625 4.09375 -1.34375 C 4.4375 -1.78125 4.628906 -2.445312 4.671875 -3.34375 C 4.484375 -3.0625 4.242188 -2.84375 3.953125 -2.6875 C 3.671875 -2.539062 3.351562 -2.46875 3 -2.46875 C 2.269531 -2.46875 1.691406 -2.6875 1.265625 -3.125 C 0.835938 -3.570312 0.625 -4.175781 0.625 -4.9375 C 0.625 -5.6875 0.84375 -6.285156 1.28125 -6.734375 C 1.726562 -7.191406 2.320312 -7.421875 3.0625 -7.421875 C 3.90625 -7.421875 4.546875 -7.097656 4.984375 -6.453125 C 5.429688 -5.804688 5.65625 -4.867188 5.65625 -3.640625 C 5.65625 -2.492188 5.382812 -1.578125 4.84375 -0.890625 C 4.300781 -0.203125 3.566406 0.140625 2.640625 0.140625 C 2.390625 0.140625 2.140625 0.113281 1.890625 0.0625 C 1.640625 0.0195312 1.375 -0.0507812 1.09375 -0.15625 Z M 3.0625 -3.25 C 3.5 -3.25 3.847656 -3.398438 4.109375 -3.703125 C 4.367188 -4.003906 4.5 -4.414062 4.5 -4.9375 C 4.5 -5.46875 4.367188 -5.882812 4.109375 -6.1875 C 3.847656 -6.488281 3.5 -6.640625 3.0625 -6.640625 C 2.613281 -6.640625 2.257812 -6.488281 2 -6.1875 C 1.75 -5.882812 1.625 -5.46875 1.625 -4.9375 C 1.625 -4.414062 1.75 -4.003906 2 -3.703125 C 2.257812 -3.398438 2.613281 -3.25 3.0625 -3.25 Z M 3.0625 -3.25 \"/>\n",
       "</symbol>\n",
       "<symbol overflow=\"visible\" id=\"glyph0-10\">\n",
       "<path style=\"stroke:none;\" d=\"M 3.171875 -6.640625 C 2.671875 -6.640625 2.289062 -6.390625 2.03125 -5.890625 C 1.78125 -5.390625 1.65625 -4.640625 1.65625 -3.640625 C 1.65625 -2.640625 1.78125 -1.890625 2.03125 -1.390625 C 2.289062 -0.890625 2.671875 -0.640625 3.171875 -0.640625 C 3.691406 -0.640625 4.078125 -0.890625 4.328125 -1.390625 C 4.585938 -1.890625 4.71875 -2.640625 4.71875 -3.640625 C 4.71875 -4.640625 4.585938 -5.390625 4.328125 -5.890625 C 4.078125 -6.390625 3.691406 -6.640625 3.171875 -6.640625 Z M 3.171875 -7.421875 C 3.992188 -7.421875 4.617188 -7.097656 5.046875 -6.453125 C 5.484375 -5.804688 5.703125 -4.867188 5.703125 -3.640625 C 5.703125 -2.410156 5.484375 -1.472656 5.046875 -0.828125 C 4.617188 -0.179688 3.992188 0.140625 3.171875 0.140625 C 2.359375 0.140625 1.734375 -0.179688 1.296875 -0.828125 C 0.867188 -1.472656 0.65625 -2.410156 0.65625 -3.640625 C 0.65625 -4.867188 0.867188 -5.804688 1.296875 -6.453125 C 1.734375 -7.097656 2.359375 -7.421875 3.171875 -7.421875 Z M 3.171875 -7.421875 \"/>\n",
       "</symbol>\n",
       "</g>\n",
       "</defs>\n",
       "<g id=\"surface2\">\n",
       "<rect x=\"0\" y=\"0\" width=\"600\" height=\"250\" style=\"fill:rgb(100%,100%,100%);fill-opacity:1;stroke:none;\"/>\n",
       "<path style=\"fill:none;stroke-width:1;stroke-linecap:butt;stroke-linejoin:miter;stroke:rgb(26.666667%,26.666667%,26.666667%);stroke-opacity:1;stroke-miterlimit:10;\" d=\"M 580 139.582031 L 489.75 94.929688 \"/>\n",
       "<path style=\" stroke:none;fill-rule:nonzero;fill:rgb(26.666667%,26.666667%,26.666667%);fill-opacity:1;\" d=\"M 476.960938 88.601562 L 491.804688 90.773438 L 487.695312 99.082031 L 476.960938 88.601562 \"/>\n",
       "<path style=\"fill:none;stroke-width:1;stroke-linecap:butt;stroke-linejoin:miter;stroke:rgb(26.666667%,26.666667%,26.666667%);stroke-opacity:1;stroke-miterlimit:10;\" d=\"M 468 84.167969 L 379.160156 56.40625 \"/>\n",
       "<path style=\" stroke:none;fill-rule:nonzero;fill:rgb(26.666667%,26.666667%,26.666667%);fill-opacity:1;\" d=\"M 365.542969 52.148438 L 380.542969 51.980469 L 377.777344 60.828125 L 365.542969 52.148438 \"/>\n",
       "<path style=\"fill:none;stroke-width:1;stroke-linecap:butt;stroke-linejoin:miter;stroke:rgb(26.666667%,26.666667%,26.666667%);stroke-opacity:1;stroke-miterlimit:10;\" d=\"M 356 49.167969 L 267.976562 35.414062 \"/>\n",
       "<path style=\" stroke:none;fill-rule:nonzero;fill:rgb(26.666667%,26.666667%,26.666667%);fill-opacity:1;\" d=\"M 253.878906 33.210938 L 268.691406 30.832031 L 267.257812 39.992188 L 253.878906 33.210938 \"/>\n",
       "<path style=\"fill:none;stroke-width:1;stroke-linecap:butt;stroke-linejoin:miter;stroke:rgb(26.666667%,26.666667%,26.666667%);stroke-opacity:1;stroke-miterlimit:10;\" d=\"M 244 31.667969 L 156.136719 22.515625 \"/>\n",
       "<path style=\" stroke:none;fill-rule:nonzero;fill:rgb(26.666667%,26.666667%,26.666667%);fill-opacity:1;\" d=\"M 141.945312 21.035156 L 156.617188 17.902344 L 155.65625 27.125 L 141.945312 21.035156 \"/>\n",
       "<path style=\"fill:none;stroke-width:1;stroke-linecap:butt;stroke-linejoin:miter;stroke:rgb(26.666667%,26.666667%,26.666667%);stroke-opacity:1;stroke-miterlimit:10;\" d=\"M 132 20 L 44.265625 20 \"/>\n",
       "<path style=\" stroke:none;fill-rule:nonzero;fill:rgb(26.666667%,26.666667%,26.666667%);fill-opacity:1;\" d=\"M 30 20 L 44.265625 15.363281 L 44.265625 24.636719 L 30 20 \"/>\n",
       "<path style=\"fill:none;stroke-width:1;stroke-linecap:butt;stroke-linejoin:miter;stroke:rgb(26.666667%,26.666667%,26.666667%);stroke-opacity:1;stroke-miterlimit:10;\" d=\"M 244 31.667969 L 156.136719 40.820312 \"/>\n",
       "<path style=\" stroke:none;fill-rule:nonzero;fill:rgb(26.666667%,26.666667%,26.666667%);fill-opacity:1;\" d=\"M 141.945312 42.296875 L 155.65625 36.207031 L 156.617188 45.429688 L 141.945312 42.296875 \"/>\n",
       "<path style=\"fill:none;stroke-width:1;stroke-linecap:butt;stroke-linejoin:miter;stroke:rgb(26.666667%,26.666667%,26.666667%);stroke-opacity:1;stroke-miterlimit:10;\" d=\"M 356 49.167969 L 267.976562 62.921875 \"/>\n",
       "<path style=\" stroke:none;fill-rule:nonzero;fill:rgb(26.666667%,26.666667%,26.666667%);fill-opacity:1;\" d=\"M 253.878906 65.121094 L 267.257812 58.339844 L 268.691406 67.5 L 253.878906 65.121094 \"/>\n",
       "<path style=\"fill:none;stroke-width:1;stroke-linecap:butt;stroke-linejoin:miter;stroke:rgb(26.666667%,26.666667%,26.666667%);stroke-opacity:1;stroke-miterlimit:10;\" d=\"M 244 66.667969 L 156.265625 66.667969 \"/>\n",
       "<path style=\" stroke:none;fill-rule:nonzero;fill:rgb(26.666667%,26.666667%,26.666667%);fill-opacity:1;\" d=\"M 142 66.667969 L 156.265625 62.03125 L 156.265625 71.300781 L 142 66.667969 \"/>\n",
       "<path style=\"fill:none;stroke-width:1;stroke-linecap:butt;stroke-linejoin:miter;stroke:rgb(26.666667%,26.666667%,26.666667%);stroke-opacity:1;stroke-miterlimit:10;\" d=\"M 132 66.667969 L 44.265625 66.667969 \"/>\n",
       "<path style=\" stroke:none;fill-rule:nonzero;fill:rgb(26.666667%,26.666667%,26.666667%);fill-opacity:1;\" d=\"M 30 66.667969 L 44.265625 62.03125 L 44.265625 71.300781 L 30 66.667969 \"/>\n",
       "<path style=\"fill:none;stroke-width:1;stroke-linecap:butt;stroke-linejoin:miter;stroke:rgb(26.666667%,26.666667%,26.666667%);stroke-opacity:1;stroke-miterlimit:10;\" d=\"M 468 84.167969 L 379.160156 111.929688 \"/>\n",
       "<path style=\" stroke:none;fill-rule:nonzero;fill:rgb(26.666667%,26.666667%,26.666667%);fill-opacity:1;\" d=\"M 365.542969 116.183594 L 377.777344 107.503906 L 380.542969 116.351562 L 365.542969 116.183594 \"/>\n",
       "<path style=\"fill:none;stroke-width:1;stroke-linecap:butt;stroke-linejoin:miter;stroke:rgb(26.666667%,26.666667%,26.666667%);stroke-opacity:1;stroke-miterlimit:10;\" d=\"M 356 119.167969 L 267.976562 105.414062 \"/>\n",
       "<path style=\" stroke:none;fill-rule:nonzero;fill:rgb(26.666667%,26.666667%,26.666667%);fill-opacity:1;\" d=\"M 253.878906 103.210938 L 268.691406 100.832031 L 267.257812 109.992188 L 253.878906 103.210938 \"/>\n",
       "<path style=\"fill:none;stroke-width:1;stroke-linecap:butt;stroke-linejoin:miter;stroke:rgb(26.666667%,26.666667%,26.666667%);stroke-opacity:1;stroke-miterlimit:10;\" d=\"M 244 101.667969 L 156.136719 92.515625 \"/>\n",
       "<path style=\" stroke:none;fill-rule:nonzero;fill:rgb(26.666667%,26.666667%,26.666667%);fill-opacity:1;\" d=\"M 141.945312 91.035156 L 156.617188 87.902344 L 155.65625 97.125 L 141.945312 91.035156 \"/>\n",
       "<path style=\"fill:none;stroke-width:1;stroke-linecap:butt;stroke-linejoin:miter;stroke:rgb(26.666667%,26.666667%,26.666667%);stroke-opacity:1;stroke-miterlimit:10;\" d=\"M 132 90 L 44.265625 90 \"/>\n",
       "<path style=\" stroke:none;fill-rule:nonzero;fill:rgb(26.666667%,26.666667%,26.666667%);fill-opacity:1;\" d=\"M 30 90 L 44.265625 85.363281 L 44.265625 94.636719 L 30 90 \"/>\n",
       "<path style=\"fill:none;stroke-width:1;stroke-linecap:butt;stroke-linejoin:miter;stroke:rgb(26.666667%,26.666667%,26.666667%);stroke-opacity:1;stroke-miterlimit:10;\" d=\"M 244 101.667969 L 156.136719 110.820312 \"/>\n",
       "<path style=\" stroke:none;fill-rule:nonzero;fill:rgb(26.666667%,26.666667%,26.666667%);fill-opacity:1;\" d=\"M 141.945312 112.296875 L 155.65625 106.207031 L 156.617188 115.429688 L 141.945312 112.296875 \"/>\n",
       "<path style=\"fill:none;stroke-width:1;stroke-linecap:butt;stroke-linejoin:miter;stroke:rgb(26.666667%,26.666667%,26.666667%);stroke-opacity:1;stroke-miterlimit:10;\" d=\"M 356 119.167969 L 267.976562 132.921875 \"/>\n",
       "<path style=\" stroke:none;fill-rule:nonzero;fill:rgb(26.666667%,26.666667%,26.666667%);fill-opacity:1;\" d=\"M 253.878906 135.121094 L 267.257812 128.339844 L 268.691406 137.5 L 253.878906 135.121094 \"/>\n",
       "<path style=\"fill:none;stroke-width:1;stroke-linecap:butt;stroke-linejoin:miter;stroke:rgb(26.666667%,26.666667%,26.666667%);stroke-opacity:1;stroke-miterlimit:10;\" d=\"M 244 136.667969 L 156.265625 136.667969 \"/>\n",
       "<path style=\" stroke:none;fill-rule:nonzero;fill:rgb(26.666667%,26.666667%,26.666667%);fill-opacity:1;\" d=\"M 142 136.667969 L 156.265625 132.03125 L 156.265625 141.300781 L 142 136.667969 \"/>\n",
       "<path style=\"fill:none;stroke-width:1;stroke-linecap:butt;stroke-linejoin:miter;stroke:rgb(26.666667%,26.666667%,26.666667%);stroke-opacity:1;stroke-miterlimit:10;\" d=\"M 132 136.667969 L 44.265625 136.667969 \"/>\n",
       "<path style=\" stroke:none;fill-rule:nonzero;fill:rgb(26.666667%,26.666667%,26.666667%);fill-opacity:1;\" d=\"M 30 136.667969 L 44.265625 132.03125 L 44.265625 141.300781 L 30 136.667969 \"/>\n",
       "<path style=\"fill:none;stroke-width:1;stroke-linecap:butt;stroke-linejoin:miter;stroke:rgb(26.666667%,26.666667%,26.666667%);stroke-opacity:1;stroke-miterlimit:10;\" d=\"M 580 139.582031 L 489.75 184.238281 \"/>\n",
       "<path style=\" stroke:none;fill-rule:nonzero;fill:rgb(26.666667%,26.666667%,26.666667%);fill-opacity:1;\" d=\"M 476.960938 190.566406 L 487.695312 180.085938 L 491.804688 188.394531 L 476.960938 190.566406 \"/>\n",
       "<path style=\"fill:none;stroke-width:1;stroke-linecap:butt;stroke-linejoin:miter;stroke:rgb(26.666667%,26.666667%,26.666667%);stroke-opacity:1;stroke-miterlimit:10;\" d=\"M 468 195 L 379.753906 176.617188 \"/>\n",
       "<path style=\" stroke:none;fill-rule:nonzero;fill:rgb(26.666667%,26.666667%,26.666667%);fill-opacity:1;\" d=\"M 365.789062 173.707031 L 380.699219 172.078125 L 378.808594 181.152344 L 365.789062 173.707031 \"/>\n",
       "<path style=\"fill:none;stroke-width:1;stroke-linecap:butt;stroke-linejoin:miter;stroke:rgb(26.666667%,26.666667%,26.666667%);stroke-opacity:1;stroke-miterlimit:10;\" d=\"M 356 171.667969 L 268.265625 171.667969 \"/>\n",
       "<path style=\" stroke:none;fill-rule:nonzero;fill:rgb(26.666667%,26.666667%,26.666667%);fill-opacity:1;\" d=\"M 254 171.667969 L 268.265625 167.03125 L 268.265625 176.300781 L 254 171.667969 \"/>\n",
       "<path style=\"fill:none;stroke-width:1;stroke-linecap:butt;stroke-linejoin:miter;stroke:rgb(26.666667%,26.666667%,26.666667%);stroke-opacity:1;stroke-miterlimit:10;\" d=\"M 244 171.667969 L 156.136719 162.515625 \"/>\n",
       "<path style=\" stroke:none;fill-rule:nonzero;fill:rgb(26.666667%,26.666667%,26.666667%);fill-opacity:1;\" d=\"M 141.945312 161.035156 L 156.617188 157.902344 L 155.65625 167.125 L 141.945312 161.035156 \"/>\n",
       "<path style=\"fill:none;stroke-width:1;stroke-linecap:butt;stroke-linejoin:miter;stroke:rgb(26.666667%,26.666667%,26.666667%);stroke-opacity:1;stroke-miterlimit:10;\" d=\"M 244 171.667969 L 156.136719 180.820312 \"/>\n",
       "<path style=\" stroke:none;fill-rule:nonzero;fill:rgb(26.666667%,26.666667%,26.666667%);fill-opacity:1;\" d=\"M 141.945312 182.296875 L 155.65625 176.207031 L 156.617188 185.429688 L 141.945312 182.296875 \"/>\n",
       "<path style=\"fill:none;stroke-width:1;stroke-linecap:butt;stroke-linejoin:miter;stroke:rgb(26.666667%,26.666667%,26.666667%);stroke-opacity:1;stroke-miterlimit:10;\" d=\"M 468 195 L 379.753906 213.382812 \"/>\n",
       "<path style=\" stroke:none;fill-rule:nonzero;fill:rgb(26.666667%,26.666667%,26.666667%);fill-opacity:1;\" d=\"M 365.789062 216.292969 L 378.808594 208.847656 L 380.699219 217.921875 L 365.789062 216.292969 \"/>\n",
       "<path style=\"fill:none;stroke-width:1;stroke-linecap:butt;stroke-linejoin:miter;stroke:rgb(26.666667%,26.666667%,26.666667%);stroke-opacity:1;stroke-miterlimit:10;\" d=\"M 356 218.332031 L 268.265625 218.332031 \"/>\n",
       "<path style=\" stroke:none;fill-rule:nonzero;fill:rgb(26.666667%,26.666667%,26.666667%);fill-opacity:1;\" d=\"M 254 218.332031 L 268.265625 213.699219 L 268.265625 222.96875 L 254 218.332031 \"/>\n",
       "<path style=\"fill:none;stroke-width:1;stroke-linecap:butt;stroke-linejoin:miter;stroke:rgb(26.666667%,26.666667%,26.666667%);stroke-opacity:1;stroke-miterlimit:10;\" d=\"M 244 218.332031 L 156.136719 209.179688 \"/>\n",
       "<path style=\" stroke:none;fill-rule:nonzero;fill:rgb(26.666667%,26.666667%,26.666667%);fill-opacity:1;\" d=\"M 141.945312 207.703125 L 156.617188 204.570312 L 155.65625 213.792969 L 141.945312 207.703125 \"/>\n",
       "<path style=\"fill:none;stroke-width:1;stroke-linecap:butt;stroke-linejoin:miter;stroke:rgb(26.666667%,26.666667%,26.666667%);stroke-opacity:1;stroke-miterlimit:10;\" d=\"M 132 206.667969 L 44.265625 206.667969 \"/>\n",
       "<path style=\" stroke:none;fill-rule:nonzero;fill:rgb(26.666667%,26.666667%,26.666667%);fill-opacity:1;\" d=\"M 30 206.667969 L 44.265625 202.03125 L 44.265625 211.300781 L 30 206.667969 \"/>\n",
       "<path style=\"fill:none;stroke-width:1;stroke-linecap:butt;stroke-linejoin:miter;stroke:rgb(26.666667%,26.666667%,26.666667%);stroke-opacity:1;stroke-miterlimit:10;\" d=\"M 244 218.332031 L 156.136719 227.484375 \"/>\n",
       "<path style=\" stroke:none;fill-rule:nonzero;fill:rgb(26.666667%,26.666667%,26.666667%);fill-opacity:1;\" d=\"M 141.945312 228.964844 L 155.65625 222.875 L 156.617188 232.097656 L 141.945312 228.964844 \"/>\n",
       "<path style=\"fill:none;stroke-width:1;stroke-linecap:butt;stroke-linejoin:miter;stroke:rgb(26.666667%,26.666667%,26.666667%);stroke-opacity:1;stroke-miterlimit:10;\" d=\"M 132 230 L 44.265625 230 \"/>\n",
       "<path style=\" stroke:none;fill-rule:nonzero;fill:rgb(26.666667%,26.666667%,26.666667%);fill-opacity:1;\" d=\"M 30 230 L 44.265625 225.363281 L 44.265625 234.636719 L 30 230 \"/>\n",
       "<path style=\"fill-rule:nonzero;fill:rgb(100%,100%,100%);fill-opacity:1;stroke-width:1;stroke-linecap:butt;stroke-linejoin:miter;stroke:rgb(0%,0%,0%);stroke-opacity:1;stroke-miterlimit:10;\" d=\"M 590 139.582031 C 590 145.105469 585.523438 149.582031 580 149.582031 C 574.476562 149.582031 570 145.105469 570 139.582031 C 570 134.058594 574.476562 129.582031 580 129.582031 C 585.523438 129.582031 590 134.058594 590 139.582031 \"/>\n",
       "<path style=\"fill-rule:nonzero;fill:rgb(100%,100%,100%);fill-opacity:1;stroke-width:1;stroke-linecap:butt;stroke-linejoin:miter;stroke:rgb(0%,0%,0%);stroke-opacity:1;stroke-miterlimit:10;\" d=\"M 478 84.167969 C 478 89.691406 473.523438 94.167969 468 94.167969 C 462.476562 94.167969 458 89.691406 458 84.167969 C 458 78.644531 462.476562 74.167969 468 74.167969 C 473.523438 74.167969 478 78.644531 478 84.167969 \"/>\n",
       "<path style=\"fill-rule:nonzero;fill:rgb(100%,100%,100%);fill-opacity:1;stroke-width:1;stroke-linecap:butt;stroke-linejoin:miter;stroke:rgb(0%,0%,0%);stroke-opacity:1;stroke-miterlimit:10;\" d=\"M 366 49.167969 C 366 54.691406 361.523438 59.167969 356 59.167969 C 350.476562 59.167969 346 54.691406 346 49.167969 C 346 43.644531 350.476562 39.167969 356 39.167969 C 361.523438 39.167969 366 43.644531 366 49.167969 \"/>\n",
       "<path style=\"fill-rule:nonzero;fill:rgb(60.392157%,80.392157%,19.607843%);fill-opacity:1;stroke-width:1;stroke-linecap:butt;stroke-linejoin:miter;stroke:rgb(0%,0%,0%);stroke-opacity:1;stroke-miterlimit:10;\" d=\"M 254 31.667969 C 254 37.191406 249.523438 41.667969 244 41.667969 C 238.476562 41.667969 234 37.191406 234 31.667969 C 234 26.144531 238.476562 21.667969 244 21.667969 C 249.523438 21.667969 254 26.144531 254 31.667969 \"/>\n",
       "<path style=\"fill-rule:nonzero;fill:rgb(60.392157%,80.392157%,19.607843%);fill-opacity:1;stroke-width:1;stroke-linecap:butt;stroke-linejoin:miter;stroke:rgb(0%,0%,0%);stroke-opacity:1;stroke-miterlimit:10;\" d=\"M 142 20 C 142 25.523438 137.523438 30 132 30 C 126.476562 30 122 25.523438 122 20 C 122 14.476562 126.476562 10 132 10 C 137.523438 10 142 14.476562 142 20 \"/>\n",
       "<path style=\"fill-rule:nonzero;fill:rgb(100%,64.705882%,0%);fill-opacity:1;stroke-width:1;stroke-linecap:butt;stroke-linejoin:miter;stroke:rgb(0%,0%,0%);stroke-opacity:1;stroke-miterlimit:10;\" d=\"M 30 20 C 30 25.523438 25.523438 30 20 30 C 14.476562 30 10 25.523438 10 20 C 10 14.476562 14.476562 10 20 10 C 25.523438 10 30 14.476562 30 20 \"/>\n",
       "<path style=\"fill-rule:nonzero;fill:rgb(60.392157%,80.392157%,19.607843%);fill-opacity:1;stroke-width:1;stroke-linecap:butt;stroke-linejoin:miter;stroke:rgb(0%,0%,0%);stroke-opacity:1;stroke-miterlimit:10;\" d=\"M 142 43.332031 C 142 48.855469 137.523438 53.332031 132 53.332031 C 126.476562 53.332031 122 48.855469 122 43.332031 C 122 37.808594 126.476562 33.332031 132 33.332031 C 137.523438 33.332031 142 37.808594 142 43.332031 \"/>\n",
       "<path style=\"fill-rule:nonzero;fill:rgb(100%,100%,100%);fill-opacity:1;stroke-width:1;stroke-linecap:butt;stroke-linejoin:miter;stroke:rgb(0%,0%,0%);stroke-opacity:1;stroke-miterlimit:10;\" d=\"M 254 66.667969 C 254 72.191406 249.523438 76.667969 244 76.667969 C 238.476562 76.667969 234 72.191406 234 66.667969 C 234 61.144531 238.476562 56.667969 244 56.667969 C 249.523438 56.667969 254 61.144531 254 66.667969 \"/>\n",
       "<path style=\"fill-rule:nonzero;fill:rgb(60.392157%,80.392157%,19.607843%);fill-opacity:1;stroke-width:1;stroke-linecap:butt;stroke-linejoin:miter;stroke:rgb(0%,0%,0%);stroke-opacity:1;stroke-miterlimit:10;\" d=\"M 142 66.667969 C 142 72.191406 137.523438 76.667969 132 76.667969 C 126.476562 76.667969 122 72.191406 122 66.667969 C 122 61.144531 126.476562 56.667969 132 56.667969 C 137.523438 56.667969 142 61.144531 142 66.667969 \"/>\n",
       "<path style=\"fill-rule:nonzero;fill:rgb(60.392157%,80.392157%,19.607843%);fill-opacity:1;stroke-width:1;stroke-linecap:butt;stroke-linejoin:miter;stroke:rgb(0%,0%,0%);stroke-opacity:1;stroke-miterlimit:10;\" d=\"M 30 66.667969 C 30 72.191406 25.523438 76.667969 20 76.667969 C 14.476562 76.667969 10 72.191406 10 66.667969 C 10 61.144531 14.476562 56.667969 20 56.667969 C 25.523438 56.667969 30 61.144531 30 66.667969 \"/>\n",
       "<path style=\"fill-rule:nonzero;fill:rgb(100%,100%,100%);fill-opacity:1;stroke-width:1;stroke-linecap:butt;stroke-linejoin:miter;stroke:rgb(0%,0%,0%);stroke-opacity:1;stroke-miterlimit:10;\" d=\"M 366 119.167969 C 366 124.691406 361.523438 129.167969 356 129.167969 C 350.476562 129.167969 346 124.691406 346 119.167969 C 346 113.644531 350.476562 109.167969 356 109.167969 C 361.523438 109.167969 366 113.644531 366 119.167969 \"/>\n",
       "<path style=\"fill-rule:nonzero;fill:rgb(60.392157%,80.392157%,19.607843%);fill-opacity:1;stroke-width:1;stroke-linecap:butt;stroke-linejoin:miter;stroke:rgb(0%,0%,0%);stroke-opacity:1;stroke-miterlimit:10;\" d=\"M 254 101.667969 C 254 107.191406 249.523438 111.667969 244 111.667969 C 238.476562 111.667969 234 107.191406 234 101.667969 C 234 96.144531 238.476562 91.667969 244 91.667969 C 249.523438 91.667969 254 96.144531 254 101.667969 \"/>\n",
       "<path style=\"fill-rule:nonzero;fill:rgb(60.392157%,80.392157%,19.607843%);fill-opacity:1;stroke-width:1;stroke-linecap:butt;stroke-linejoin:miter;stroke:rgb(0%,0%,0%);stroke-opacity:1;stroke-miterlimit:10;\" d=\"M 142 90 C 142 95.523438 137.523438 100 132 100 C 126.476562 100 122 95.523438 122 90 C 122 84.476562 126.476562 80 132 80 C 137.523438 80 142 84.476562 142 90 \"/>\n",
       "<path style=\"fill-rule:nonzero;fill:rgb(60.392157%,80.392157%,19.607843%);fill-opacity:1;stroke-width:1;stroke-linecap:butt;stroke-linejoin:miter;stroke:rgb(0%,0%,0%);stroke-opacity:1;stroke-miterlimit:10;\" d=\"M 30 90 C 30 95.523438 25.523438 100 20 100 C 14.476562 100 10 95.523438 10 90 C 10 84.476562 14.476562 80 20 80 C 25.523438 80 30 84.476562 30 90 \"/>\n",
       "<path style=\"fill-rule:nonzero;fill:rgb(60.392157%,80.392157%,19.607843%);fill-opacity:1;stroke-width:1;stroke-linecap:butt;stroke-linejoin:miter;stroke:rgb(0%,0%,0%);stroke-opacity:1;stroke-miterlimit:10;\" d=\"M 142 113.332031 C 142 118.855469 137.523438 123.332031 132 123.332031 C 126.476562 123.332031 122 118.855469 122 113.332031 C 122 107.808594 126.476562 103.332031 132 103.332031 C 137.523438 103.332031 142 107.808594 142 113.332031 \"/>\n",
       "<path style=\"fill-rule:nonzero;fill:rgb(60.392157%,80.392157%,19.607843%);fill-opacity:1;stroke-width:1;stroke-linecap:butt;stroke-linejoin:miter;stroke:rgb(0%,0%,0%);stroke-opacity:1;stroke-miterlimit:10;\" d=\"M 254 136.667969 C 254 142.191406 249.523438 146.667969 244 146.667969 C 238.476562 146.667969 234 142.191406 234 136.667969 C 234 131.144531 238.476562 126.667969 244 126.667969 C 249.523438 126.667969 254 131.144531 254 136.667969 \"/>\n",
       "<path style=\"fill-rule:nonzero;fill:rgb(60.392157%,80.392157%,19.607843%);fill-opacity:1;stroke-width:1;stroke-linecap:butt;stroke-linejoin:miter;stroke:rgb(0%,0%,0%);stroke-opacity:1;stroke-miterlimit:10;\" d=\"M 142 136.667969 C 142 142.191406 137.523438 146.667969 132 146.667969 C 126.476562 146.667969 122 142.191406 122 136.667969 C 122 131.144531 126.476562 126.667969 132 126.667969 C 137.523438 126.667969 142 131.144531 142 136.667969 \"/>\n",
       "<path style=\"fill-rule:nonzero;fill:rgb(60.392157%,80.392157%,19.607843%);fill-opacity:1;stroke-width:1;stroke-linecap:butt;stroke-linejoin:miter;stroke:rgb(0%,0%,0%);stroke-opacity:1;stroke-miterlimit:10;\" d=\"M 30 136.667969 C 30 142.191406 25.523438 146.667969 20 146.667969 C 14.476562 146.667969 10 142.191406 10 136.667969 C 10 131.144531 14.476562 126.667969 20 126.667969 C 25.523438 126.667969 30 131.144531 30 136.667969 \"/>\n",
       "<path style=\"fill-rule:nonzero;fill:rgb(100%,100%,100%);fill-opacity:1;stroke-width:1;stroke-linecap:butt;stroke-linejoin:miter;stroke:rgb(0%,0%,0%);stroke-opacity:1;stroke-miterlimit:10;\" d=\"M 478 195 C 478 200.523438 473.523438 205 468 205 C 462.476562 205 458 200.523438 458 195 C 458 189.476562 462.476562 185 468 185 C 473.523438 185 478 189.476562 478 195 \"/>\n",
       "<path style=\"fill-rule:nonzero;fill:rgb(100%,100%,100%);fill-opacity:1;stroke-width:1;stroke-linecap:butt;stroke-linejoin:miter;stroke:rgb(0%,0%,0%);stroke-opacity:1;stroke-miterlimit:10;\" d=\"M 366 171.667969 C 366 177.191406 361.523438 181.667969 356 181.667969 C 350.476562 181.667969 346 177.191406 346 171.667969 C 346 166.144531 350.476562 161.667969 356 161.667969 C 361.523438 161.667969 366 166.144531 366 171.667969 \"/>\n",
       "<path style=\"fill-rule:nonzero;fill:rgb(60.392157%,80.392157%,19.607843%);fill-opacity:1;stroke-width:1;stroke-linecap:butt;stroke-linejoin:miter;stroke:rgb(0%,0%,0%);stroke-opacity:1;stroke-miterlimit:10;\" d=\"M 254 171.667969 C 254 177.191406 249.523438 181.667969 244 181.667969 C 238.476562 181.667969 234 177.191406 234 171.667969 C 234 166.144531 238.476562 161.667969 244 161.667969 C 249.523438 161.667969 254 166.144531 254 171.667969 \"/>\n",
       "<path style=\"fill-rule:nonzero;fill:rgb(60.392157%,80.392157%,19.607843%);fill-opacity:1;stroke-width:1;stroke-linecap:butt;stroke-linejoin:miter;stroke:rgb(0%,0%,0%);stroke-opacity:1;stroke-miterlimit:10;\" d=\"M 142 160 C 142 165.523438 137.523438 170 132 170 C 126.476562 170 122 165.523438 122 160 C 122 154.476562 126.476562 150 132 150 C 137.523438 150 142 154.476562 142 160 \"/>\n",
       "<path style=\"fill-rule:nonzero;fill:rgb(60.392157%,80.392157%,19.607843%);fill-opacity:1;stroke-width:1;stroke-linecap:butt;stroke-linejoin:miter;stroke:rgb(0%,0%,0%);stroke-opacity:1;stroke-miterlimit:10;\" d=\"M 142 183.332031 C 142 188.855469 137.523438 193.332031 132 193.332031 C 126.476562 193.332031 122 188.855469 122 183.332031 C 122 177.808594 126.476562 173.332031 132 173.332031 C 137.523438 173.332031 142 177.808594 142 183.332031 \"/>\n",
       "<path style=\"fill-rule:nonzero;fill:rgb(100%,100%,100%);fill-opacity:1;stroke-width:1;stroke-linecap:butt;stroke-linejoin:miter;stroke:rgb(0%,0%,0%);stroke-opacity:1;stroke-miterlimit:10;\" d=\"M 366 218.332031 C 366 223.855469 361.523438 228.332031 356 228.332031 C 350.476562 228.332031 346 223.855469 346 218.332031 C 346 212.808594 350.476562 208.332031 356 208.332031 C 361.523438 208.332031 366 212.808594 366 218.332031 \"/>\n",
       "<path style=\"fill-rule:nonzero;fill:rgb(60.392157%,80.392157%,19.607843%);fill-opacity:1;stroke-width:1;stroke-linecap:butt;stroke-linejoin:miter;stroke:rgb(0%,0%,0%);stroke-opacity:1;stroke-miterlimit:10;\" d=\"M 254 218.332031 C 254 223.855469 249.523438 228.332031 244 228.332031 C 238.476562 228.332031 234 223.855469 234 218.332031 C 234 212.808594 238.476562 208.332031 244 208.332031 C 249.523438 208.332031 254 212.808594 254 218.332031 \"/>\n",
       "<path style=\"fill-rule:nonzero;fill:rgb(60.392157%,80.392157%,19.607843%);fill-opacity:1;stroke-width:1;stroke-linecap:butt;stroke-linejoin:miter;stroke:rgb(0%,0%,0%);stroke-opacity:1;stroke-miterlimit:10;\" d=\"M 142 206.667969 C 142 212.191406 137.523438 216.667969 132 216.667969 C 126.476562 216.667969 122 212.191406 122 206.667969 C 122 201.144531 126.476562 196.667969 132 196.667969 C 137.523438 196.667969 142 201.144531 142 206.667969 \"/>\n",
       "<path style=\"fill-rule:nonzero;fill:rgb(60.392157%,80.392157%,19.607843%);fill-opacity:1;stroke-width:1;stroke-linecap:butt;stroke-linejoin:miter;stroke:rgb(0%,0%,0%);stroke-opacity:1;stroke-miterlimit:10;\" d=\"M 30 206.667969 C 30 212.191406 25.523438 216.667969 20 216.667969 C 14.476562 216.667969 10 212.191406 10 206.667969 C 10 201.144531 14.476562 196.667969 20 196.667969 C 25.523438 196.667969 30 201.144531 30 206.667969 \"/>\n",
       "<path style=\"fill-rule:nonzero;fill:rgb(60.392157%,80.392157%,19.607843%);fill-opacity:1;stroke-width:1;stroke-linecap:butt;stroke-linejoin:miter;stroke:rgb(0%,0%,0%);stroke-opacity:1;stroke-miterlimit:10;\" d=\"M 142 230 C 142 235.523438 137.523438 240 132 240 C 126.476562 240 122 235.523438 122 230 C 122 224.476562 126.476562 220 132 220 C 137.523438 220 142 224.476562 142 230 \"/>\n",
       "<path style=\"fill-rule:nonzero;fill:rgb(60.392157%,80.392157%,19.607843%);fill-opacity:1;stroke-width:1;stroke-linecap:butt;stroke-linejoin:miter;stroke:rgb(0%,0%,0%);stroke-opacity:1;stroke-miterlimit:10;\" d=\"M 30 230 C 30 235.523438 25.523438 240 20 240 C 14.476562 240 10 235.523438 10 230 C 10 224.476562 14.476562 220 20 220 C 25.523438 220 30 224.476562 30 230 \"/>\n",
       "<g style=\"fill:rgb(0%,0%,0%);fill-opacity:1;\">\n",
       "  <use xlink:href=\"#glyph0-1\" x=\"576.730469\" y=\"144.40625\"/>\n",
       "</g>\n",
       "<g style=\"fill:rgb(0%,0%,0%);fill-opacity:1;\">\n",
       "  <use xlink:href=\"#glyph0-2\" x=\"464.953125\" y=\"89.058594\"/>\n",
       "</g>\n",
       "<g style=\"fill:rgb(0%,0%,0%);fill-opacity:1;\">\n",
       "  <use xlink:href=\"#glyph0-3\" x=\"352.839844\" y=\"54.058594\"/>\n",
       "</g>\n",
       "<g style=\"fill:rgb(0%,0%,0%);fill-opacity:1;\">\n",
       "  <use xlink:href=\"#glyph0-4\" x=\"240.855469\" y=\"36.492188\"/>\n",
       "</g>\n",
       "<g style=\"fill:rgb(0%,0%,0%);fill-opacity:1;\">\n",
       "  <use xlink:href=\"#glyph0-5\" x=\"128.871094\" y=\"24.824219\"/>\n",
       "</g>\n",
       "<g style=\"fill:rgb(0%,0%,0%);fill-opacity:1;\">\n",
       "  <use xlink:href=\"#glyph0-6\" x=\"16.785156\" y=\"24.890625\"/>\n",
       "</g>\n",
       "<g style=\"fill:rgb(0%,0%,0%);fill-opacity:1;\">\n",
       "  <use xlink:href=\"#glyph0-7\" x=\"128.835938\" y=\"48.15625\"/>\n",
       "</g>\n",
       "<g style=\"fill:rgb(0%,0%,0%);fill-opacity:1;\">\n",
       "  <use xlink:href=\"#glyph0-8\" x=\"240.820312\" y=\"71.558594\"/>\n",
       "</g>\n",
       "<g style=\"fill:rgb(0%,0%,0%);fill-opacity:1;\">\n",
       "  <use xlink:href=\"#glyph0-9\" x=\"128.855469\" y=\"71.558594\"/>\n",
       "</g>\n",
       "<g style=\"fill:rgb(0%,0%,0%);fill-opacity:1;\">\n",
       "  <use xlink:href=\"#glyph0-1\" x=\"13.421875\" y=\"71.558594\"/>\n",
       "  <use xlink:href=\"#glyph0-10\" x=\"19.78418\" y=\"71.558594\"/>\n",
       "</g>\n",
       "<g style=\"fill:rgb(0%,0%,0%);fill-opacity:1;\">\n",
       "  <use xlink:href=\"#glyph0-1\" x=\"349.550781\" y=\"123.992188\"/>\n",
       "  <use xlink:href=\"#glyph0-1\" x=\"355.913086\" y=\"123.992188\"/>\n",
       "</g>\n",
       "<g style=\"fill:rgb(0%,0%,0%);fill-opacity:1;\">\n",
       "  <use xlink:href=\"#glyph0-1\" x=\"237.589844\" y=\"106.558594\"/>\n",
       "  <use xlink:href=\"#glyph0-2\" x=\"243.952148\" y=\"106.558594\"/>\n",
       "</g>\n",
       "<g style=\"fill:rgb(0%,0%,0%);fill-opacity:1;\">\n",
       "  <use xlink:href=\"#glyph0-1\" x=\"125.488281\" y=\"94.890625\"/>\n",
       "  <use xlink:href=\"#glyph0-3\" x=\"131.850586\" y=\"94.890625\"/>\n",
       "</g>\n",
       "<g style=\"fill:rgb(0%,0%,0%);fill-opacity:1;\">\n",
       "  <use xlink:href=\"#glyph0-1\" x=\"13.367188\" y=\"94.824219\"/>\n",
       "  <use xlink:href=\"#glyph0-4\" x=\"19.729492\" y=\"94.824219\"/>\n",
       "</g>\n",
       "<g style=\"fill:rgb(0%,0%,0%);fill-opacity:1;\">\n",
       "  <use xlink:href=\"#glyph0-1\" x=\"125.523438\" y=\"118.15625\"/>\n",
       "  <use xlink:href=\"#glyph0-5\" x=\"131.885742\" y=\"118.15625\"/>\n",
       "</g>\n",
       "<g style=\"fill:rgb(0%,0%,0%);fill-opacity:1;\">\n",
       "  <use xlink:href=\"#glyph0-1\" x=\"237.402344\" y=\"141.558594\"/>\n",
       "  <use xlink:href=\"#glyph0-6\" x=\"243.764648\" y=\"141.558594\"/>\n",
       "</g>\n",
       "<g style=\"fill:rgb(0%,0%,0%);fill-opacity:1;\">\n",
       "  <use xlink:href=\"#glyph0-1\" x=\"125.515625\" y=\"141.492188\"/>\n",
       "  <use xlink:href=\"#glyph0-7\" x=\"131.87793\" y=\"141.492188\"/>\n",
       "</g>\n",
       "<g style=\"fill:rgb(0%,0%,0%);fill-opacity:1;\">\n",
       "  <use xlink:href=\"#glyph0-1\" x=\"13.429688\" y=\"141.558594\"/>\n",
       "  <use xlink:href=\"#glyph0-8\" x=\"19.791992\" y=\"141.558594\"/>\n",
       "</g>\n",
       "<g style=\"fill:rgb(0%,0%,0%);fill-opacity:1;\">\n",
       "  <use xlink:href=\"#glyph0-1\" x=\"461.441406\" y=\"199.890625\"/>\n",
       "  <use xlink:href=\"#glyph0-9\" x=\"467.803711\" y=\"199.890625\"/>\n",
       "</g>\n",
       "<g style=\"fill:rgb(0%,0%,0%);fill-opacity:1;\">\n",
       "  <use xlink:href=\"#glyph0-2\" x=\"349.601562\" y=\"176.558594\"/>\n",
       "  <use xlink:href=\"#glyph0-10\" x=\"355.963867\" y=\"176.558594\"/>\n",
       "</g>\n",
       "<g style=\"fill:rgb(0%,0%,0%);fill-opacity:1;\">\n",
       "  <use xlink:href=\"#glyph0-2\" x=\"237.734375\" y=\"176.558594\"/>\n",
       "  <use xlink:href=\"#glyph0-1\" x=\"244.09668\" y=\"176.558594\"/>\n",
       "</g>\n",
       "<g style=\"fill:rgb(0%,0%,0%);fill-opacity:1;\">\n",
       "  <use xlink:href=\"#glyph0-2\" x=\"125.773438\" y=\"164.890625\"/>\n",
       "  <use xlink:href=\"#glyph0-2\" x=\"132.135742\" y=\"164.890625\"/>\n",
       "</g>\n",
       "<g style=\"fill:rgb(0%,0%,0%);fill-opacity:1;\">\n",
       "  <use xlink:href=\"#glyph0-2\" x=\"125.671875\" y=\"188.222656\"/>\n",
       "  <use xlink:href=\"#glyph0-3\" x=\"132.03418\" y=\"188.222656\"/>\n",
       "</g>\n",
       "<g style=\"fill:rgb(0%,0%,0%);fill-opacity:1;\">\n",
       "  <use xlink:href=\"#glyph0-2\" x=\"349.550781\" y=\"223.222656\"/>\n",
       "  <use xlink:href=\"#glyph0-4\" x=\"355.913086\" y=\"223.222656\"/>\n",
       "</g>\n",
       "<g style=\"fill:rgb(0%,0%,0%);fill-opacity:1;\">\n",
       "  <use xlink:href=\"#glyph0-2\" x=\"237.707031\" y=\"223.222656\"/>\n",
       "  <use xlink:href=\"#glyph0-5\" x=\"244.069336\" y=\"223.222656\"/>\n",
       "</g>\n",
       "<g style=\"fill:rgb(0%,0%,0%);fill-opacity:1;\">\n",
       "  <use xlink:href=\"#glyph0-2\" x=\"125.585938\" y=\"211.558594\"/>\n",
       "  <use xlink:href=\"#glyph0-6\" x=\"131.948242\" y=\"211.558594\"/>\n",
       "</g>\n",
       "<g style=\"fill:rgb(0%,0%,0%);fill-opacity:1;\">\n",
       "  <use xlink:href=\"#glyph0-2\" x=\"13.699219\" y=\"211.558594\"/>\n",
       "  <use xlink:href=\"#glyph0-7\" x=\"20.061523\" y=\"211.558594\"/>\n",
       "</g>\n",
       "<g style=\"fill:rgb(0%,0%,0%);fill-opacity:1;\">\n",
       "  <use xlink:href=\"#glyph0-2\" x=\"125.613281\" y=\"234.890625\"/>\n",
       "  <use xlink:href=\"#glyph0-8\" x=\"131.975586\" y=\"234.890625\"/>\n",
       "</g>\n",
       "<g style=\"fill:rgb(0%,0%,0%);fill-opacity:1;\">\n",
       "  <use xlink:href=\"#glyph0-2\" x=\"13.625\" y=\"234.890625\"/>\n",
       "  <use xlink:href=\"#glyph0-9\" x=\"19.987305\" y=\"234.890625\"/>\n",
       "</g>\n",
       "</g>\n",
       "</svg>\n"
      ],
      "text/plain": [
       "<igraph.drawing.Plot at 0x7f4fd5348eb0>"
      ]
     },
     "execution_count": 4,
     "metadata": {
      "image/svg+xml": {
       "isolated": true
      }
     },
     "output_type": "execute_result"
    }
   ],
   "source": [
    "with resources.path('vmlab.data.trees', 'branch_F14_25.csv') as path:\n",
    "    branch = pd.read_csv(path)\n",
    "\n",
    "graph = vmlab.to_graph(branch)\n",
    "layout = graph.layout_reingold_tilford()\n",
    "layout.rotate(90)\n",
    "ig.plot(\n",
    "    graph, \n",
    "    bbox=(0,0,600,250), \n",
    "    layout=layout, \n",
    "    vertex_label=graph.vs.get_attribute_values('name'), \n",
    "    vertex_label_size=10,\n",
    "    vertex_color=['orange' if f > 0 else 'yellowgreen' if l > 0 else 'white' for f, l in zip(\n",
    "        graph.vs.get_attribute_values('arch_dev__pot_nb_fruit'),\n",
    "        graph.vs.get_attribute_values('growth__nb_leaf')\n",
    "    )]\n",
    ")"
   ]
  },
  {
   "cell_type": "markdown",
   "id": "placed-library",
   "metadata": {
    "tags": []
   },
   "source": [
    "### 2.2 Setup and run simulation"
   ]
  },
  {
   "cell_type": "code",
   "execution_count": 5,
   "id": "adaptive-woman",
   "metadata": {
    "tags": []
   },
   "outputs": [
    {
     "data": {
      "application/vnd.jupyter.widget-view+json": {
       "model_id": "81901c88e9e945ab952f68e70a097c74",
       "version_major": 2,
       "version_minor": 0
      },
      "text/plain": [
       "SceneWidget(scenes=[{'id': '1hGfuUMSfhMzxcLgSBDSs5dT2', 'data': b'x\\xdaSLrw\\xf5\\xf7e`Pp\\xe0\\xe5RPVVd\\x00\\x020\\…"
      ]
     },
     "metadata": {},
     "output_type": "display_data"
    },
    {
     "data": {
      "application/vnd.jupyter.widget-view+json": {
       "model_id": "197f9575732b4236ad2321e5f29b9d30",
       "version_major": 2,
       "version_minor": 0
      },
      "text/plain": [
       "             0%"
      ]
     },
     "metadata": {},
     "output_type": "display_data"
    },
    {
     "name": "stderr",
     "output_type": "stream",
     "text": [
      "/home/jvail/dev/jvail/vmango-lab/vmlab/processes/carbon_allocation.py:279: UserWarning: Vegetative part of the system dies ...\n",
      "  warnings.warn('Vegetative part of the system dies ...')\n"
     ]
    }
   ],
   "source": [
    "setup = vmlab.create_setup(\n",
    "    model=fruit_model,\n",
    "    tree=branch,\n",
    "    start_date='2002-06-01',\n",
    "    end_date='2003-05-01',\n",
    "    setup_toml='fruit_model_branch.toml',\n",
    "    input_vars={\n",
    "        'growth__leaf_senescence_enabled': False,\n",
    "        'geometry__interpretation_freq': 5\n",
    "    },\n",
    "    output_vars={\n",
    "        'carbon_flow_coef__distances': 'day',\n",
    "        'fruit_quality__FM_fruit': 'day',\n",
    "        'carbon_flow_coef__max_distance_to_fruit': None\n",
    "    }\n",
    ")\n",
    "dataset = vmlab.run(setup, fruit_model, geometry={'size': 1.5, 'size_display': (600, 400)}, batch=('d_max', [\n",
    "    {'carbon_flow_coef__max_distance_to_fruit': d_max} for d_max in np.linspace(4, 10, 4)\n",
    "]))"
   ]
  },
  {
   "cell_type": "markdown",
   "id": "61841dd3-2313-4f2c-ab0f-22201f9d5c4c",
   "metadata": {},
   "source": [
    "### 3 Visualization of model output"
   ]
  },
  {
   "cell_type": "code",
   "execution_count": 6,
   "id": "f4e72cce-441f-47db-903f-d68b35e4f6bc",
   "metadata": {},
   "outputs": [],
   "source": [
    "ds = dataset.assign_coords({\n",
    "    'GU': graph.vs.get_attribute_values('name'),\n",
    "    'GU_': graph.vs.get_attribute_values('name')\n",
    "})"
   ]
  },
  {
   "cell_type": "markdown",
   "id": "29d90f86-6166-4cf4-bea5-17436c7f33ec",
   "metadata": {},
   "source": [
    "#### 3.1 Plotting fruit fresh mass for each 'max_distance_to_fruit'"
   ]
  },
  {
   "cell_type": "code",
   "execution_count": 7,
   "id": "a0f096ec-c362-4796-845b-e19d964b03d3",
   "metadata": {},
   "outputs": [
    {
     "data": {
      "image/png": "[encoded data removed]",
      "text/plain": [
       "<Figure size 432x288 with 1 Axes>"
      ]
     },
     "metadata": {
      "needs_background": "light"
     },
     "output_type": "display_data"
    }
   ],
   "source": [
    "_ = ds.where(ds.fruit_quality__FM_fruit > 0, drop=True).squeeze().fruit_quality__FM_fruit.plot.line(x='day')"
   ]
  },
  {
   "cell_type": "markdown",
   "id": "355ae41e-0d5c-4d1e-b6d6-fb485aca68fd",
   "metadata": {},
   "source": [
    "#### 3.2 Visualizing carbon flow from source GU to sink GU"
   ]
  },
  {
   "cell_type": "code",
   "execution_count": 8,
   "id": "9857caa7-f29b-4206-949a-f4fe4f5c4827",
   "metadata": {},
   "outputs": [],
   "source": [
    "layout = graph.layout_reingold_tilford()\n",
    "layout.rotate(-180)\n",
    "images = []\n",
    "for d in range(len(ds.d_max)):\n",
    "    g = graph.copy()\n",
    "    distances = ds.carbon_flow_coef__distances[d,-1].data\n",
    "    edges = np.nonzero(np.isfinite(distances))\n",
    "    g.add_edges(np.flip(np.transpose(edges), axis=1).astype(np.int64), {'distance': distances[edges]})\n",
    "    gu_distances = g.es.get_attribute_values('distance')\n",
    "    images.append(ig.plot(g, layout=layout, bbox=(0,0,300,200), margin=(15,30,30,15),\n",
    "            vertex_size=15,\n",
    "            vertex_label_size=8,\n",
    "            vertex_label=graph.vs.get_attribute_values('name'),\n",
    "            vertex_color=['orange' if f > 0 else 'yellowgreen' if l > 0 else 'white' for f, l in zip(\n",
    "                g.vs.get_attribute_values('arch_dev__pot_nb_fruit'),\n",
    "                g.vs.get_attribute_values('growth__nb_leaf')\n",
    "            )],\n",
    "            edge_arrow_width=[1.5/(d+1) if d is not None else 0.1 for d in gu_distances],\n",
    "            edge_arrow_size=[1.5/(d+1) if d is not None else 0.01 for d in gu_distances],\n",
    "            edge_color=['red' if d is not None else 'black' for d in gu_distances],\n",
    "            edge_curved=[0.5 if d is not None else 0 for d in gu_distances],\n",
    "            edge_width=[3/(d+1) if d is not None else 1 for d in gu_distances]\n",
    "        )      \n",
    "    )"
   ]
  },
  {
   "cell_type": "code",
   "execution_count": 9,
   "id": "ac3681d4-d1da-4762-a41e-7859eab22483",
   "metadata": {},
   "outputs": [
    {
     "data": {
      "application/vnd.jupyter.widget-view+json": {
       "model_id": "58aa4a93aafd48879ef5b27553d57c83",
       "version_major": 2,
       "version_minor": 0
      },
      "text/plain": [
       "GridBox(children=(HTML(value='<?xml version=\"1.0\" encoding=\"UTF-8\"?>\\n<svg xmlns=\"http://www.w3.org/2000/svg\" …"
      ]
     },
     "metadata": {},
     "output_type": "display_data"
    }
   ],
   "source": [
    "iw.GridBox([\n",
    "    iw.HTML(img._repr_svg_()[0]) for img in images\n",
    "], layout=iw.Layout(grid_template_columns=\"repeat(2, 400px)\"))"
   ]
  },
  {
   "cell_type": "code",
   "execution_count": null,
   "id": "52384c35-e952-4b17-9429-7fdd01d84bad",
   "metadata": {},
   "outputs": [],
   "source": []
  }
 ],
 "metadata": {
  "kernelspec": {
   "display_name": "Python 3",
   "language": "python",
   "name": "python3"
  },
  "language_info": {
   "codemirror_mode": {
    "name": "ipython",
    "version": 3
   },
   "file_extension": ".py",
   "mimetype": "text/x-python",
   "name": "python",
   "nbconvert_exporter": "python",
   "pygments_lexer": "ipython3",
   "version": "3.8.10"
  }
 },
 "nbformat": 4,
 "nbformat_minor": 5
}
