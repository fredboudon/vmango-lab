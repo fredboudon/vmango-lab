{
 "cells": [
  {
   "cell_type": "code",
   "execution_count": null,
   "id": "accredited-drill",
   "metadata": {},
   "outputs": [],
   "source": [
    "import vmlab"
   ]
  },
  {
   "cell_type": "code",
   "execution_count": null,
   "id": "novel-brick",
   "metadata": {},
   "outputs": [],
   "source": [
    "from vmlab.models import vmango"
   ]
  },
  {
   "cell_type": "markdown",
   "id": "7995e52a-1a00-422d-8992-b96b0e667cf0",
   "metadata": {},
   "source": [
    "### Create setup and derive a scene every month"
   ]
  },
  {
   "cell_type": "code",
   "execution_count": null,
   "id": "historical-thomas",
   "metadata": {},
   "outputs": [],
   "source": [
    "setup = vmlab.create_setup(\n",
    "    model=vmango,\n",
    "    start_date='2003-06-01',\n",
    "    end_date='2005-06-01',\n",
    "    setup_toml='vmango.toml',\n",
    "    current_cycle=3,\n",
    "    input_vars={'geometry__interpretation_freq': 30},\n",
    "    output_vars={'harvest__nb_fruit_harvested': 'day'}\n",
    ")"
   ]
  },
  {
   "cell_type": "markdown",
   "id": "620e2bc8-c148-4d89-bfc1-b16c8af3eea9",
   "metadata": {},
   "source": [
    "### Run vmango in batch (parallel, multiprocessing) mode with a different 'seed' for each run "
   ]
  },
  {
   "cell_type": "code",
   "execution_count": null,
   "id": "hairy-persian",
   "metadata": {},
   "outputs": [],
   "source": [
    "ds_out = vmlab.run(\n",
    "    setup,\n",
    "    vmango,\n",
    "    geometry={'size': 3.5, 'size_display': (600, 500)}, \n",
    "    batch=('seed', [{'topology__seed': seed} for seed in range(10, 14)])\n",
    ")"
   ]
  },
  {
   "cell_type": "markdown",
   "id": "f6b91200-90f8-4bed-9c74-c9339342b382",
   "metadata": {},
   "source": [
    "### Plot results - the batch 'seed' is now available as an index with coordinates"
   ]
  },
  {
   "cell_type": "code",
   "execution_count": null,
   "id": "be515d14-4248-4900-a0fc-3591f08c679d",
   "metadata": {},
   "outputs": [],
   "source": [
    "_ = ds_out.harvest__nb_fruit_harvested.sel({\n",
    "        'day': slice('2005-02-15', '2005-06-01')\n",
    "    }).sum(dim=['GU']).plot(hue='seed')"
   ]
  },
  {
   "cell_type": "code",
   "execution_count": null,
   "id": "9dfd33bf-c4e5-4422-9321-893ad976961c",
   "metadata": {},
   "outputs": [],
   "source": []
  }
 ],
 "metadata": {
  "kernelspec": {
   "display_name": "Python 3",
   "language": "python",
   "name": "python3"
  },
  "language_info": {
   "codemirror_mode": {
    "name": "ipython",
    "version": 3
   },
   "file_extension": ".py",
   "mimetype": "text/x-python",
   "name": "python",
   "nbconvert_exporter": "python",
   "pygments_lexer": "ipython3",
   "version": "3.8.10"
  }
 },
 "nbformat": 4,
 "nbformat_minor": 5
}
