{
 "cells": [
  {
   "cell_type": "code",
   "execution_count": 1,
   "id": "unavailable-adoption",
   "metadata": {},
   "outputs": [],
   "source": [
    "import xsimlab as xs\n",
    "import pgljupyter as pj\n",
    "import vmlab"
   ]
  },
  {
   "cell_type": "code",
   "execution_count": 2,
   "id": "inner-design",
   "metadata": {},
   "outputs": [],
   "source": [
    "from vmlab.models import vmango"
   ]
  },
  {
   "cell_type": "markdown",
   "id": "1cf0c294-0a63-44a4-a1af-307ac19020ba",
   "metadata": {},
   "source": [
    "### Define 25 'interpretation_steps' evenly distributed between start and end date"
   ]
  },
  {
   "cell_type": "code",
   "execution_count": 4,
   "id": "adedd41a-625e-46d7-bd4f-b11625838f02",
   "metadata": {},
   "outputs": [],
   "source": [
    "setup = vmlab.create_setup(\n",
    "    model=vmango,\n",
    "    start_date='2003-06-01',\n",
    "    end_date='2005-06-01',\n",
    "    setup_toml='vmango.toml',\n",
    "    input_vars={\n",
    "        'geometry__interpretation_steps': 25\n",
    "    },\n",
    "    output_vars=None\n",
    ")"
   ]
  },
  {
   "cell_type": "markdown",
   "id": "4de02947-7164-4b1a-84fc-6ddbbd68aa35",
   "metadata": {},
   "source": [
    "### Setup a hook to retrieve and plot trees on a 5x5 plane during the simulation "
   ]
  },
  {
   "cell_type": "code",
   "execution_count": 5,
   "id": "edc0a411-5562-4698-903e-d64548ec6ab1",
   "metadata": {},
   "outputs": [],
   "source": [
    "def plot_orchard():\n",
    "    from math import ceil, sqrt, floor\n",
    "    from collections import deque\n",
    "    positions = deque()\n",
    "    sw = None\n",
    "    @xs.runtime_hook(stage='run_step')\n",
    "    def hook(model, context, state):\n",
    "        nonlocal sw, positions\n",
    "        if context['step'] == 0:\n",
    "            length = int(state[('geometry', 'interpretation_steps')])\n",
    "            cell = 3.5\n",
    "            rows = cols = ceil(sqrt(length))\n",
    "            size = rows * cell\n",
    "            start = -size / 2 + cell / 2\n",
    "            for i in range(length):\n",
    "                row = floor(i / rows)\n",
    "                col = (i - row * cols)\n",
    "                x = row * cell + start\n",
    "                y = col * cell + start\n",
    "                positions.append((x, y, 0))\n",
    "            sw = pj.SceneWidget(size_world=cell*rows, size_display=(600, 400))\n",
    "            display(sw)\n",
    "        scene = state[('geometry', 'scene')]\n",
    "        if scene is not None:\n",
    "            sw.add(scene, position=positions.popleft(), scale=1/100)\n",
    "    return hook"
   ]
  },
  {
   "cell_type": "markdown",
   "id": "7b340da4-f59f-4ffd-b209-785ceb872b2d",
   "metadata": {},
   "source": [
    "### Run vmango"
   ]
  },
  {
   "cell_type": "code",
   "execution_count": 6,
   "id": "adaptive-woman",
   "metadata": {
    "tags": []
   },
   "outputs": [
    {
     "data": {
      "application/vnd.jupyter.widget-view+json": {
       "model_id": "bb8c3f4e06344769abf1bc58029419a0",
       "version_major": 2,
       "version_minor": 0
      },
      "text/plain": [
       "SceneWidget(scenes=[{'id': 'zol5CCasz90wGqB8SK1cy9eqs', 'data': b'x\\xdaSLrw\\xf5\\xf7e`Pp\\xe0\\xe5RPVVd\\x00\\x020\\…"
      ]
     },
     "metadata": {},
     "output_type": "display_data"
    }
   ],
   "source": [
    "_ = vmlab.run(setup, vmango, hooks=[plot_orchard()], progress=False)"
   ]
  },
  {
   "cell_type": "code",
   "execution_count": null,
   "id": "86126e14-e58e-44a2-bbda-a493909aba5a",
   "metadata": {},
   "outputs": [],
   "source": []
  }
 ],
 "metadata": {
  "kernelspec": {
   "display_name": "Python 3",
   "language": "python",
   "name": "python3"
  },
  "language_info": {
   "codemirror_mode": {
    "name": "ipython",
    "version": 3
   },
   "file_extension": ".py",
   "mimetype": "text/x-python",
   "name": "python",
   "nbconvert_exporter": "python",
   "pygments_lexer": "ipython3",
   "version": "3.8.10"
  }
 },
 "nbformat": 4,
 "nbformat_minor": 5
}
