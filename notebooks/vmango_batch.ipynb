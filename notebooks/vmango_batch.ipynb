{
 "cells": [
  {
   "cell_type": "code",
   "execution_count": null,
   "id": "accredited-drill",
   "metadata": {},
   "outputs": [],
   "source": [
    "import numpy as np\n",
    "import pandas as pd\n",
    "import vmlab"
   ]
  },
  {
   "cell_type": "code",
   "execution_count": null,
   "id": "novel-brick",
   "metadata": {},
   "outputs": [],
   "source": [
    "from vmlab.models import vmango"
   ]
  },
  {
   "cell_type": "code",
   "execution_count": null,
   "id": "historical-thomas",
   "metadata": {},
   "outputs": [],
   "source": [
    "setup = vmlab.create_setup(\n",
    "    model=vmango,\n",
    "    start_date='2003-06-01',\n",
    "    end_date='2005-06-01',\n",
    "    setup_toml='../share/setup/vmango.toml',\n",
    "    current_cycle=3,\n",
    "    input_vars={'geometry__interpretation_freq': 30},\n",
    "    output_vars={'harvest__nb_fruit_harvested': None}\n",
    ")"
   ]
  },
  {
   "cell_type": "code",
   "execution_count": null,
   "id": "hairy-persian",
   "metadata": {},
   "outputs": [],
   "source": [
    "ds_out = vmlab.run(\n",
    "    setup,\n",
    "    vmango,\n",
    "    geometry={'size': 3.5, 'size_display': (600, 500)}, \n",
    "    batch=('batch', [{'topology__seed': i} for i in range(4)])\n",
    ")\n",
    "ds_out"
   ]
  },
  {
   "cell_type": "code",
   "execution_count": null,
   "id": "120ae460",
   "metadata": {},
   "outputs": [],
   "source": []
  }
 ],
 "metadata": {
  "kernelspec": {
   "display_name": "Python 3",
   "language": "python",
   "name": "python3"
  },
  "language_info": {
   "codemirror_mode": {
    "name": "ipython",
    "version": 3
   },
   "file_extension": ".py",
   "mimetype": "text/x-python",
   "name": "python",
   "nbconvert_exporter": "python",
   "pygments_lexer": "ipython3",
   "version": "3.8.9"
  },
  "widgets": {
   "application/vnd.jupyter.widget-state+json": {
    "state": {
     "12777928e8bf487586e6269e0daffb43": {
      "model_module": "@jupyter-widgets/controls",
      "model_module_version": "1.5.0",
      "model_name": "HBoxModel",
      "state": {
       "children": [
        "IPY_MODEL_31fc4821e79e4b82af2df96b11cf6b20",
        "IPY_MODEL_7092801c633d4c028289f4317a9fbd5d",
        "IPY_MODEL_2079e4b9e43c4f268b850e79191c6715"
       ],
       "layout": "IPY_MODEL_51643ab7f20b47f6bc36f3b7d3a4fe7d"
      }
     },
     "2079e4b9e43c4f268b850e79191c6715": {
      "model_module": "@jupyter-widgets/controls",
      "model_module_version": "1.5.0",
      "model_name": "HTMLModel",
      "state": {
       "layout": "IPY_MODEL_5f2240adbba14b47b7ea2bfc544a24d4",
       "style": "IPY_MODEL_773ffbdd05124d97b33d4910e581635a",
       "value": " 100%"
      }
     },
     "21c3b54d8a1d4a72abb8e1b69027475e": {
      "model_module": "@jupyter-widgets/base",
      "model_module_version": "1.2.0",
      "model_name": "LayoutModel",
      "state": {}
     },
     "31fc4821e79e4b82af2df96b11cf6b20": {
      "model_module": "@jupyter-widgets/controls",
      "model_module_version": "1.5.0",
      "model_name": "HTMLModel",
      "state": {
       "layout": "IPY_MODEL_dfb78e4ca9d44f46b4bc6af3c1130eea",
       "style": "IPY_MODEL_983999646fea464b8cab73abafae8c84"
      }
     },
     "4c707f7403a6479fa1f3d9c60b913a2a": {
      "model_module": "@jupyter-widgets/controls",
      "model_module_version": "1.5.0",
      "model_name": "ProgressStyleModel",
      "state": {
       "description_width": ""
      }
     },
     "4efb19c1c24b45d3adfc032e138bdea2": {
      "model_module": "@jupyter-widgets/base",
      "model_module_version": "1.2.0",
      "model_name": "LayoutModel",
      "state": {}
     },
     "51643ab7f20b47f6bc36f3b7d3a4fe7d": {
      "model_module": "@jupyter-widgets/base",
      "model_module_version": "1.2.0",
      "model_name": "LayoutModel",
      "state": {}
     },
     "5f2240adbba14b47b7ea2bfc544a24d4": {
      "model_module": "@jupyter-widgets/base",
      "model_module_version": "1.2.0",
      "model_name": "LayoutModel",
      "state": {}
     },
     "7092801c633d4c028289f4317a9fbd5d": {
      "model_module": "@jupyter-widgets/controls",
      "model_module_version": "1.5.0",
      "model_name": "FloatProgressModel",
      "state": {
       "bar_style": "success",
       "layout": "IPY_MODEL_21c3b54d8a1d4a72abb8e1b69027475e",
       "max": 2924,
       "style": "IPY_MODEL_4c707f7403a6479fa1f3d9c60b913a2a",
       "value": 2924
      }
     },
     "773ffbdd05124d97b33d4910e581635a": {
      "model_module": "@jupyter-widgets/controls",
      "model_module_version": "1.5.0",
      "model_name": "DescriptionStyleModel",
      "state": {
       "description_width": ""
      }
     },
     "983999646fea464b8cab73abafae8c84": {
      "model_module": "@jupyter-widgets/controls",
      "model_module_version": "1.5.0",
      "model_name": "DescriptionStyleModel",
      "state": {
       "description_width": ""
      }
     },
     "c2da6a6b2b3942b482d39b27b42fe1c8": {
      "model_module": "pgljupyter",
      "model_module_version": "^1.0.5",
      "model_name": "SceneWidgetModel",
      "state": {
       "_model_module_version": "^1.0.5",
       "_view_module_version": "^1.0.5",
       "axes_helper": false,
       "layout": "IPY_MODEL_c916156c4a9b40aaa426bedd2ad63dc6",
       "light_helper": false,
       "plane": true,
       "size_display": [
        600,
        500
       ],
       "size_world": 7
      }
     },
     "c916156c4a9b40aaa426bedd2ad63dc6": {
      "model_module": "@jupyter-widgets/base",
      "model_module_version": "1.2.0",
      "model_name": "LayoutModel",
      "state": {}
     },
     "dfb78e4ca9d44f46b4bc6af3c1130eea": {
      "model_module": "@jupyter-widgets/base",
      "model_module_version": "1.2.0",
      "model_name": "LayoutModel",
      "state": {}
     },
     "ee814d2b23b0412e93e4eea8bcf5cc98": {
      "model_module": "pgljupyter",
      "model_module_version": "^1.0.5",
      "model_name": "SceneWidgetModel",
      "state": {
       "_model_module_version": "^1.0.5",
       "_view_module_version": "^1.0.5",
       "axes_helper": false,
       "layout": "IPY_MODEL_4efb19c1c24b45d3adfc032e138bdea2",
       "light_helper": false,
       "plane": true,
       "size_display": [
        600,
        500
       ],
       "size_world": 7
      }
     }
    },
    "version_major": 2,
    "version_minor": 0
   }
  }
 },
 "nbformat": 4,
 "nbformat_minor": 5
}
