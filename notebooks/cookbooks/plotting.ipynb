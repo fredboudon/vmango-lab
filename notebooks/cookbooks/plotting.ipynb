{
 "cells": [
  {
   "cell_type": "markdown",
   "id": "registered-bedroom",
   "metadata": {},
   "source": [
    "## plottig ideas, examples"
   ]
  },
  {
   "cell_type": "code",
   "execution_count": null,
   "id": "little-pakistan",
   "metadata": {},
   "outputs": [],
   "source": [
    "import seaborn as sns\n",
    "import matplotlib.pyplot as plt\n",
    "import pandas as pd\n",
    "import vmlab\n",
    "from vmlab.models import vmango"
   ]
  },
  {
   "cell_type": "code",
   "execution_count": null,
   "id": "spare-harrison",
   "metadata": {},
   "outputs": [],
   "source": [
    "tree = pd.read_csv('../../share/trees/tree_B10_cycle_030405.csv')"
   ]
  },
  {
   "cell_type": "code",
   "execution_count": null,
   "id": "changing-virus",
   "metadata": {},
   "outputs": [],
   "source": [
    "setup = vmlab.create_setup(\n",
    "    model=vmango,\n",
    "    tree=tree,\n",
    "    start_date='2003-06-01',\n",
    "    end_date='2005-06-01',\n",
    "    setup_toml='../../share/setup/vmango.toml',\n",
    "    current_cycle=3,\n",
    "    input_vars={\n",
    "        'geometry__interpretation_freq': 0\n",
    "    },\n",
    "    output_vars={\n",
    "        'fruit_quality': {\n",
    "            'FM_fruit': 'day'\n",
    "        },\n",
    "        'carbon_balance': {\n",
    "            'DM_fruit': 'day'\n",
    "        }\n",
    "    }\n",
    ")"
   ]
  },
  {
   "cell_type": "code",
   "execution_count": null,
   "id": "herbal-retro",
   "metadata": {},
   "outputs": [],
   "source": [
    "ds_out = vmlab.run(setup, vmango)"
   ]
  },
  {
   "cell_type": "code",
   "execution_count": null,
   "id": "soviet-positive",
   "metadata": {},
   "outputs": [],
   "source": [
    "# select variables, the date range that is important, rename variables\n",
    "ds = ds_out[['fruit_quality__FM_fruit', 'carbon_balance__DM_fruit']].sel({\n",
    "        'day': slice('2004-11-01', '2005-03-01')\n",
    "    }).where(ds_out.carbon_balance__DM_fruit > 0, drop=True).rename_vars({\n",
    "        'fruit_quality__FM_fruit': 'FM',\n",
    "        'carbon_balance__DM_fruit': 'DM',\n",
    "    })\n",
    "ds"
   ]
  },
  {
   "cell_type": "code",
   "execution_count": null,
   "id": "fewer-drama",
   "metadata": {},
   "outputs": [],
   "source": [
    "# move variables and their values into one column so it is useable for seaborn facegrids\n",
    "df = pd.melt(ds.to_dataframe().reset_index(), id_vars=['GU', 'day'], value_vars=['FM', 'DM'], var_name='vars', value_name='gram')\n",
    "df"
   ]
  },
  {
   "cell_type": "code",
   "execution_count": null,
   "id": "tender-roads",
   "metadata": {},
   "outputs": [],
   "source": [
    "grid = sns.FacetGrid(df, col='GU', hue='vars', col_wrap=6)\n",
    "grid.map(sns.lineplot, 'day', 'gram')\n",
    "for ax in grid.axes.ravel():\n",
    "    ax.legend()"
   ]
  },
  {
   "cell_type": "code",
   "execution_count": null,
   "id": "heavy-share",
   "metadata": {},
   "outputs": [],
   "source": []
  }
 ],
 "metadata": {
  "kernelspec": {
   "display_name": "Python 3",
   "language": "python",
   "name": "python3"
  },
  "language_info": {
   "codemirror_mode": {
    "name": "ipython",
    "version": 3
   },
   "file_extension": ".py",
   "mimetype": "text/x-python",
   "name": "python",
   "nbconvert_exporter": "python",
   "pygments_lexer": "ipython3",
   "version": "3.8.9"
  },
  "widgets": {
   "application/vnd.jupyter.widget-state+json": {
    "state": {},
    "version_major": 2,
    "version_minor": 0
   }
  }
 },
 "nbformat": 4,
 "nbformat_minor": 5
}
