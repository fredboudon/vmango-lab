{
 "cells": [
  {
   "cell_type": "code",
   "execution_count": 2,
   "id": "4cc0e092-93ae-46e9-8c73-37365d978509",
   "metadata": {},
   "outputs": [],
   "source": [
    "import openalea.lpy as lpy\n",
    "import pgljupyter as pj\n",
    "import io "
   ]
  },
  {
   "cell_type": "code",
   "execution_count": 3,
   "id": "9670349d-6566-4411-80cd-2c70669bd3af",
   "metadata": {},
   "outputs": [],
   "source": [
    "lp = lpy.lsysparameters.LsystemParameters()"
   ]
  },
  {
   "cell_type": "code",
   "execution_count": 6,
   "id": "47b68737-9d73-46e8-91a5-71fa0f453354",
   "metadata": {},
   "outputs": [],
   "source": [
    "# paths do only wo\n",
    "with io.open('../../vmlab/data/parameters/geometry.json', 'r') as file:\n",
    "    lp.load(file)"
   ]
  },
  {
   "cell_type": "code",
   "execution_count": 7,
   "id": "adf00ea7-d83c-46a3-9eee-e93dfb7640c0",
   "metadata": {},
   "outputs": [
    {
     "data": {
      "application/vnd.jupyter.widget-view+json": {
       "model_id": "c22bb56868e74202bc200aeb002d6a80",
       "version_major": 2,
       "version_minor": 0
      },
      "text/plain": [
       "ParameterEditor(children=(VBox(children=(HBox(children=(HBox(children=(Button(description='Apply changes', sty…"
      ]
     },
     "metadata": {},
     "output_type": "display_data"
    }
   ],
   "source": [
    "pj.ParameterEditor(lp)"
   ]
  },
  {
   "cell_type": "code",
   "execution_count": 9,
   "id": "25bc47ad-43c9-4779-a3a4-0eaafbb32d4a",
   "metadata": {},
   "outputs": [],
   "source": [
    "with io.open('../../vmlab/data/parameters/geometry.json', 'w') as file:\n",
    "    lp.dump(file)"
   ]
  },
  {
   "cell_type": "code",
   "execution_count": null,
   "id": "c1378ace-da21-4c6b-8fec-a31b3cfe99aa",
   "metadata": {},
   "outputs": [],
   "source": []
  }
 ],
 "metadata": {
  "kernelspec": {
   "display_name": "Python 3",
   "language": "python",
   "name": "python3"
  },
  "language_info": {
   "codemirror_mode": {
    "name": "ipython",
    "version": 3
   },
   "file_extension": ".py",
   "mimetype": "text/x-python",
   "name": "python",
   "nbconvert_exporter": "python",
   "pygments_lexer": "ipython3",
   "version": "3.8.10"
  }
 },
 "nbformat": 4,
 "nbformat_minor": 5
}
