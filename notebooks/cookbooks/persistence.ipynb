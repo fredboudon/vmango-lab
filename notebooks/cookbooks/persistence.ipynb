{
 "cells": [
  {
   "cell_type": "markdown",
   "id": "d0ca3062-75a8-4186-8f09-a03aaa8b2a91",
   "metadata": {},
   "source": [
    "### wip - issues as of now:\n",
    "    * writing netcdf is broken id dataset containes variables with datetime64\n",
    "    * persisting in batch processing does only work if dim length is identical (all trees have same nb GUs)"
   ]
  },
  {
   "cell_type": "code",
   "execution_count": null,
   "id": "98eaa4e1-5dfb-4ec6-ac3f-7eba5a30aa5e",
   "metadata": {},
   "outputs": [],
   "source": [
    "import xarray as xr\n",
    "import vmlab\n",
    "from vmlab.models import vmango"
   ]
  },
  {
   "cell_type": "code",
   "execution_count": null,
   "id": "9bbe7c31-692d-4cb4-b155-20bccd9e996d",
   "metadata": {},
   "outputs": [],
   "source": [
    "vmango = vmango.drop_processes('geometry')"
   ]
  },
  {
   "cell_type": "code",
   "execution_count": null,
   "id": "d8526410-fe96-4d0f-a53d-623e174b677b",
   "metadata": {},
   "outputs": [],
   "source": [
    "setup = vmlab.create_setup(\n",
    "    model=vmango,\n",
    "    start_date='2003-06-01',\n",
    "    end_date='2005-06-01',\n",
    "    setup_toml='../../share/setup/vmango.toml',\n",
    "    current_cycle=3,\n",
    "    output_vars={var: 'day' for var in vmlab.get_vars_from_model(vmango, ['fruit_quality'])}\n",
    ")"
   ]
  },
  {
   "cell_type": "code",
   "execution_count": null,
   "id": "8615aae6-815d-4bd1-bda8-e9618a963b22",
   "metadata": {},
   "outputs": [],
   "source": [
    "# data from 'tmp/vmango.store' will be loaded lazily. That is why we have dask arrays here. To load all in memory use ds_out.load() \n",
    "ds_out = vmlab.run(setup, vmango, store='tmp/vmango.store')\n",
    "ds_out"
   ]
  },
  {
   "cell_type": "code",
   "execution_count": null,
   "id": "d4a2f663-6509-430e-89ca-ae9a9393e717",
   "metadata": {},
   "outputs": [],
   "source": [
    "ds_out.load()"
   ]
  },
  {
   "cell_type": "code",
   "execution_count": null,
   "id": "d9b11df5-dcb7-4ef3-a907-48b22637c459",
   "metadata": {},
   "outputs": [],
   "source": [
    "ds_out.to_netcdf('tmp/vmango.nc')\n",
    "ds = xr.open_dataset('tmp/vmango.nc', mask_and_scale=False)\n",
    "display(ds)\n",
    "ds.close()"
   ]
  },
  {
   "cell_type": "code",
   "execution_count": null,
   "id": "c078baf9",
   "metadata": {},
   "outputs": [],
   "source": []
  }
 ],
 "metadata": {
  "kernelspec": {
   "display_name": "Python 3",
   "language": "python",
   "name": "python3"
  },
  "language_info": {
   "codemirror_mode": {
    "name": "ipython",
    "version": 3
   },
   "file_extension": ".py",
   "mimetype": "text/x-python",
   "name": "python",
   "nbconvert_exporter": "python",
   "pygments_lexer": "ipython3",
   "version": "3.8.9"
  },
  "widgets": {
   "application/vnd.jupyter.widget-state+json": {
    "state": {
     "117046dcc2c34d59bd840ed433ac3687": {
      "model_module": "@jupyter-widgets/controls",
      "model_module_version": "1.5.0",
      "model_name": "HTMLModel",
      "state": {
       "layout": "IPY_MODEL_51d50a2160cc4299a146b00182e36955",
       "style": "IPY_MODEL_7989b6aa4fce48c88648d3b38e6a6e92"
      }
     },
     "13ce031d4fd54f32b835a5411ff4005c": {
      "model_module": "@jupyter-widgets/controls",
      "model_module_version": "1.5.0",
      "model_name": "FloatProgressModel",
      "state": {
       "bar_style": "success",
       "layout": "IPY_MODEL_f2ba15936d8b4464b2ed0ee4d10b0331",
       "max": 733,
       "style": "IPY_MODEL_23f140c4d8ba4ede9d980dd90f304b95",
       "value": 733
      }
     },
     "23f140c4d8ba4ede9d980dd90f304b95": {
      "model_module": "@jupyter-widgets/controls",
      "model_module_version": "1.5.0",
      "model_name": "ProgressStyleModel",
      "state": {
       "description_width": ""
      }
     },
     "3797a55dd9e14dd493c274886940b139": {
      "model_module": "@jupyter-widgets/base",
      "model_module_version": "1.2.0",
      "model_name": "LayoutModel",
      "state": {}
     },
     "51d50a2160cc4299a146b00182e36955": {
      "model_module": "@jupyter-widgets/base",
      "model_module_version": "1.2.0",
      "model_name": "LayoutModel",
      "state": {}
     },
     "5a8dc1f8221c48639e02de701a26f542": {
      "model_module": "@jupyter-widgets/controls",
      "model_module_version": "1.5.0",
      "model_name": "DescriptionStyleModel",
      "state": {
       "description_width": ""
      }
     },
     "5b34e29c55084b3d89d17eb75dc00fbe": {
      "model_module": "@jupyter-widgets/base",
      "model_module_version": "1.2.0",
      "model_name": "LayoutModel",
      "state": {}
     },
     "67a809a04022488ca48bdb2ec8b61ba4": {
      "model_module": "@jupyter-widgets/controls",
      "model_module_version": "1.5.0",
      "model_name": "ProgressStyleModel",
      "state": {
       "description_width": ""
      }
     },
     "77433c25e3644bfb8f9d2ba0815d7871": {
      "model_module": "@jupyter-widgets/controls",
      "model_module_version": "1.5.0",
      "model_name": "HTMLModel",
      "state": {
       "layout": "IPY_MODEL_5b34e29c55084b3d89d17eb75dc00fbe",
       "style": "IPY_MODEL_92533c717f844688853fd322a8b011b7",
       "value": " 100% | Simulation finished in 00:51 "
      }
     },
     "7989b6aa4fce48c88648d3b38e6a6e92": {
      "model_module": "@jupyter-widgets/controls",
      "model_module_version": "1.5.0",
      "model_name": "DescriptionStyleModel",
      "state": {
       "description_width": ""
      }
     },
     "8871f99bee254c0fa35ba5bb3c446586": {
      "model_module": "@jupyter-widgets/base",
      "model_module_version": "1.2.0",
      "model_name": "LayoutModel",
      "state": {}
     },
     "8912362c772a4463a6018b7430a2e406": {
      "model_module": "@jupyter-widgets/controls",
      "model_module_version": "1.5.0",
      "model_name": "HTMLModel",
      "state": {
       "layout": "IPY_MODEL_9405b4d83c9a451c96f3822c403fdb2c",
       "style": "IPY_MODEL_a7e71e8d747643ee98d34850e44a7739"
      }
     },
     "8f40e7a8982f491e8e0d726aa9e877d9": {
      "model_module": "@jupyter-widgets/controls",
      "model_module_version": "1.5.0",
      "model_name": "HTMLModel",
      "state": {
       "layout": "IPY_MODEL_e9532b427c864317bfea41c103f68e22",
       "style": "IPY_MODEL_5a8dc1f8221c48639e02de701a26f542",
       "value": " 100% | Simulation finished in 01:30 "
      }
     },
     "92533c717f844688853fd322a8b011b7": {
      "model_module": "@jupyter-widgets/controls",
      "model_module_version": "1.5.0",
      "model_name": "DescriptionStyleModel",
      "state": {
       "description_width": ""
      }
     },
     "9405b4d83c9a451c96f3822c403fdb2c": {
      "model_module": "@jupyter-widgets/base",
      "model_module_version": "1.2.0",
      "model_name": "LayoutModel",
      "state": {}
     },
     "9e714aa55c8845d99d5cce39ae80c0dd": {
      "model_module": "@jupyter-widgets/base",
      "model_module_version": "1.2.0",
      "model_name": "LayoutModel",
      "state": {}
     },
     "9fdcbdfdea924bb1a393f488297e70a1": {
      "model_module": "@jupyter-widgets/controls",
      "model_module_version": "1.5.0",
      "model_name": "HBoxModel",
      "state": {
       "children": [
        "IPY_MODEL_8912362c772a4463a6018b7430a2e406",
        "IPY_MODEL_cf13939398214b5ab44f8cbb498f9367",
        "IPY_MODEL_8f40e7a8982f491e8e0d726aa9e877d9"
       ],
       "layout": "IPY_MODEL_8871f99bee254c0fa35ba5bb3c446586"
      }
     },
     "a7e71e8d747643ee98d34850e44a7739": {
      "model_module": "@jupyter-widgets/controls",
      "model_module_version": "1.5.0",
      "model_name": "DescriptionStyleModel",
      "state": {
       "description_width": ""
      }
     },
     "c40d14f4af534cac974f2df0b4ddeaef": {
      "model_module": "@jupyter-widgets/controls",
      "model_module_version": "1.5.0",
      "model_name": "HBoxModel",
      "state": {
       "children": [
        "IPY_MODEL_117046dcc2c34d59bd840ed433ac3687",
        "IPY_MODEL_13ce031d4fd54f32b835a5411ff4005c",
        "IPY_MODEL_77433c25e3644bfb8f9d2ba0815d7871"
       ],
       "layout": "IPY_MODEL_9e714aa55c8845d99d5cce39ae80c0dd"
      }
     },
     "cf13939398214b5ab44f8cbb498f9367": {
      "model_module": "@jupyter-widgets/controls",
      "model_module_version": "1.5.0",
      "model_name": "FloatProgressModel",
      "state": {
       "bar_style": "success",
       "layout": "IPY_MODEL_3797a55dd9e14dd493c274886940b139",
       "max": 733,
       "style": "IPY_MODEL_67a809a04022488ca48bdb2ec8b61ba4",
       "value": 733
      }
     },
     "e9532b427c864317bfea41c103f68e22": {
      "model_module": "@jupyter-widgets/base",
      "model_module_version": "1.2.0",
      "model_name": "LayoutModel",
      "state": {}
     },
     "f2ba15936d8b4464b2ed0ee4d10b0331": {
      "model_module": "@jupyter-widgets/base",
      "model_module_version": "1.2.0",
      "model_name": "LayoutModel",
      "state": {}
     }
    },
    "version_major": 2,
    "version_minor": 0
   }
  }
 },
 "nbformat": 4,
 "nbformat_minor": 5
}
