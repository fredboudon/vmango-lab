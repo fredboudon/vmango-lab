{
 "cells": [
  {
   "cell_type": "markdown",
   "id": "portuguese-warren",
   "metadata": {},
   "source": [
    "##  examples for playing and testing topologies with scipy, igraph, numpy"
   ]
  },
  {
   "cell_type": "code",
   "execution_count": null,
   "id": "published-pottery",
   "metadata": {},
   "outputs": [],
   "source": [
    "import numpy as np\n",
    "import igraph as ig\n",
    "from scipy.sparse import csgraph as cs"
   ]
  },
  {
   "cell_type": "code",
   "execution_count": null,
   "id": "protective-letters",
   "metadata": {},
   "outputs": [],
   "source": [
    "initial_tree = np.array([\n",
    "    [0, 1, 1, 0],\n",
    "    [0, 0, 0, 0],\n",
    "    [0, 0, 0, 1],\n",
    "    [0, 0, 0, 0]\n",
    "])\n",
    "initial_tree"
   ]
  },
  {
   "cell_type": "code",
   "execution_count": null,
   "id": "certain-shannon",
   "metadata": {},
   "outputs": [],
   "source": [
    "# create properties per GU index\n",
    "gus = np.array([0, 1, 2, 3])\n",
    "position = np.array(['apical', 'apical', 'lateral', 'apical'])\n",
    "nb_fruits = np.array([0, 1, 2, 0])\n",
    "nb_leaves = np.array([1, 2, 2, 1])"
   ]
  },
  {
   "cell_type": "code",
   "execution_count": null,
   "id": "operational-wells",
   "metadata": {},
   "outputs": [],
   "source": [
    "# plot tree and vertex properties\n",
    "graph = ig.Graph.Adjacency(initial_tree.tolist())\n",
    "layout = graph.layout_reingold_tilford()\n",
    "layout.rotate(-90)\n",
    "ig.plot(graph, layout=layout, bbox=(600, 200), **{\n",
    "    'vertex_color': ['white' if f == 0 else 'red' for f in nb_fruits],\n",
    "    'vertex_label': [i for i in gus],\n",
    "    'edge_color': [ 'green' if position[c] == 'apical' else 'black' for p, c in graph.get_edgelist()]\n",
    "})"
   ]
  },
  {
   "cell_type": "code",
   "execution_count": null,
   "id": "commercial-vaccine",
   "metadata": {},
   "outputs": [],
   "source": [
    "# define flows from GU row index _> GU column index\n",
    "gu_x_gu = np.array([\n",
    "    [0, 0.5, 0.5, 0],\n",
    "    [0, 1  , 0  , 0],\n",
    "    [0, 0  , 1  , 0],\n",
    "    [0, 0.25  , 0.75  , 0]\n",
    "])"
   ]
  },
  {
   "cell_type": "code",
   "execution_count": null,
   "id": "wired-baking",
   "metadata": {},
   "outputs": [],
   "source": [
    "# extract edges\n",
    "edges = np.argwhere(gu_x_gu)\n",
    "edges"
   ]
  },
  {
   "cell_type": "code",
   "execution_count": null,
   "id": "logical-dimension",
   "metadata": {},
   "outputs": [],
   "source": [
    "# flow coef. per edge\n",
    "edges_flow = gu_x_gu[tuple(edges.transpose())]\n",
    "edges_flow"
   ]
  },
  {
   "cell_type": "code",
   "execution_count": null,
   "id": "passive-arrangement",
   "metadata": {},
   "outputs": [],
   "source": [
    "# display flows\n",
    "graph_flow = ig.Graph.Adjacency((gu_x_gu > 0).tolist())\n",
    "ig.plot(graph_flow, layout=layout, bbox=(600, 200), **{\n",
    "    'vertex_color': ['white' if f == 0 else 'red' for f in nb_fruits],\n",
    "    'vertex_label': [i for i in gus],\n",
    "    'edge_width': [f*5 for f in edges_flow]\n",
    "\n",
    "}, margin=(20,50,20,50))"
   ]
  },
  {
   "cell_type": "code",
   "execution_count": null,
   "id": "outer-catholic",
   "metadata": {},
   "outputs": [],
   "source": [
    "# examples for computing aggregates based on flow coef.\n",
    "gu_x_gu.transpose() * nb_leaves"
   ]
  },
  {
   "cell_type": "code",
   "execution_count": null,
   "id": "focused-briefing",
   "metadata": {},
   "outputs": [],
   "source": [
    "np.sum(gu_x_gu.transpose()  * nb_leaves, 1)"
   ]
  },
  {
   "cell_type": "code",
   "execution_count": null,
   "id": "respected-header",
   "metadata": {},
   "outputs": [],
   "source": [
    "gu_x_gu.transpose() * nb_fruits"
   ]
  },
  {
   "cell_type": "code",
   "execution_count": null,
   "id": "later-funeral",
   "metadata": {},
   "outputs": [],
   "source": [
    "np.sum(gu_x_gu.transpose() * nb_fruits, 1)"
   ]
  },
  {
   "cell_type": "code",
   "execution_count": null,
   "id": "animal-layout",
   "metadata": {},
   "outputs": [],
   "source": [
    "# leaf-fruit ratio\n",
    "np.sum(gu_x_gu.transpose() * nb_leaves, 1) / np.sum(gu_x_gu.transpose() * nb_fruits, 1)"
   ]
  },
  {
   "cell_type": "code",
   "execution_count": null,
   "id": "instrumental-detection",
   "metadata": {},
   "outputs": [],
   "source": [
    "sparse_tree = cs.csgraph_from_dense(initial_tree)"
   ]
  },
  {
   "cell_type": "code",
   "execution_count": null,
   "id": "external-highlight",
   "metadata": {},
   "outputs": [],
   "source": [
    "distance = cs.shortest_path(sparse_tree, indices=np.argwhere(nb_fruits).flatten(), directed=False)\n",
    "distance"
   ]
  },
  {
   "cell_type": "code",
   "execution_count": null,
   "id": "configured-promotion",
   "metadata": {},
   "outputs": [],
   "source": [
    "flow = 1 - distance / distance.sum(0)\n",
    "flow"
   ]
  },
  {
   "cell_type": "code",
   "execution_count": null,
   "id": "adjusted-radiation",
   "metadata": {},
   "outputs": [],
   "source": [
    "t = np.zeros(initial_tree.shape)\n",
    "t[:,(nb_fruits > 0)] = flow.transpose()\n",
    "t"
   ]
  },
  {
   "cell_type": "code",
   "execution_count": null,
   "id": "checked-amplifier",
   "metadata": {},
   "outputs": [],
   "source": [
    "edges = np.argwhere(t)"
   ]
  },
  {
   "cell_type": "code",
   "execution_count": null,
   "id": "expected-import",
   "metadata": {},
   "outputs": [],
   "source": [
    "edges_flow = gu_x_gu[tuple(edges.transpose())]\n",
    "edges_flow"
   ]
  },
  {
   "cell_type": "code",
   "execution_count": null,
   "id": "extreme-nature",
   "metadata": {},
   "outputs": [],
   "source": [
    "# display flows\n",
    "graph_flow = ig.Graph.Adjacency((gu_x_gu > 0).tolist())\n",
    "ig.plot(graph_flow, layout=layout, bbox=(600, 200), **{\n",
    "    'vertex_color': ['white' if f == 0 else 'red' for f in nb_fruits],\n",
    "    'vertex_label': [i for i in gus],\n",
    "    'edge_width': [f*5 for f in edges_flow]\n",
    "\n",
    "}, margin=(20,50,20,50))"
   ]
  },
  {
   "cell_type": "code",
   "execution_count": null,
   "id": "olive-elephant",
   "metadata": {},
   "outputs": [],
   "source": [
    "# find parent\n",
    "initial_tree"
   ]
  },
  {
   "cell_type": "code",
   "execution_count": null,
   "id": "domestic-mambo",
   "metadata": {},
   "outputs": [],
   "source": [
    "# pick child 1 and 3 and select columns\n",
    "initial_tree[:,[1,3]]"
   ]
  },
  {
   "cell_type": "code",
   "execution_count": null,
   "id": "active-torture",
   "metadata": {},
   "outputs": [],
   "source": [
    "# get idx pairs of non-zero values\n",
    "np.argwhere(initial_tree[:,[1,3]])"
   ]
  },
  {
   "cell_type": "code",
   "execution_count": null,
   "id": "peaceful-shareware",
   "metadata": {},
   "outputs": [],
   "source": [
    "# pick the first colum of all rows - the index of the parent\n",
    "(np.argwhere(initial_tree[:,[1,3]]))[:,0]"
   ]
  },
  {
   "cell_type": "code",
   "execution_count": null,
   "id": "damaged-martial",
   "metadata": {},
   "outputs": [],
   "source": []
  }
 ],
 "metadata": {
  "kernelspec": {
   "display_name": "Python 3",
   "language": "python",
   "name": "python3"
  },
  "language_info": {
   "codemirror_mode": {
    "name": "ipython",
    "version": 3
   },
   "file_extension": ".py",
   "mimetype": "text/x-python",
   "name": "python",
   "nbconvert_exporter": "python",
   "pygments_lexer": "ipython3",
   "version": "3.8.9"
  },
  "widgets": {
   "application/vnd.jupyter.widget-state+json": {
    "state": {},
    "version_major": 2,
    "version_minor": 0
   }
  }
 },
 "nbformat": 4,
 "nbformat_minor": 5
}
