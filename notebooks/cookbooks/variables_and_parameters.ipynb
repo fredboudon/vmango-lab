{
 "cells": [
  {
   "cell_type": "markdown",
   "id": "9b6abebb-043a-4c61-86e0-18bc1be38c3b",
   "metadata": {},
   "source": [
    "## Exploring parameters and variables\n",
    "\n",
    "Parameters as assumed being somewhat static. But for certain use-cases (sensitivity analysis, calibration) it might be necessary to\n",
    "explore the parameter space. This can be achived by 'wrapping', inheriting from a process and implementing parameters (present in parameter toml files) as variables."
   ]
  },
  {
   "cell_type": "code",
   "execution_count": 1,
   "id": "italic-movement",
   "metadata": {},
   "outputs": [],
   "source": [
    "import numpy as np\n",
    "import pandas as pd\n",
    "import igraph as ig\n",
    "import xsimlab as xs\n",
    "import xarray as xr\n",
    "import vmlab\n",
    "from vmlab.models import fruit_model"
   ]
  },
  {
   "cell_type": "code",
   "execution_count": 2,
   "id": "b747e565-310a-4104-a0f7-c798d27ad19c",
   "metadata": {},
   "outputs": [],
   "source": [
    "from vmlab.processes.carbon_demand import CarbonDemand\n",
    "\n",
    "# create a new process and change parameter into variable\n",
    "@xs.process\n",
    "class CarbonDemandTest(CarbonDemand):\n",
    "    RGR_fruit_ini = xs.variable()\n",
    "    def initialize(self):\n",
    "        super(CarbonDemandTest, self).initialize()\n",
    "        # overwrite a parameter from carbon_demand.toml\n",
    "        self.parameters.RGR_fruit_ini = self.RGR_fruit_ini"
   ]
  },
  {
   "cell_type": "code",
   "execution_count": 3,
   "id": "radical-recruitment",
   "metadata": {},
   "outputs": [],
   "source": [
    "fruit_model = fruit_model.update_processes({\n",
    "    'carbon_demand': CarbonDemandTest\n",
    "}).drop_processes('fruit_quality')"
   ]
  },
  {
   "cell_type": "code",
   "execution_count": 4,
   "id": "enormous-basic",
   "metadata": {},
   "outputs": [],
   "source": [
    "tree = pd.read_csv('../../share/trees/branch_G3.csv')\n",
    "small_branch = tree[tree.id < 18] # just two fruits"
   ]
  },
  {
   "cell_type": "code",
   "execution_count": 5,
   "id": "88753c1d-9536-4ca0-8676-3d27997c36a8",
   "metadata": {},
   "outputs": [],
   "source": [
    "# use a custom weather file\n",
    "wheater = pd.read_csv('../../share/environment/smartis_lingne_paradis_01.2002_01.2008.csv', sep=';', parse_dates=['Jour'])\n",
    "wheater = wheater[wheater.Jour <= np.datetime64('2003-06-01')] # drop some rows\n",
    "wheater.to_csv('tmp/weather.csv', sep=';')"
   ]
  },
  {
   "cell_type": "code",
   "execution_count": 6,
   "id": "conventional-receptor",
   "metadata": {},
   "outputs": [],
   "source": [
    "setup = vmlab.create_setup(\n",
    "    model=fruit_model,\n",
    "    tree=small_branch,\n",
    "    start_date='2002-06-01',\n",
    "    end_date='2003-06-01',\n",
    "    setup_toml='../../share/setup/fruit_model_branch.toml',\n",
    "    current_cycle=3,\n",
    "    input_vars={\n",
    "        'growth__leaf_senescence_enabled': False,\n",
    "        'environment__weather_file': 'tmp/weather.csv'\n",
    "    },\n",
    "    output_vars={\n",
    "        'carbon_allocation__DM_fruit': 'day',\n",
    "        'carbon_demand__D_fruit': 'day',\n",
    "        'carbon_demand__RGR_fruit_ini': None,\n",
    "        'carbon_demand__DM_fruit_0': None\n",
    "    }\n",
    ")"
   ]
  },
  {
   "cell_type": "code",
   "execution_count": 7,
   "id": "6fade3f1-0168-487a-8880-24a250c4b48d",
   "metadata": {},
   "outputs": [
    {
     "data": {
      "application/vnd.jupyter.widget-view+json": {
       "model_id": "4a55ea9d52c1495e8a3852c0eec8cfde",
       "version_major": 2,
       "version_minor": 0
      },
      "text/plain": [
       "             0% | initialize "
      ]
     },
     "metadata": {},
     "output_type": "display_data"
    },
    {
     "data": {
      "application/vnd.jupyter.widget-view+json": {
       "model_id": "28b2e4e143bc48f6b4b1b4362dd5b511",
       "version_major": 2,
       "version_minor": 0
      },
      "text/plain": [
       "             0% | initialize "
      ]
     },
     "metadata": {},
     "output_type": "display_data"
    },
    {
     "data": {
      "application/vnd.jupyter.widget-view+json": {
       "model_id": "f6e44fb55e25450e8354463dae0f4c94",
       "version_major": 2,
       "version_minor": 0
      },
      "text/plain": [
       "             0% | initialize "
      ]
     },
     "metadata": {},
     "output_type": "display_data"
    },
    {
     "data": {
      "application/vnd.jupyter.widget-view+json": {
       "model_id": "7ae7b11c249d43669903e673d521ed96",
       "version_major": 2,
       "version_minor": 0
      },
      "text/plain": [
       "             0% | initialize "
      ]
     },
     "metadata": {},
     "output_type": "display_data"
    },
    {
     "data": {
      "application/vnd.jupyter.widget-view+json": {
       "model_id": "8e3fb65240c94419ae0592b8235c7895",
       "version_major": 2,
       "version_minor": 0
      },
      "text/plain": [
       "             0% | initialize "
      ]
     },
     "metadata": {},
     "output_type": "display_data"
    },
    {
     "data": {
      "text/html": [
       "<div><svg style=\"position: absolute; width: 0; height: 0; overflow: hidden\">\n",
       "<defs>\n",
       "<symbol id=\"icon-database\" viewBox=\"0 0 32 32\">\n",
       "<path d=\"M16 0c-8.837 0-16 2.239-16 5v4c0 2.761 7.163 5 16 5s16-2.239 16-5v-4c0-2.761-7.163-5-16-5z\"></path>\n",
       "<path d=\"M16 17c-8.837 0-16-2.239-16-5v6c0 2.761 7.163 5 16 5s16-2.239 16-5v-6c0 2.761-7.163 5-16 5z\"></path>\n",
       "<path d=\"M16 26c-8.837 0-16-2.239-16-5v6c0 2.761 7.163 5 16 5s16-2.239 16-5v-6c0 2.761-7.163 5-16 5z\"></path>\n",
       "</symbol>\n",
       "<symbol id=\"icon-file-text2\" viewBox=\"0 0 32 32\">\n",
       "<path d=\"M28.681 7.159c-0.694-0.947-1.662-2.053-2.724-3.116s-2.169-2.030-3.116-2.724c-1.612-1.182-2.393-1.319-2.841-1.319h-15.5c-1.378 0-2.5 1.121-2.5 2.5v27c0 1.378 1.122 2.5 2.5 2.5h23c1.378 0 2.5-1.122 2.5-2.5v-19.5c0-0.448-0.137-1.23-1.319-2.841zM24.543 5.457c0.959 0.959 1.712 1.825 2.268 2.543h-4.811v-4.811c0.718 0.556 1.584 1.309 2.543 2.268zM28 29.5c0 0.271-0.229 0.5-0.5 0.5h-23c-0.271 0-0.5-0.229-0.5-0.5v-27c0-0.271 0.229-0.5 0.5-0.5 0 0 15.499-0 15.5 0v7c0 0.552 0.448 1 1 1h7v19.5z\"></path>\n",
       "<path d=\"M23 26h-14c-0.552 0-1-0.448-1-1s0.448-1 1-1h14c0.552 0 1 0.448 1 1s-0.448 1-1 1z\"></path>\n",
       "<path d=\"M23 22h-14c-0.552 0-1-0.448-1-1s0.448-1 1-1h14c0.552 0 1 0.448 1 1s-0.448 1-1 1z\"></path>\n",
       "<path d=\"M23 18h-14c-0.552 0-1-0.448-1-1s0.448-1 1-1h14c0.552 0 1 0.448 1 1s-0.448 1-1 1z\"></path>\n",
       "</symbol>\n",
       "</defs>\n",
       "</svg>\n",
       "<style>/* CSS stylesheet for displaying xarray objects in jupyterlab.\n",
       " *\n",
       " */\n",
       "\n",
       ":root {\n",
       "  --xr-font-color0: var(--jp-content-font-color0, rgba(0, 0, 0, 1));\n",
       "  --xr-font-color2: var(--jp-content-font-color2, rgba(0, 0, 0, 0.54));\n",
       "  --xr-font-color3: var(--jp-content-font-color3, rgba(0, 0, 0, 0.38));\n",
       "  --xr-border-color: var(--jp-border-color2, #e0e0e0);\n",
       "  --xr-disabled-color: var(--jp-layout-color3, #bdbdbd);\n",
       "  --xr-background-color: var(--jp-layout-color0, white);\n",
       "  --xr-background-color-row-even: var(--jp-layout-color1, white);\n",
       "  --xr-background-color-row-odd: var(--jp-layout-color2, #eeeeee);\n",
       "}\n",
       "\n",
       "html[theme=dark],\n",
       "body.vscode-dark {\n",
       "  --xr-font-color0: rgba(255, 255, 255, 1);\n",
       "  --xr-font-color2: rgba(255, 255, 255, 0.54);\n",
       "  --xr-font-color3: rgba(255, 255, 255, 0.38);\n",
       "  --xr-border-color: #1F1F1F;\n",
       "  --xr-disabled-color: #515151;\n",
       "  --xr-background-color: #111111;\n",
       "  --xr-background-color-row-even: #111111;\n",
       "  --xr-background-color-row-odd: #313131;\n",
       "}\n",
       "\n",
       ".xr-wrap {\n",
       "  display: block;\n",
       "  min-width: 300px;\n",
       "  max-width: 700px;\n",
       "}\n",
       "\n",
       ".xr-text-repr-fallback {\n",
       "  /* fallback to plain text repr when CSS is not injected (untrusted notebook) */\n",
       "  display: none;\n",
       "}\n",
       "\n",
       ".xr-header {\n",
       "  padding-top: 6px;\n",
       "  padding-bottom: 6px;\n",
       "  margin-bottom: 4px;\n",
       "  border-bottom: solid 1px var(--xr-border-color);\n",
       "}\n",
       "\n",
       ".xr-header > div,\n",
       ".xr-header > ul {\n",
       "  display: inline;\n",
       "  margin-top: 0;\n",
       "  margin-bottom: 0;\n",
       "}\n",
       "\n",
       ".xr-obj-type,\n",
       ".xr-array-name {\n",
       "  margin-left: 2px;\n",
       "  margin-right: 10px;\n",
       "}\n",
       "\n",
       ".xr-obj-type {\n",
       "  color: var(--xr-font-color2);\n",
       "}\n",
       "\n",
       ".xr-sections {\n",
       "  padding-left: 0 !important;\n",
       "  display: grid;\n",
       "  grid-template-columns: 150px auto auto 1fr 20px 20px;\n",
       "}\n",
       "\n",
       ".xr-section-item {\n",
       "  display: contents;\n",
       "}\n",
       "\n",
       ".xr-section-item input {\n",
       "  display: none;\n",
       "}\n",
       "\n",
       ".xr-section-item input + label {\n",
       "  color: var(--xr-disabled-color);\n",
       "}\n",
       "\n",
       ".xr-section-item input:enabled + label {\n",
       "  cursor: pointer;\n",
       "  color: var(--xr-font-color2);\n",
       "}\n",
       "\n",
       ".xr-section-item input:enabled + label:hover {\n",
       "  color: var(--xr-font-color0);\n",
       "}\n",
       "\n",
       ".xr-section-summary {\n",
       "  grid-column: 1;\n",
       "  color: var(--xr-font-color2);\n",
       "  font-weight: 500;\n",
       "}\n",
       "\n",
       ".xr-section-summary > span {\n",
       "  display: inline-block;\n",
       "  padding-left: 0.5em;\n",
       "}\n",
       "\n",
       ".xr-section-summary-in:disabled + label {\n",
       "  color: var(--xr-font-color2);\n",
       "}\n",
       "\n",
       ".xr-section-summary-in + label:before {\n",
       "  display: inline-block;\n",
       "  content: '►';\n",
       "  font-size: 11px;\n",
       "  width: 15px;\n",
       "  text-align: center;\n",
       "}\n",
       "\n",
       ".xr-section-summary-in:disabled + label:before {\n",
       "  color: var(--xr-disabled-color);\n",
       "}\n",
       "\n",
       ".xr-section-summary-in:checked + label:before {\n",
       "  content: '▼';\n",
       "}\n",
       "\n",
       ".xr-section-summary-in:checked + label > span {\n",
       "  display: none;\n",
       "}\n",
       "\n",
       ".xr-section-summary,\n",
       ".xr-section-inline-details {\n",
       "  padding-top: 4px;\n",
       "  padding-bottom: 4px;\n",
       "}\n",
       "\n",
       ".xr-section-inline-details {\n",
       "  grid-column: 2 / -1;\n",
       "}\n",
       "\n",
       ".xr-section-details {\n",
       "  display: none;\n",
       "  grid-column: 1 / -1;\n",
       "  margin-bottom: 5px;\n",
       "}\n",
       "\n",
       ".xr-section-summary-in:checked ~ .xr-section-details {\n",
       "  display: contents;\n",
       "}\n",
       "\n",
       ".xr-array-wrap {\n",
       "  grid-column: 1 / -1;\n",
       "  display: grid;\n",
       "  grid-template-columns: 20px auto;\n",
       "}\n",
       "\n",
       ".xr-array-wrap > label {\n",
       "  grid-column: 1;\n",
       "  vertical-align: top;\n",
       "}\n",
       "\n",
       ".xr-preview {\n",
       "  color: var(--xr-font-color3);\n",
       "}\n",
       "\n",
       ".xr-array-preview,\n",
       ".xr-array-data {\n",
       "  padding: 0 5px !important;\n",
       "  grid-column: 2;\n",
       "}\n",
       "\n",
       ".xr-array-data,\n",
       ".xr-array-in:checked ~ .xr-array-preview {\n",
       "  display: none;\n",
       "}\n",
       "\n",
       ".xr-array-in:checked ~ .xr-array-data,\n",
       ".xr-array-preview {\n",
       "  display: inline-block;\n",
       "}\n",
       "\n",
       ".xr-dim-list {\n",
       "  display: inline-block !important;\n",
       "  list-style: none;\n",
       "  padding: 0 !important;\n",
       "  margin: 0;\n",
       "}\n",
       "\n",
       ".xr-dim-list li {\n",
       "  display: inline-block;\n",
       "  padding: 0;\n",
       "  margin: 0;\n",
       "}\n",
       "\n",
       ".xr-dim-list:before {\n",
       "  content: '(';\n",
       "}\n",
       "\n",
       ".xr-dim-list:after {\n",
       "  content: ')';\n",
       "}\n",
       "\n",
       ".xr-dim-list li:not(:last-child):after {\n",
       "  content: ',';\n",
       "  padding-right: 5px;\n",
       "}\n",
       "\n",
       ".xr-has-index {\n",
       "  font-weight: bold;\n",
       "}\n",
       "\n",
       ".xr-var-list,\n",
       ".xr-var-item {\n",
       "  display: contents;\n",
       "}\n",
       "\n",
       ".xr-var-item > div,\n",
       ".xr-var-item label,\n",
       ".xr-var-item > .xr-var-name span {\n",
       "  background-color: var(--xr-background-color-row-even);\n",
       "  margin-bottom: 0;\n",
       "}\n",
       "\n",
       ".xr-var-item > .xr-var-name:hover span {\n",
       "  padding-right: 5px;\n",
       "}\n",
       "\n",
       ".xr-var-list > li:nth-child(odd) > div,\n",
       ".xr-var-list > li:nth-child(odd) > label,\n",
       ".xr-var-list > li:nth-child(odd) > .xr-var-name span {\n",
       "  background-color: var(--xr-background-color-row-odd);\n",
       "}\n",
       "\n",
       ".xr-var-name {\n",
       "  grid-column: 1;\n",
       "}\n",
       "\n",
       ".xr-var-dims {\n",
       "  grid-column: 2;\n",
       "}\n",
       "\n",
       ".xr-var-dtype {\n",
       "  grid-column: 3;\n",
       "  text-align: right;\n",
       "  color: var(--xr-font-color2);\n",
       "}\n",
       "\n",
       ".xr-var-preview {\n",
       "  grid-column: 4;\n",
       "}\n",
       "\n",
       ".xr-var-name,\n",
       ".xr-var-dims,\n",
       ".xr-var-dtype,\n",
       ".xr-preview,\n",
       ".xr-attrs dt {\n",
       "  white-space: nowrap;\n",
       "  overflow: hidden;\n",
       "  text-overflow: ellipsis;\n",
       "  padding-right: 10px;\n",
       "}\n",
       "\n",
       ".xr-var-name:hover,\n",
       ".xr-var-dims:hover,\n",
       ".xr-var-dtype:hover,\n",
       ".xr-attrs dt:hover {\n",
       "  overflow: visible;\n",
       "  width: auto;\n",
       "  z-index: 1;\n",
       "}\n",
       "\n",
       ".xr-var-attrs,\n",
       ".xr-var-data {\n",
       "  display: none;\n",
       "  background-color: var(--xr-background-color) !important;\n",
       "  padding-bottom: 5px !important;\n",
       "}\n",
       "\n",
       ".xr-var-attrs-in:checked ~ .xr-var-attrs,\n",
       ".xr-var-data-in:checked ~ .xr-var-data {\n",
       "  display: block;\n",
       "}\n",
       "\n",
       ".xr-var-data > table {\n",
       "  float: right;\n",
       "}\n",
       "\n",
       ".xr-var-name span,\n",
       ".xr-var-data,\n",
       ".xr-attrs {\n",
       "  padding-left: 25px !important;\n",
       "}\n",
       "\n",
       ".xr-attrs,\n",
       ".xr-var-attrs,\n",
       ".xr-var-data {\n",
       "  grid-column: 1 / -1;\n",
       "}\n",
       "\n",
       "dl.xr-attrs {\n",
       "  padding: 0;\n",
       "  margin: 0;\n",
       "  display: grid;\n",
       "  grid-template-columns: 125px auto;\n",
       "}\n",
       "\n",
       ".xr-attrs dt,\n",
       ".xr-attrs dd {\n",
       "  padding: 0;\n",
       "  margin: 0;\n",
       "  float: left;\n",
       "  padding-right: 10px;\n",
       "  width: auto;\n",
       "}\n",
       "\n",
       ".xr-attrs dt {\n",
       "  font-weight: normal;\n",
       "  grid-column: 1;\n",
       "}\n",
       "\n",
       ".xr-attrs dt:hover span {\n",
       "  display: inline-block;\n",
       "  background: var(--xr-background-color);\n",
       "  padding-right: 10px;\n",
       "}\n",
       "\n",
       ".xr-attrs dd {\n",
       "  grid-column: 2;\n",
       "  white-space: pre-wrap;\n",
       "  word-break: break-all;\n",
       "}\n",
       "\n",
       ".xr-icon-database,\n",
       ".xr-icon-file-text2 {\n",
       "  display: inline-block;\n",
       "  vertical-align: middle;\n",
       "  width: 1em;\n",
       "  height: 1.5em !important;\n",
       "  stroke-width: 0;\n",
       "  stroke: currentColor;\n",
       "  fill: currentColor;\n",
       "}\n",
       "</style><pre class='xr-text-repr-fallback'>&lt;xarray.Dataset&gt;\n",
       "Dimensions:                       (GU: 18, day: 366, test: 5)\n",
       "Coordinates:\n",
       "  * GU                            (GU) int32 0 1 2 3 4 5 6 ... 12 13 14 15 16 17\n",
       "  * day                           (day) datetime64[ns] 2002-06-01 ... 2003-06-01\n",
       "Dimensions without coordinates: test\n",
       "Data variables:\n",
       "    carbon_allocation__DM_fruit   (test, day, GU) float32 0.0 0.0 ... 0.0 0.0\n",
       "    carbon_demand__DM_fruit_0     (test) float64 5.0 10.0 15.0 20.0 25.0\n",
       "    carbon_demand__D_fruit        (test, day, GU) float32 0.0 0.0 ... 0.0 0.0\n",
       "    carbon_demand__RGR_fruit_ini  (test) float64 0.01 0.0125 0.015 0.0175 0.02</pre><div class='xr-wrap' hidden><div class='xr-header'><div class='xr-obj-type'>xarray.Dataset</div></div><ul class='xr-sections'><li class='xr-section-item'><input id='section-c4ec5c28-7c3a-4bc6-903f-89bc00875cdc' class='xr-section-summary-in' type='checkbox' disabled ><label for='section-c4ec5c28-7c3a-4bc6-903f-89bc00875cdc' class='xr-section-summary'  title='Expand/collapse section'>Dimensions:</label><div class='xr-section-inline-details'><ul class='xr-dim-list'><li><span class='xr-has-index'>GU</span>: 18</li><li><span class='xr-has-index'>day</span>: 366</li><li><span>test</span>: 5</li></ul></div><div class='xr-section-details'></div></li><li class='xr-section-item'><input id='section-cfaa7a56-5430-43e0-b19b-c6003ca417f5' class='xr-section-summary-in' type='checkbox'  checked><label for='section-cfaa7a56-5430-43e0-b19b-c6003ca417f5' class='xr-section-summary' >Coordinates: <span>(2)</span></label><div class='xr-section-inline-details'></div><div class='xr-section-details'><ul class='xr-var-list'><li class='xr-var-item'><div class='xr-var-name'><span class='xr-has-index'>GU</span></div><div class='xr-var-dims'>(GU)</div><div class='xr-var-dtype'>int32</div><div class='xr-var-preview xr-preview'>0 1 2 3 4 5 6 ... 12 13 14 15 16 17</div><input id='attrs-f9e43585-c8b4-483d-b349-b6f2f98fb16c' class='xr-var-attrs-in' type='checkbox' ><label for='attrs-f9e43585-c8b4-483d-b349-b6f2f98fb16c' title='Show/Hide attributes'><svg class='icon xr-icon-file-text2'><use xlink:href='#icon-file-text2'></use></svg></label><input id='data-21a3a831-eec0-475e-9c1e-4a71ab865463' class='xr-var-data-in' type='checkbox'><label for='data-21a3a831-eec0-475e-9c1e-4a71ab865463' title='Show/Hide data repr'><svg class='icon xr-icon-database'><use xlink:href='#icon-database'></use></svg></label><div class='xr-var-attrs'><dl class='xr-attrs'><dt><span>_FillValue :</span></dt><dd>0</dd></dl></div><div class='xr-var-data'><pre>array([ 0,  1,  2,  3,  4,  5,  6,  7,  8,  9, 10, 11, 12, 13, 14, 15, 16, 17],\n",
       "      dtype=int32)</pre></div></li><li class='xr-var-item'><div class='xr-var-name'><span class='xr-has-index'>day</span></div><div class='xr-var-dims'>(day)</div><div class='xr-var-dtype'>datetime64[ns]</div><div class='xr-var-preview xr-preview'>2002-06-01 ... 2003-06-01</div><input id='attrs-70912953-195b-4666-9e5b-5580d5192e5a' class='xr-var-attrs-in' type='checkbox' ><label for='attrs-70912953-195b-4666-9e5b-5580d5192e5a' title='Show/Hide attributes'><svg class='icon xr-icon-file-text2'><use xlink:href='#icon-file-text2'></use></svg></label><input id='data-660da28a-62d6-4a6b-97bc-8f3d5704a827' class='xr-var-data-in' type='checkbox'><label for='data-660da28a-62d6-4a6b-97bc-8f3d5704a827' title='Show/Hide data repr'><svg class='icon xr-icon-database'><use xlink:href='#icon-database'></use></svg></label><div class='xr-var-attrs'><dl class='xr-attrs'><dt><span>__xsimlab_master_clock__ :</span></dt><dd>1</dd><dt><span>__xsimlab_output_clock__ :</span></dt><dd>1</dd></dl></div><div class='xr-var-data'><pre>array([&#x27;2002-06-01T00:00:00.000000000&#x27;, &#x27;2002-06-02T00:00:00.000000000&#x27;,\n",
       "       &#x27;2002-06-03T00:00:00.000000000&#x27;, ..., &#x27;2003-05-30T00:00:00.000000000&#x27;,\n",
       "       &#x27;2003-05-31T00:00:00.000000000&#x27;, &#x27;2003-06-01T00:00:00.000000000&#x27;],\n",
       "      dtype=&#x27;datetime64[ns]&#x27;)</pre></div></li></ul></div></li><li class='xr-section-item'><input id='section-aeac7036-f153-4100-9de1-55ce7a335c9e' class='xr-section-summary-in' type='checkbox'  checked><label for='section-aeac7036-f153-4100-9de1-55ce7a335c9e' class='xr-section-summary' >Data variables: <span>(4)</span></label><div class='xr-section-inline-details'></div><div class='xr-section-details'><ul class='xr-var-list'><li class='xr-var-item'><div class='xr-var-name'><span>carbon_allocation__DM_fruit</span></div><div class='xr-var-dims'>(test, day, GU)</div><div class='xr-var-dtype'>float32</div><div class='xr-var-preview xr-preview'>0.0 0.0 0.0 0.0 ... 0.0 0.0 0.0 0.0</div><input id='attrs-bb2d6820-9be0-4968-adc6-7e6ec24cdb05' class='xr-var-attrs-in' type='checkbox' ><label for='attrs-bb2d6820-9be0-4968-adc6-7e6ec24cdb05' title='Show/Hide attributes'><svg class='icon xr-icon-file-text2'><use xlink:href='#icon-file-text2'></use></svg></label><input id='data-9f35f4a4-8884-4bfc-bcb2-4746393f4efd' class='xr-var-data-in' type='checkbox'><label for='data-9f35f4a4-8884-4bfc-bcb2-4746393f4efd' title='Show/Hide data repr'><svg class='icon xr-icon-database'><use xlink:href='#icon-database'></use></svg></label><div class='xr-var-attrs'><dl class='xr-attrs'><dt><span>description :</span></dt><dd>fruit dry mass for average fruit of growth unit</dd><dt><span>unit :</span></dt><dd>g DM</dd></dl></div><div class='xr-var-data'><pre>array([[[0., 0., 0., ..., 0., 0., 0.],\n",
       "        [0., 0., 0., ..., 0., 0., 0.],\n",
       "        [0., 0., 0., ..., 0., 0., 0.],\n",
       "        ...,\n",
       "        [0., 0., 0., ..., 0., 0., 0.],\n",
       "        [0., 0., 0., ..., 0., 0., 0.],\n",
       "        [0., 0., 0., ..., 0., 0., 0.]],\n",
       "\n",
       "       [[0., 0., 0., ..., 0., 0., 0.],\n",
       "        [0., 0., 0., ..., 0., 0., 0.],\n",
       "        [0., 0., 0., ..., 0., 0., 0.],\n",
       "        ...,\n",
       "        [0., 0., 0., ..., 0., 0., 0.],\n",
       "        [0., 0., 0., ..., 0., 0., 0.],\n",
       "        [0., 0., 0., ..., 0., 0., 0.]],\n",
       "\n",
       "       [[0., 0., 0., ..., 0., 0., 0.],\n",
       "        [0., 0., 0., ..., 0., 0., 0.],\n",
       "        [0., 0., 0., ..., 0., 0., 0.],\n",
       "        ...,\n",
       "        [0., 0., 0., ..., 0., 0., 0.],\n",
       "        [0., 0., 0., ..., 0., 0., 0.],\n",
       "        [0., 0., 0., ..., 0., 0., 0.]],\n",
       "\n",
       "       [[0., 0., 0., ..., 0., 0., 0.],\n",
       "        [0., 0., 0., ..., 0., 0., 0.],\n",
       "        [0., 0., 0., ..., 0., 0., 0.],\n",
       "        ...,\n",
       "        [0., 0., 0., ..., 0., 0., 0.],\n",
       "        [0., 0., 0., ..., 0., 0., 0.],\n",
       "        [0., 0., 0., ..., 0., 0., 0.]],\n",
       "\n",
       "       [[0., 0., 0., ..., 0., 0., 0.],\n",
       "        [0., 0., 0., ..., 0., 0., 0.],\n",
       "        [0., 0., 0., ..., 0., 0., 0.],\n",
       "        ...,\n",
       "        [0., 0., 0., ..., 0., 0., 0.],\n",
       "        [0., 0., 0., ..., 0., 0., 0.],\n",
       "        [0., 0., 0., ..., 0., 0., 0.]]], dtype=float32)</pre></div></li><li class='xr-var-item'><div class='xr-var-name'><span>carbon_demand__DM_fruit_0</span></div><div class='xr-var-dims'>(test)</div><div class='xr-var-dtype'>float64</div><div class='xr-var-preview xr-preview'>5.0 10.0 15.0 20.0 25.0</div><input id='attrs-9bafb786-d2ee-4494-88ef-b20ce016494d' class='xr-var-attrs-in' type='checkbox' ><label for='attrs-9bafb786-d2ee-4494-88ef-b20ce016494d' title='Show/Hide attributes'><svg class='icon xr-icon-file-text2'><use xlink:href='#icon-file-text2'></use></svg></label><input id='data-f4f43a6d-a9b6-418c-88d9-75c8e379bd6e' class='xr-var-data-in' type='checkbox'><label for='data-f4f43a6d-a9b6-418c-88d9-75c8e379bd6e' title='Show/Hide data repr'><svg class='icon xr-icon-database'><use xlink:href='#icon-database'></use></svg></label><div class='xr-var-attrs'><dl class='xr-attrs'><dt><span>description :</span></dt><dd>fruit dry mass per fruit at the end of cell division (at 352.72 dd)</dd><dt><span>unit :</span></dt><dd>g DM</dd></dl></div><div class='xr-var-data'><pre>array([ 5., 10., 15., 20., 25.])</pre></div></li><li class='xr-var-item'><div class='xr-var-name'><span>carbon_demand__D_fruit</span></div><div class='xr-var-dims'>(test, day, GU)</div><div class='xr-var-dtype'>float32</div><div class='xr-var-preview xr-preview'>0.0 0.0 0.0 0.0 ... 0.0 0.0 0.0 0.0</div><input id='attrs-c04e7a09-3c0a-4842-902c-9cb66dfd5add' class='xr-var-attrs-in' type='checkbox' ><label for='attrs-c04e7a09-3c0a-4842-902c-9cb66dfd5add' title='Show/Hide attributes'><svg class='icon xr-icon-file-text2'><use xlink:href='#icon-file-text2'></use></svg></label><input id='data-b0f66267-37ce-4384-b7ca-e08a19d9f911' class='xr-var-data-in' type='checkbox'><label for='data-b0f66267-37ce-4384-b7ca-e08a19d9f911' title='Show/Hide data repr'><svg class='icon xr-icon-database'><use xlink:href='#icon-database'></use></svg></label><div class='xr-var-attrs'><dl class='xr-attrs'><dt><span>description :</span></dt><dd>total daily carbon demand for fruit growth of all fruits of gu</dd><dt><span>unit :</span></dt><dd>g C day-1</dd></dl></div><div class='xr-var-data'><pre>array([[[0., 0., 0., ..., 0., 0., 0.],\n",
       "        [0., 0., 0., ..., 0., 0., 0.],\n",
       "        [0., 0., 0., ..., 0., 0., 0.],\n",
       "        ...,\n",
       "        [0., 0., 0., ..., 0., 0., 0.],\n",
       "        [0., 0., 0., ..., 0., 0., 0.],\n",
       "        [0., 0., 0., ..., 0., 0., 0.]],\n",
       "\n",
       "       [[0., 0., 0., ..., 0., 0., 0.],\n",
       "        [0., 0., 0., ..., 0., 0., 0.],\n",
       "        [0., 0., 0., ..., 0., 0., 0.],\n",
       "        ...,\n",
       "        [0., 0., 0., ..., 0., 0., 0.],\n",
       "        [0., 0., 0., ..., 0., 0., 0.],\n",
       "        [0., 0., 0., ..., 0., 0., 0.]],\n",
       "\n",
       "       [[0., 0., 0., ..., 0., 0., 0.],\n",
       "        [0., 0., 0., ..., 0., 0., 0.],\n",
       "        [0., 0., 0., ..., 0., 0., 0.],\n",
       "        ...,\n",
       "        [0., 0., 0., ..., 0., 0., 0.],\n",
       "        [0., 0., 0., ..., 0., 0., 0.],\n",
       "        [0., 0., 0., ..., 0., 0., 0.]],\n",
       "\n",
       "       [[0., 0., 0., ..., 0., 0., 0.],\n",
       "        [0., 0., 0., ..., 0., 0., 0.],\n",
       "        [0., 0., 0., ..., 0., 0., 0.],\n",
       "        ...,\n",
       "        [0., 0., 0., ..., 0., 0., 0.],\n",
       "        [0., 0., 0., ..., 0., 0., 0.],\n",
       "        [0., 0., 0., ..., 0., 0., 0.]],\n",
       "\n",
       "       [[0., 0., 0., ..., 0., 0., 0.],\n",
       "        [0., 0., 0., ..., 0., 0., 0.],\n",
       "        [0., 0., 0., ..., 0., 0., 0.],\n",
       "        ...,\n",
       "        [0., 0., 0., ..., 0., 0., 0.],\n",
       "        [0., 0., 0., ..., 0., 0., 0.],\n",
       "        [0., 0., 0., ..., 0., 0., 0.]]], dtype=float32)</pre></div></li><li class='xr-var-item'><div class='xr-var-name'><span>carbon_demand__RGR_fruit_ini</span></div><div class='xr-var-dims'>(test)</div><div class='xr-var-dtype'>float64</div><div class='xr-var-preview xr-preview'>0.01 0.0125 0.015 0.0175 0.02</div><input id='attrs-af18e47d-cfbb-4d88-b831-6e9c360d7094' class='xr-var-attrs-in' type='checkbox' disabled><label for='attrs-af18e47d-cfbb-4d88-b831-6e9c360d7094' title='Show/Hide attributes'><svg class='icon xr-icon-file-text2'><use xlink:href='#icon-file-text2'></use></svg></label><input id='data-d9a461e2-c760-4348-92f0-397db0d35e01' class='xr-var-data-in' type='checkbox'><label for='data-d9a461e2-c760-4348-92f0-397db0d35e01' title='Show/Hide data repr'><svg class='icon xr-icon-database'><use xlink:href='#icon-database'></use></svg></label><div class='xr-var-attrs'><dl class='xr-attrs'></dl></div><div class='xr-var-data'><pre>array([0.01  , 0.0125, 0.015 , 0.0175, 0.02  ])</pre></div></li></ul></div></li><li class='xr-section-item'><input id='section-9b584f8d-5ffd-40fc-9381-bc2f140ca0b4' class='xr-section-summary-in' type='checkbox' disabled ><label for='section-9b584f8d-5ffd-40fc-9381-bc2f140ca0b4' class='xr-section-summary'  title='Expand/collapse section'>Attributes: <span>(0)</span></label><div class='xr-section-inline-details'></div><div class='xr-section-details'><dl class='xr-attrs'></dl></div></li></ul></div></div>"
      ],
      "text/plain": [
       "<xarray.Dataset>\n",
       "Dimensions:                       (GU: 18, day: 366, test: 5)\n",
       "Coordinates:\n",
       "  * GU                            (GU) int32 0 1 2 3 4 5 6 ... 12 13 14 15 16 17\n",
       "  * day                           (day) datetime64[ns] 2002-06-01 ... 2003-06-01\n",
       "Dimensions without coordinates: test\n",
       "Data variables:\n",
       "    carbon_allocation__DM_fruit   (test, day, GU) float32 0.0 0.0 ... 0.0 0.0\n",
       "    carbon_demand__DM_fruit_0     (test) float64 5.0 10.0 15.0 20.0 25.0\n",
       "    carbon_demand__D_fruit        (test, day, GU) float32 0.0 0.0 ... 0.0 0.0\n",
       "    carbon_demand__RGR_fruit_ini  (test) float64 0.01 0.0125 0.015 0.0175 0.02"
      ]
     },
     "execution_count": 7,
     "metadata": {},
     "output_type": "execute_result"
    }
   ],
   "source": [
    "# change one or more variables and run the model with each set of variables.\n",
    "# Since the process 'CarbonDemandTest' is declared inside a notebook batch mode, prallelization does not work\n",
    "dss = xr.concat([\n",
    "    vmlab.run(setup.xsimlab.update_vars(fruit_model, {\n",
    "        'carbon_demand__RGR_fruit_ini': x,\n",
    "        'carbon_demand__DM_fruit_0': y\n",
    "    }), fruit_model) for x, y in zip(np.linspace(0.01, 0.02, 5), np.linspace(5, 25, 5))\n",
    "], dim='test')\n",
    "dss"
   ]
  },
  {
   "cell_type": "code",
   "execution_count": 8,
   "id": "d77768b4-058b-4be6-8a77-0463239c51a8",
   "metadata": {},
   "outputs": [
    {
     "data": {
      "text/plain": [
       "<xarray.plot.facetgrid.FacetGrid at 0x7f70c25eb1c0>"
      ]
     },
     "execution_count": 8,
     "metadata": {},
     "output_type": "execute_result"
    },
    {
     "data": {
      "image/png": "[encoded data removed]",
      "text/plain": [
       "<Figure size 1080x360 with 10 Axes>"
      ]
     },
     "metadata": {
      "needs_background": "light"
     },
     "output_type": "display_data"
    }
   ],
   "source": [
    "dss.where(dss.carbon_allocation__DM_fruit > 0, drop=True).carbon_demand__D_fruit.plot(col='test', row='GU', figsize=(15, 5))"
   ]
  },
  {
   "cell_type": "code",
   "execution_count": 9,
   "id": "cef888a1-4e9d-41ec-a99f-dca52484236c",
   "metadata": {},
   "outputs": [
    {
     "data": {
      "text/plain": [
       "<xarray.plot.facetgrid.FacetGrid at 0x7f70c11e52b0>"
      ]
     },
     "execution_count": 9,
     "metadata": {},
     "output_type": "execute_result"
    },
    {
     "data": {
      "image/png": "[encoded data removed]",
      "text/plain": [
       "<Figure size 1080x360 with 10 Axes>"
      ]
     },
     "metadata": {
      "needs_background": "light"
     },
     "output_type": "display_data"
    }
   ],
   "source": [
    "dss.where(dss.carbon_allocation__DM_fruit > 0, drop=True).carbon_allocation__DM_fruit.plot(col='test', row='GU', figsize=(15, 5))"
   ]
  },
  {
   "cell_type": "code",
   "execution_count": null,
   "id": "22078abc-d8e7-4434-ad78-bab963f88774",
   "metadata": {},
   "outputs": [],
   "source": []
  }
 ],
 "metadata": {
  "kernelspec": {
   "display_name": "Python 3",
   "language": "python",
   "name": "python3"
  },
  "language_info": {
   "codemirror_mode": {
    "name": "ipython",
    "version": 3
   },
   "file_extension": ".py",
   "mimetype": "text/x-python",
   "name": "python",
   "nbconvert_exporter": "python",
   "pygments_lexer": "ipython3",
   "version": "3.8.10"
  },
  "widgets": {
   "application/vnd.jupyter.widget-state+json": {
    "state": {
     "02df39a2dece4a078ea1334313aaa91b": {
      "model_module": "pgljupyter",
      "model_module_version": "^1.0.5",
      "model_name": "SceneWidgetModel",
      "state": {
       "_model_module_version": "^1.0.5",
       "_view_module_version": "^1.0.5",
       "axes_helper": false,
       "layout": "IPY_MODEL_513a45cb772640dca2caea10b465eb96",
       "light_helper": false,
       "plane": true,
       "size_display": [
        400,
        400
       ],
       "size_world": 2.5
      }
     },
     "10e8cc5d989e42eb85fea55d58491a8b": {
      "model_module": "@jupyter-widgets/controls",
      "model_module_version": "1.5.0",
      "model_name": "DescriptionStyleModel",
      "state": {
       "description_width": ""
      }
     },
     "11af3f9898b74e3baa0d8cd3eb4fa9ee": {
      "model_module": "@jupyter-widgets/controls",
      "model_module_version": "1.5.0",
      "model_name": "ProgressStyleModel",
      "state": {
       "description_width": ""
      }
     },
     "1b80c7183ec8460c8d54d417bc120423": {
      "model_module": "@jupyter-widgets/controls",
      "model_module_version": "1.5.0",
      "model_name": "DescriptionStyleModel",
      "state": {
       "description_width": ""
      }
     },
     "1ee346d6957a49efb9ad2c8c5c6643b1": {
      "model_module": "@jupyter-widgets/controls",
      "model_module_version": "1.5.0",
      "model_name": "DescriptionStyleModel",
      "state": {
       "description_width": ""
      }
     },
     "21fce70e0ac741ce95356a1fb6c0c5fd": {
      "model_module": "pgljupyter",
      "model_module_version": "^1.0.5",
      "model_name": "SceneWidgetModel",
      "state": {
       "_model_module_version": "^1.0.5",
       "_view_module_version": "^1.0.5",
       "axes_helper": false,
       "layout": "IPY_MODEL_a287512f47c14d119ffb82ea9dc5f989",
       "light_helper": false,
       "plane": true,
       "size_display": [
        400,
        400
       ],
       "size_world": 2.5
      }
     },
     "227308a0b6a044559d3aa6429664e6af": {
      "model_module": "@jupyter-widgets/base",
      "model_module_version": "1.2.0",
      "model_name": "LayoutModel",
      "state": {}
     },
     "2b1fad0c5ec842db8e7ec8a988927473": {
      "model_module": "@jupyter-widgets/controls",
      "model_module_version": "1.5.0",
      "model_name": "FloatProgressModel",
      "state": {
       "bar_style": "success",
       "layout": "IPY_MODEL_b3d421f94a1347d08f5314f83e64c038",
       "max": 367,
       "style": "IPY_MODEL_11af3f9898b74e3baa0d8cd3eb4fa9ee",
       "value": 367
      }
     },
     "336e97c85195484faa628aaa345e90bd": {
      "model_module": "@jupyter-widgets/base",
      "model_module_version": "1.2.0",
      "model_name": "LayoutModel",
      "state": {}
     },
     "3b6f8cb9900c4679986aa85a947d0550": {
      "model_module": "@jupyter-widgets/controls",
      "model_module_version": "1.5.0",
      "model_name": "HTMLModel",
      "state": {
       "layout": "IPY_MODEL_675a5b0bf88c4936b1840c3f9fb99136",
       "style": "IPY_MODEL_1ee346d6957a49efb9ad2c8c5c6643b1",
       "value": " 100% | Simulation finished in 00:14 "
      }
     },
     "426a82777605492896a208f5068dd3dc": {
      "model_module": "@jupyter-widgets/base",
      "model_module_version": "1.2.0",
      "model_name": "LayoutModel",
      "state": {}
     },
     "44e130f1b36a4e05a06c1dfa28356320": {
      "model_module": "@jupyter-widgets/controls",
      "model_module_version": "1.5.0",
      "model_name": "HBoxModel",
      "state": {
       "children": [
        "IPY_MODEL_ce229c6067aa4ad5a1e56d476b30218e",
        "IPY_MODEL_b4fa181cc76a4791a8ec5a27d01c8e20",
        "IPY_MODEL_3b6f8cb9900c4679986aa85a947d0550"
       ],
       "layout": "IPY_MODEL_6cf004c680554617bc6b884a8b353a58"
      }
     },
     "451c4c7e79734a66b7f231b63d5446b5": {
      "model_module": "@jupyter-widgets/controls",
      "model_module_version": "1.5.0",
      "model_name": "ProgressStyleModel",
      "state": {
       "description_width": ""
      }
     },
     "4975c5ca93e54940bff8cfdaed5ea5ee": {
      "model_module": "@jupyter-widgets/controls",
      "model_module_version": "1.5.0",
      "model_name": "ProgressStyleModel",
      "state": {
       "description_width": ""
      }
     },
     "4ce68588045643cdb2ed646c8ed983eb": {
      "model_module": "@jupyter-widgets/controls",
      "model_module_version": "1.5.0",
      "model_name": "DescriptionStyleModel",
      "state": {
       "description_width": ""
      }
     },
     "513a45cb772640dca2caea10b465eb96": {
      "model_module": "@jupyter-widgets/base",
      "model_module_version": "1.2.0",
      "model_name": "LayoutModel",
      "state": {}
     },
     "660b6d7058ec477ab2468bb82a721765": {
      "model_module": "@jupyter-widgets/controls",
      "model_module_version": "1.5.0",
      "model_name": "HTMLModel",
      "state": {
       "layout": "IPY_MODEL_7d50c29e0866469e8eefbdad09c987df",
       "style": "IPY_MODEL_1b80c7183ec8460c8d54d417bc120423"
      }
     },
     "675a5b0bf88c4936b1840c3f9fb99136": {
      "model_module": "@jupyter-widgets/base",
      "model_module_version": "1.2.0",
      "model_name": "LayoutModel",
      "state": {}
     },
     "6cf004c680554617bc6b884a8b353a58": {
      "model_module": "@jupyter-widgets/base",
      "model_module_version": "1.2.0",
      "model_name": "LayoutModel",
      "state": {}
     },
     "6d1791243d874ff59083430040383710": {
      "buffers": [
       {
        "data": "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",
        "encoding": "base64",
        "path": [
         "scenes",
         0,
         "data"
        ]
       }
      ],
      "model_module": "pgljupyter",
      "model_module_version": "^1.0.5",
      "model_name": "SceneWidgetModel",
      "state": {
       "_model_module_version": "^1.0.5",
       "_view_module_version": "^1.0.5",
       "axes_helper": false,
       "layout": "IPY_MODEL_336e97c85195484faa628aaa345e90bd",
       "light_helper": false,
       "plane": true,
       "scenes": [
        {
         "data": {},
         "id": "OSgPQoYZWzNxzPM6BJXDeshv5PfqNdZtCRl5rfRKPU8qxGGJsf9DD8c7dU2zXqXsbBXmHyQeF8Ha0bs6KFSEkNjqL7xVVPOz61dh",
         "position": [
          0,
          0,
          0
         ],
         "scale": 0.01,
         "scene": "<openalea.plantgl.scenegraph._pglsg.Scene object at 0x7fbc7fed6400>"
        }
       ],
       "size_display": [
        400,
        400
       ],
       "size_world": 2.5
      }
     },
     "7158968c81c742659cff12567671f087": {
      "model_module": "@jupyter-widgets/base",
      "model_module_version": "1.2.0",
      "model_name": "LayoutModel",
      "state": {}
     },
     "729ffe7cba364e38aaaba4e72089e395": {
      "model_module": "@jupyter-widgets/controls",
      "model_module_version": "1.5.0",
      "model_name": "DescriptionStyleModel",
      "state": {
       "description_width": ""
      }
     },
     "7d50c29e0866469e8eefbdad09c987df": {
      "model_module": "@jupyter-widgets/base",
      "model_module_version": "1.2.0",
      "model_name": "LayoutModel",
      "state": {}
     },
     "82b0295285c14a8b8c805beec923d518": {
      "model_module": "@jupyter-widgets/base",
      "model_module_version": "1.2.0",
      "model_name": "LayoutModel",
      "state": {}
     },
     "83beb42fcb38413e88185db307436c49": {
      "model_module": "@jupyter-widgets/controls",
      "model_module_version": "1.5.0",
      "model_name": "FloatProgressModel",
      "state": {
       "bar_style": "success",
       "layout": "IPY_MODEL_c433e9dadb8e42d3b3bfc8af7f677afa",
       "max": 367,
       "style": "IPY_MODEL_451c4c7e79734a66b7f231b63d5446b5",
       "value": 367
      }
     },
     "8c73fe5b2ffe4695960e9dec2ec96c2e": {
      "model_module": "@jupyter-widgets/controls",
      "model_module_version": "1.5.0",
      "model_name": "HTMLModel",
      "state": {
       "layout": "IPY_MODEL_9e4b0e6b1c994561831270e101bc9983",
       "style": "IPY_MODEL_4ce68588045643cdb2ed646c8ed983eb"
      }
     },
     "8ee6a35e80834fb69cb9e1420e598a98": {
      "model_module": "@jupyter-widgets/controls",
      "model_module_version": "1.5.0",
      "model_name": "HTMLModel",
      "state": {
       "layout": "IPY_MODEL_edb977d207a2477b9f23f802aeaaa7f4",
       "style": "IPY_MODEL_f76654f74c794ee19b576231fe2f968c",
       "value": " 100% | Simulation finished in 00:14 "
      }
     },
     "93225618d10b4fc1b0f6c86cf1984853": {
      "model_module": "@jupyter-widgets/controls",
      "model_module_version": "1.5.0",
      "model_name": "HTMLModel",
      "state": {
       "layout": "IPY_MODEL_227308a0b6a044559d3aa6429664e6af",
       "style": "IPY_MODEL_10e8cc5d989e42eb85fea55d58491a8b",
       "value": " 100% | Simulation finished in 00:08 "
      }
     },
     "9e4b0e6b1c994561831270e101bc9983": {
      "model_module": "@jupyter-widgets/base",
      "model_module_version": "1.2.0",
      "model_name": "LayoutModel",
      "state": {}
     },
     "a287512f47c14d119ffb82ea9dc5f989": {
      "model_module": "@jupyter-widgets/base",
      "model_module_version": "1.2.0",
      "model_name": "LayoutModel",
      "state": {}
     },
     "b3d421f94a1347d08f5314f83e64c038": {
      "model_module": "@jupyter-widgets/base",
      "model_module_version": "1.2.0",
      "model_name": "LayoutModel",
      "state": {}
     },
     "b4fa181cc76a4791a8ec5a27d01c8e20": {
      "model_module": "@jupyter-widgets/controls",
      "model_module_version": "1.5.0",
      "model_name": "FloatProgressModel",
      "state": {
       "bar_style": "success",
       "layout": "IPY_MODEL_7158968c81c742659cff12567671f087",
       "max": 367,
       "style": "IPY_MODEL_4975c5ca93e54940bff8cfdaed5ea5ee",
       "value": 367
      }
     },
     "c433e9dadb8e42d3b3bfc8af7f677afa": {
      "model_module": "@jupyter-widgets/base",
      "model_module_version": "1.2.0",
      "model_name": "LayoutModel",
      "state": {}
     },
     "ce229c6067aa4ad5a1e56d476b30218e": {
      "model_module": "@jupyter-widgets/controls",
      "model_module_version": "1.5.0",
      "model_name": "HTMLModel",
      "state": {
       "layout": "IPY_MODEL_f94ceaa51c0745d484802cddf7e0ce84",
       "style": "IPY_MODEL_729ffe7cba364e38aaaba4e72089e395"
      }
     },
     "df4918c9f5b14f9ebefd998893b26dd8": {
      "model_module": "@jupyter-widgets/controls",
      "model_module_version": "1.5.0",
      "model_name": "HBoxModel",
      "state": {
       "children": [
        "IPY_MODEL_660b6d7058ec477ab2468bb82a721765",
        "IPY_MODEL_2b1fad0c5ec842db8e7ec8a988927473",
        "IPY_MODEL_93225618d10b4fc1b0f6c86cf1984853"
       ],
       "layout": "IPY_MODEL_82b0295285c14a8b8c805beec923d518"
      }
     },
     "edb977d207a2477b9f23f802aeaaa7f4": {
      "model_module": "@jupyter-widgets/base",
      "model_module_version": "1.2.0",
      "model_name": "LayoutModel",
      "state": {}
     },
     "f76654f74c794ee19b576231fe2f968c": {
      "model_module": "@jupyter-widgets/controls",
      "model_module_version": "1.5.0",
      "model_name": "DescriptionStyleModel",
      "state": {
       "description_width": ""
      }
     },
     "f94ceaa51c0745d484802cddf7e0ce84": {
      "model_module": "@jupyter-widgets/base",
      "model_module_version": "1.2.0",
      "model_name": "LayoutModel",
      "state": {}
     },
     "f955d345cd244a1181ae982359532b9a": {
      "model_module": "@jupyter-widgets/controls",
      "model_module_version": "1.5.0",
      "model_name": "HBoxModel",
      "state": {
       "children": [
        "IPY_MODEL_8c73fe5b2ffe4695960e9dec2ec96c2e",
        "IPY_MODEL_83beb42fcb38413e88185db307436c49",
        "IPY_MODEL_8ee6a35e80834fb69cb9e1420e598a98"
       ],
       "layout": "IPY_MODEL_426a82777605492896a208f5068dd3dc"
      }
     }
    },
    "version_major": 2,
    "version_minor": 0
   }
  }
 },
 "nbformat": 4,
 "nbformat_minor": 5
}
