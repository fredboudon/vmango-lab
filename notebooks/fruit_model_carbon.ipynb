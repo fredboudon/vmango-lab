{
 "cells": [
  {
   "cell_type": "code",
   "execution_count": null,
   "id": "internal-monaco",
   "metadata": {},
   "outputs": [],
   "source": [
    "import numpy as np\n",
    "import pandas as pd\n",
    "import igraph as ig\n",
    "import vmlab"
   ]
  },
  {
   "cell_type": "code",
   "execution_count": null,
   "id": "amino-population",
   "metadata": {},
   "outputs": [],
   "source": [
    "from vmlab.models import fruit_model\n",
    "fruit_model = fruit_model.drop_processes(['fruit_quality','fruit_composition'])\n",
    "fruit_model.visualize()"
   ]
  },
  {
   "cell_type": "code",
   "execution_count": null,
   "id": "valid-label",
   "metadata": {},
   "outputs": [],
   "source": [
    "tree = pd.DataFrame({\n",
    "    'parent_id': [np.nan, 0, 0],\n",
    "    'id': [0, 1, 2],\n",
    "    'cycle': [3, 3, 3],\n",
    "    'is_apical': [1, 0, 1],\n",
    "    'appearance_month': [2, 2, 2],\n",
    "    'ancestor_nature': [0, 0, 0],\n",
    "    'ancestor_is_apical': [1, 1, 1],\n",
    "    'nature': [0, 0, 0],\n",
    "    'burst_date': ['NAT', 'NAT', 'NAT'],\n",
    "    'flowering_date': ['NAT', '2002-10-01', '2002-09-01'],\n",
    "    'has_apical_child': [1, 0, 0],\n",
    "    'nb_lateral_children': [1, 0, 0],\n",
    "    'nb_inflo': [0, 1, 2],\n",
    "    'nb_fruit': [0, 1, 1]\n",
    "    \n",
    "})\n",
    "in_g = ig.Graph.DataFrame(tree.dropna())\n",
    "ig.plot(in_g, bbox=(0,0,150,150), layout=in_g.layout_reingold_tilford())"
   ]
  },
  {
   "cell_type": "code",
   "execution_count": null,
   "id": "pretty-canon",
   "metadata": {},
   "outputs": [],
   "source": [
    "setup = vmlab.create_setup(\n",
    "    model=fruit_model,\n",
    "    tree=tree,\n",
    "    start_date='2002-06-01',\n",
    "    end_date='2003-06-01',\n",
    "    setup_toml='../share/setup/fruit_model.toml',\n",
    "    current_cycle=3,\n",
    "    input_vars={\n",
    "        'topology': {\n",
    "            'seed': 11,\n",
    "        },\n",
    "        'geometry__interpretation_freq': 3\n",
    "    },\n",
    "    output_vars={\n",
    "        'topology': {\n",
    "            'adjacency': 'day'\n",
    "        },\n",
    "        'environment': {\n",
    "            'TM': 'day',\n",
    "            'TM_day': 'day',\n",
    "            'GR': 'day'\n",
    "        },\n",
    "        'photosynthesis': {\n",
    "            'photo': 'day',\n",
    "            'Pmax': 'day',\n",
    "            'D_fruit_avg': 'day'\n",
    "        },\n",
    "        'phenology': {\n",
    "            'inflo_stage': 'day',\n",
    "            'nb_fruit': 'day',\n",
    "            'DAFB': 'day',\n",
    "            'fruit_growth_tts': 'day'\n",
    "        },\n",
    "        'carbon_demand': {\n",
    "            'D_fruit': 'day',\n",
    "            'MR_stem': 'day',\n",
    "            'MR_leaf': 'day',\n",
    "            'MR_fruit': 'day',\n",
    "            \n",
    "        },\n",
    "        'carbon_reserve': {\n",
    "            'DM_structural_stem': 'day',\n",
    "            'DM_structural_leaf': 'day',\n",
    "            'reserve_stem': 'day',\n",
    "            'reserve_leaf': 'day',\n",
    "            'reserve_mob': 'day',\n",
    "            'reserve_nmob_stem': 'day',\n",
    "            'reserve_nmob_leaf': 'day',\n",
    "            'reserve_leaf_max': 'day'\n",
    "        },\n",
    "        'carbon_allocation': {\n",
    "            'carbon_supply': 'day',\n",
    "            'DM_fruit': 'day',\n",
    "            'reserve_stem_delta': 'day',\n",
    "            'reserve_leaf_delta': 'day',\n",
    "            'reserve_nmob_stem_delta': 'day',\n",
    "            'reserve_nmob_leaf_delta': 'day',\n",
    "            'remains_1': 'day',\n",
    "            'required_DM_fruit': 'day'\n",
    "        },\n",
    "        'harvest': {\n",
    "            'ripeness_index': 'day',\n",
    "            'nb_fruit_harvested': None\n",
    "        },\n",
    "        'growth': {\n",
    "            'nb_leaf': None,\n",
    "        }\n",
    "     }\n",
    ")"
   ]
  },
  {
   "cell_type": "code",
   "execution_count": null,
   "id": "pacific-victorian",
   "metadata": {},
   "outputs": [],
   "source": [
    "ds_out = vmlab.run(setup, fruit_model, geometry=True)"
   ]
  },
  {
   "cell_type": "code",
   "execution_count": null,
   "id": "charged-engineer",
   "metadata": {},
   "outputs": [],
   "source": [
    "g = ig.Graph.Adjacency([row.tolist() for row in ds_out.topology__adjacency[-1].data.astype(np.int64)])\n",
    "layout = g.layout_reingold_tilford(root=0.)\n",
    "layout.rotate(-180)\n",
    "ig.plot(g, layout=layout, bbox=(600, 300), **{\n",
    "    'vertex_size': 1,\n",
    "    'vertex_label_size': 10,\n",
    "    'edge_arrow_width': 0.1,\n",
    "    'vertex_label': [\n",
    "        f'GU{idx}\\nF:{int(ds_out.harvest__nb_fruit_harvested.data[idx])}\\nL:{int(ds_out.growth__nb_leaf.data[idx])}' for idx in g.vs.indices\n",
    "    ]\n",
    "})"
   ]
  },
  {
   "cell_type": "code",
   "execution_count": null,
   "id": "hearing-message",
   "metadata": {},
   "outputs": [],
   "source": [
    "ds_out.phenology__fruit_growth_tts.plot(col='GU', col_wrap=6)"
   ]
  },
  {
   "cell_type": "code",
   "execution_count": null,
   "id": "determined-asset",
   "metadata": {},
   "outputs": [],
   "source": [
    "ds_out.carbon_allocation__DM_fruit.plot(col='GU', col_wrap=6)"
   ]
  },
  {
   "cell_type": "code",
   "execution_count": null,
   "id": "atomic-matter",
   "metadata": {},
   "outputs": [],
   "source": [
    "ds_out.carbon_demand__D_fruit.plot(col='GU', col_wrap=6)"
   ]
  },
  {
   "cell_type": "code",
   "execution_count": null,
   "id": "advised-frame",
   "metadata": {},
   "outputs": [],
   "source": [
    "ds_out.photosynthesis__D_fruit_avg.plot(col='GU', col_wrap=6)"
   ]
  },
  {
   "cell_type": "code",
   "execution_count": null,
   "id": "caring-village",
   "metadata": {},
   "outputs": [],
   "source": [
    "ds_out.photosynthesis__Pmax.plot(col='GU', col_wrap=6)"
   ]
  },
  {
   "cell_type": "code",
   "execution_count": null,
   "id": "gross-pickup",
   "metadata": {},
   "outputs": [],
   "source": [
    "ds_out.photosynthesis__photo.plot(col='GU', col_wrap=6)"
   ]
  },
  {
   "cell_type": "code",
   "execution_count": null,
   "id": "distinguished-peace",
   "metadata": {},
   "outputs": [],
   "source": []
  }
 ],
 "metadata": {
  "kernelspec": {
   "display_name": "Python 3",
   "language": "python",
   "name": "python3"
  },
  "language_info": {
   "codemirror_mode": {
    "name": "ipython",
    "version": 3
   },
   "file_extension": ".py",
   "mimetype": "text/x-python",
   "name": "python",
   "nbconvert_exporter": "python",
   "pygments_lexer": "ipython3",
   "version": "3.8.9"
  },
  "widgets": {
   "application/vnd.jupyter.widget-state+json": {
    "state": {
     "0481dd2687724caa9d7562f6e293635b": {
      "model_module": "@jupyter-widgets/controls",
      "model_module_version": "1.5.0",
      "model_name": "DescriptionStyleModel",
      "state": {
       "description_width": ""
      }
     },
     "123228b9a4ea4915977e69e41e0cde03": {
      "model_module": "pgljupyter",
      "model_module_version": "^1.0.5",
      "model_name": "SceneWidgetModel",
      "state": {
       "_model_module_version": "^1.0.5",
       "_view_module_version": "^1.0.5",
       "axes_helper": false,
       "layout": "IPY_MODEL_65c5ee2653844c9e8279704c526c5b63",
       "light_helper": false,
       "plane": true,
       "size_display": [
        400,
        400
       ],
       "size_world": 2.5
      }
     },
     "1e360c5cb36040be8f500c4d13c5b983": {
      "buffers": [
       {
        "data": "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",
        "encoding": "base64",
        "path": [
         "scenes",
         0,
         "data"
        ]
       }
      ],
      "model_module": "pgljupyter",
      "model_module_version": "^1.0.5",
      "model_name": "SceneWidgetModel",
      "state": {
       "_model_module_version": "^1.0.5",
       "_view_module_version": "^1.0.5",
       "axes_helper": false,
       "layout": "IPY_MODEL_bf3e1c523aa84e7194f7f899a99764a4",
       "light_helper": false,
       "plane": true,
       "scenes": [
        {
         "id": "mzpa3Q97QAQKfGyrqOzfKfl8lgR4zzfaF0AsszZrozy9PyrMXt0h8ZCPWnmkNTpTb6VCmLRBWlO17qwJBtPouFUMmqlSZ9oHSd2c",
         "position": [
          0,
          0,
          0
         ],
         "scale": 0.01,
         "scene": "<openalea.plantgl.scenegraph._pglsg.Scene object at 0x1504d01c0>"
        }
       ],
       "size_display": [
        400,
        400
       ],
       "size_world": 2.5
      }
     },
     "2f371492ad324c74b984203f805f7b67": {
      "model_module": "@jupyter-widgets/controls",
      "model_module_version": "1.5.0",
      "model_name": "FloatProgressModel",
      "state": {
       "bar_style": "success",
       "layout": "IPY_MODEL_668a8c1295c7464496a38e7ee36db080",
       "max": 367,
       "style": "IPY_MODEL_6917118c812c4ebba5dd94fa86eb9275",
       "value": 367
      }
     },
     "3b9d9a6e9e2e4230b0342741ed9494da": {
      "model_module": "@jupyter-widgets/controls",
      "model_module_version": "1.5.0",
      "model_name": "FloatProgressModel",
      "state": {
       "bar_style": "success",
       "layout": "IPY_MODEL_c677351f50924df199874c082c93091e",
       "max": 367,
       "style": "IPY_MODEL_bcdbf2f8ecc348edb7df260750451b32",
       "value": 367
      }
     },
     "3e22c485f2b94ac099f9896e7f992230": {
      "model_module": "@jupyter-widgets/controls",
      "model_module_version": "1.5.0",
      "model_name": "DescriptionStyleModel",
      "state": {
       "description_width": ""
      }
     },
     "4835431b29b04aa1a33f79c9ef63c5c7": {
      "model_module": "@jupyter-widgets/controls",
      "model_module_version": "1.5.0",
      "model_name": "HTMLModel",
      "state": {
       "layout": "IPY_MODEL_52e2051cd92141a1a253168aed95fc3d",
       "style": "IPY_MODEL_3e22c485f2b94ac099f9896e7f992230"
      }
     },
     "4ad2f642bea045469a05d2d3e92f43e6": {
      "model_module": "@jupyter-widgets/controls",
      "model_module_version": "1.5.0",
      "model_name": "HBoxModel",
      "state": {
       "children": [
        "IPY_MODEL_4835431b29b04aa1a33f79c9ef63c5c7",
        "IPY_MODEL_3b9d9a6e9e2e4230b0342741ed9494da",
        "IPY_MODEL_79de54282f4d425bb5461d0ea4280f04"
       ],
       "layout": "IPY_MODEL_c7ed042a52754ea7bb77defbc69483ad"
      }
     },
     "52e2051cd92141a1a253168aed95fc3d": {
      "model_module": "@jupyter-widgets/base",
      "model_module_version": "1.2.0",
      "model_name": "LayoutModel",
      "state": {}
     },
     "5ea2a3f511664566933a3671f42ea3a3": {
      "model_module": "@jupyter-widgets/controls",
      "model_module_version": "1.5.0",
      "model_name": "HTMLModel",
      "state": {
       "layout": "IPY_MODEL_a3845567930a46ddb238e8ce82d6a0ca",
       "style": "IPY_MODEL_6e4c5350afa34c64a17514b08d9d83af",
       "value": " 100% | Simulation finished in 00:12 "
      }
     },
     "65c5ee2653844c9e8279704c526c5b63": {
      "model_module": "@jupyter-widgets/base",
      "model_module_version": "1.2.0",
      "model_name": "LayoutModel",
      "state": {}
     },
     "668a8c1295c7464496a38e7ee36db080": {
      "model_module": "@jupyter-widgets/base",
      "model_module_version": "1.2.0",
      "model_name": "LayoutModel",
      "state": {}
     },
     "6917118c812c4ebba5dd94fa86eb9275": {
      "model_module": "@jupyter-widgets/controls",
      "model_module_version": "1.5.0",
      "model_name": "ProgressStyleModel",
      "state": {
       "description_width": ""
      }
     },
     "6e4c5350afa34c64a17514b08d9d83af": {
      "model_module": "@jupyter-widgets/controls",
      "model_module_version": "1.5.0",
      "model_name": "DescriptionStyleModel",
      "state": {
       "description_width": ""
      }
     },
     "79de54282f4d425bb5461d0ea4280f04": {
      "model_module": "@jupyter-widgets/controls",
      "model_module_version": "1.5.0",
      "model_name": "HTMLModel",
      "state": {
       "layout": "IPY_MODEL_ef1d05732f4449a5a26722ea44f08aba",
       "style": "IPY_MODEL_0481dd2687724caa9d7562f6e293635b",
       "value": " 100% | Simulation finished in 00:12 "
      }
     },
     "a3845567930a46ddb238e8ce82d6a0ca": {
      "model_module": "@jupyter-widgets/base",
      "model_module_version": "1.2.0",
      "model_name": "LayoutModel",
      "state": {}
     },
     "bcdbf2f8ecc348edb7df260750451b32": {
      "model_module": "@jupyter-widgets/controls",
      "model_module_version": "1.5.0",
      "model_name": "ProgressStyleModel",
      "state": {
       "description_width": ""
      }
     },
     "bf3e1c523aa84e7194f7f899a99764a4": {
      "model_module": "@jupyter-widgets/base",
      "model_module_version": "1.2.0",
      "model_name": "LayoutModel",
      "state": {}
     },
     "c677351f50924df199874c082c93091e": {
      "model_module": "@jupyter-widgets/base",
      "model_module_version": "1.2.0",
      "model_name": "LayoutModel",
      "state": {}
     },
     "c7ed042a52754ea7bb77defbc69483ad": {
      "model_module": "@jupyter-widgets/base",
      "model_module_version": "1.2.0",
      "model_name": "LayoutModel",
      "state": {}
     },
     "ccf73079e7224dabb075682ca1f7d5b6": {
      "model_module": "@jupyter-widgets/controls",
      "model_module_version": "1.5.0",
      "model_name": "HBoxModel",
      "state": {
       "children": [
        "IPY_MODEL_d79ce23cb6be4c8d873e98bbaac41830",
        "IPY_MODEL_2f371492ad324c74b984203f805f7b67",
        "IPY_MODEL_5ea2a3f511664566933a3671f42ea3a3"
       ],
       "layout": "IPY_MODEL_cfd285388895497dbffbc3468ae3708b"
      }
     },
     "cfd285388895497dbffbc3468ae3708b": {
      "model_module": "@jupyter-widgets/base",
      "model_module_version": "1.2.0",
      "model_name": "LayoutModel",
      "state": {}
     },
     "d706ae1a33104197ad21664244f7540e": {
      "model_module": "@jupyter-widgets/base",
      "model_module_version": "1.2.0",
      "model_name": "LayoutModel",
      "state": {}
     },
     "d79ce23cb6be4c8d873e98bbaac41830": {
      "model_module": "@jupyter-widgets/controls",
      "model_module_version": "1.5.0",
      "model_name": "HTMLModel",
      "state": {
       "layout": "IPY_MODEL_d706ae1a33104197ad21664244f7540e",
       "style": "IPY_MODEL_d873b20e65d9478f87c349d4754ab8f8"
      }
     },
     "d873b20e65d9478f87c349d4754ab8f8": {
      "model_module": "@jupyter-widgets/controls",
      "model_module_version": "1.5.0",
      "model_name": "DescriptionStyleModel",
      "state": {
       "description_width": ""
      }
     },
     "ef1d05732f4449a5a26722ea44f08aba": {
      "model_module": "@jupyter-widgets/base",
      "model_module_version": "1.2.0",
      "model_name": "LayoutModel",
      "state": {}
     }
    },
    "version_major": 2,
    "version_minor": 0
   }
  }
 },
 "nbformat": 4,
 "nbformat_minor": 5
}
