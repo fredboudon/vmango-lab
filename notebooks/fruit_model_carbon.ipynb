{
 "cells": [
  {
   "cell_type": "code",
   "execution_count": null,
   "id": "internal-monaco",
   "metadata": {},
   "outputs": [],
   "source": [
    "import numpy as np\n",
    "import pandas as pd\n",
    "import igraph as ig\n",
    "import vmlab"
   ]
  },
  {
   "cell_type": "code",
   "execution_count": null,
   "id": "amino-population",
   "metadata": {},
   "outputs": [],
   "source": [
    "from vmlab.models import fruit_model\n",
    "fruit_model = fruit_model.drop_processes(['fruit_quality','fruit_composition'])\n",
    "fruit_model.visualize()"
   ]
  },
  {
   "cell_type": "code",
   "execution_count": null,
   "id": "valid-label",
   "metadata": {},
   "outputs": [],
   "source": [
    "tree = pd.DataFrame({\n",
    "    'parent_id': [np.nan, 0, 1, 1],\n",
    "    'id': [0, 1, 2, 3],\n",
    "    'topology__is_apical': [1, 1, 0, 1],\n",
    "    'arch_dev__pot_flowering_date': ['NaT', 'NaT', 'NaT', '2002-09-01'],\n",
    "    'arch_dev__pot_nb_inflo': [0, 0, 0, 1],\n",
    "    'arch_dev__pot_nb_fruit': [0, 0, 0, 1],\n",
    "    'growth__radius_gu': [2, 1, 0.5, 0.5],\n",
    "    'growth__nb_leaf': [0, 10, 5, 10],\n",
    "    'appearance__final_length_gu': [20, 30, 10, 20],\n",
    "    'light_interception__sunlit_fraction_col': [1, 2, 3, 4]\n",
    "})"
   ]
  },
  {
   "cell_type": "code",
   "execution_count": null,
   "id": "acc0a338-aca4-4cb8-81d2-2a9f7a4d9325",
   "metadata": {},
   "outputs": [],
   "source": [
    "graph = vmlab.to_graph(tree)\n",
    "vmlab.check_graph(graph)"
   ]
  },
  {
   "cell_type": "code",
   "execution_count": null,
   "id": "b2ad71ef-e478-4b81-b25d-09e724cc5e36",
   "metadata": {},
   "outputs": [],
   "source": [
    "ig.plot(graph, bbox=(0,0,150,150), layout=graph.layout_reingold_tilford())"
   ]
  },
  {
   "cell_type": "code",
   "execution_count": null,
   "id": "pretty-canon",
   "metadata": {},
   "outputs": [],
   "source": [
    "setup = vmlab.create_setup(\n",
    "    model=fruit_model,\n",
    "    tree=tree,\n",
    "    start_date='2002-06-01',\n",
    "    end_date='2003-06-01',\n",
    "    setup_toml='fruit_model.toml',\n",
    "    current_cycle=3,\n",
    "    input_vars={\n",
    "        'topology__seed': 11,\n",
    "        'carbon_flow_coef__max_distance_to_fruit': 1,\n",
    "        'geometry__interpretation_freq': 1,\n",
    "        'growth__leaf_senescence_enabled': False\n",
    "    },\n",
    "    output_vars={\n",
    "        'topology': {\n",
    "            'adjacency': 'day'\n",
    "        },\n",
    "        'environment': {\n",
    "            'TM': 'day',\n",
    "            'TM_day': 'day',\n",
    "            'GR': 'day'\n",
    "        },\n",
    "        'photosynthesis': {\n",
    "            'photo': 'day',\n",
    "            'Pmax': 'day',\n",
    "            'D_fruit_avg': 'day'\n",
    "        },\n",
    "        'phenology': {\n",
    "            'inflo_stage': 'day',\n",
    "            'nb_fruit': 'day',\n",
    "            'DAFB': 'day',\n",
    "            'fruit_growth_tts': 'day'\n",
    "        },\n",
    "        'carbon_demand': {\n",
    "            'D_fruit': 'day',\n",
    "            'MR_stem': 'day',\n",
    "            'MR_leaf': 'day',\n",
    "            'MR_fruit': 'day',\n",
    "            \n",
    "        },\n",
    "        'carbon_reserve': {\n",
    "            'DM_structural_stem': 'day',\n",
    "            'DM_structural_leaf': 'day',\n",
    "            'reserve_stem': 'day',\n",
    "            'reserve_leaf': 'day',\n",
    "            'reserve_mob': 'day',\n",
    "            'reserve_nmob_stem': 'day',\n",
    "            'reserve_nmob_leaf': 'day',\n",
    "            'reserve_leaf_max': 'day'\n",
    "        },\n",
    "        'carbon_allocation': {\n",
    "            'carbon_supply': 'day',\n",
    "            'DM_fruit': 'day',\n",
    "            'reserve_stem_delta': 'day',\n",
    "            'reserve_leaf_delta': 'day',\n",
    "            'reserve_nmob_stem_delta': 'day',\n",
    "            'reserve_nmob_leaf_delta': 'day',\n",
    "            'remains_1': 'day',\n",
    "            'required_DM_fruit': 'day'\n",
    "        },\n",
    "        'harvest': {\n",
    "            'ripeness_index': 'day',\n",
    "            'nb_fruit_harvested': None\n",
    "        },\n",
    "        'growth': {\n",
    "            'nb_leaf': None,\n",
    "        },\n",
    "        'light_interception__sunlit_fraction': 'day'\n",
    "     }\n",
    ")"
   ]
  },
  {
   "cell_type": "code",
   "execution_count": null,
   "id": "pacific-victorian",
   "metadata": {},
   "outputs": [],
   "source": [
    "ds_out = vmlab.run(setup, fruit_model, geometry=True)"
   ]
  },
  {
   "cell_type": "code",
   "execution_count": null,
   "id": "charged-engineer",
   "metadata": {},
   "outputs": [],
   "source": [
    "g = ig.Graph.Adjacency([row.tolist() for row in ds_out.topology__adjacency[-1].data.astype(np.int64)])\n",
    "layout = g.layout_reingold_tilford()\n",
    "layout.rotate(-180)\n",
    "ig.plot(g, layout=layout, bbox=(600, 300), **{\n",
    "    'vertex_size': 1,\n",
    "    'vertex_label_size': 10,\n",
    "    'edge_arrow_width': 0.1,\n",
    "    'vertex_label': [\n",
    "        f'GU{idx}\\nF:{int(ds_out.harvest__nb_fruit_harvested.data[idx])}\\nL:{int(ds_out.growth__nb_leaf.data[idx])}' for idx in g.vs.indices\n",
    "    ]\n",
    "})"
   ]
  },
  {
   "cell_type": "code",
   "execution_count": null,
   "id": "75f2a91b-0a15-4caf-9054-ae207699972d",
   "metadata": {},
   "outputs": [],
   "source": [
    "ds_out.light_interception__sunlit_fraction.plot(col='GU', col_wrap=6)"
   ]
  },
  {
   "cell_type": "code",
   "execution_count": null,
   "id": "hearing-message",
   "metadata": {},
   "outputs": [],
   "source": [
    "ds_out.phenology__fruit_growth_tts.plot(col='GU', col_wrap=6)"
   ]
  },
  {
   "cell_type": "code",
   "execution_count": null,
   "id": "determined-asset",
   "metadata": {},
   "outputs": [],
   "source": [
    "ds_out.carbon_allocation__DM_fruit.plot(col='GU', col_wrap=6)"
   ]
  },
  {
   "cell_type": "code",
   "execution_count": null,
   "id": "atomic-matter",
   "metadata": {},
   "outputs": [],
   "source": [
    "ds_out.carbon_demand__D_fruit.plot(col='GU', col_wrap=6)"
   ]
  },
  {
   "cell_type": "code",
   "execution_count": null,
   "id": "advised-frame",
   "metadata": {},
   "outputs": [],
   "source": [
    "ds_out.photosynthesis__D_fruit_avg.plot(col='GU', col_wrap=6)"
   ]
  },
  {
   "cell_type": "code",
   "execution_count": null,
   "id": "caring-village",
   "metadata": {},
   "outputs": [],
   "source": [
    "ds_out.photosynthesis__Pmax.plot(col='GU', col_wrap=6)"
   ]
  },
  {
   "cell_type": "code",
   "execution_count": null,
   "id": "gross-pickup",
   "metadata": {},
   "outputs": [],
   "source": [
    "ds_out.photosynthesis__photo.plot(col='GU', col_wrap=6)"
   ]
  },
  {
   "cell_type": "code",
   "execution_count": null,
   "id": "fc100a8f-be24-4971-b6cb-5ffb43375838",
   "metadata": {},
   "outputs": [],
   "source": []
  }
 ],
 "metadata": {
  "kernelspec": {
   "display_name": "Python 3 (ipykernel)",
   "language": "python",
   "name": "python3"
  },
  "language_info": {
   "codemirror_mode": {
    "name": "ipython",
    "version": 3
   },
   "file_extension": ".py",
   "mimetype": "text/x-python",
   "name": "python",
   "nbconvert_exporter": "python",
   "pygments_lexer": "ipython3",
   "version": "3.10.13"
  },
  "widgets": {
   "application/vnd.jupyter.widget-state+json": {
    "state": {
     "016f17b73d8c440e80ea3f5c17830bd9": {
      "model_module": "@jupyter-widgets/base",
      "model_module_version": "1.2.0",
      "model_name": "LayoutModel",
      "state": {}
     },
     "142cf1c5e9bc45d7bc29c1a6ba4e6061": {
      "model_module": "@jupyter-widgets/controls",
      "model_module_version": "1.5.0",
      "model_name": "HTMLModel",
      "state": {
       "layout": "IPY_MODEL_8e9dd5c4c0654bdaa833978bbedc9533",
       "style": "IPY_MODEL_483660fd2728401685dff852ae2de9fb"
      }
     },
     "1bcebca41dcf419ca0f825ecb9db8a2d": {
      "model_module": "@jupyter-widgets/controls",
      "model_module_version": "1.5.0",
      "model_name": "FloatProgressModel",
      "state": {
       "bar_style": "success",
       "layout": "IPY_MODEL_f2baeb323a704ba784dd231d7140b6da",
       "max": 367,
       "style": "IPY_MODEL_d666ce0686b746fd9d8278282b092b55",
       "value": 367
      }
     },
     "30f89fc6a62943e5b3aae099bffcfda3": {
      "model_module": "@jupyter-widgets/base",
      "model_module_version": "1.2.0",
      "model_name": "LayoutModel",
      "state": {}
     },
     "335ce93566dd49e88c0de88d32074f02": {
      "model_module": "@jupyter-widgets/controls",
      "model_module_version": "1.5.0",
      "model_name": "HBoxModel",
      "state": {
       "children": [
        "IPY_MODEL_142cf1c5e9bc45d7bc29c1a6ba4e6061",
        "IPY_MODEL_b8ce25670c8240c29a16e899cbad9fcf",
        "IPY_MODEL_a3042aa762794e57a9113764b51fbc83"
       ],
       "layout": "IPY_MODEL_d0fefbe4de4b4b079a9afbbf2258ff97"
      }
     },
     "34f516b7111e49acb305a0d2ca1af043": {
      "model_module": "@jupyter-widgets/controls",
      "model_module_version": "1.5.0",
      "model_name": "DescriptionStyleModel",
      "state": {
       "description_width": ""
      }
     },
     "460f14ada0c44975ac0189df14830828": {
      "model_module": "@jupyter-widgets/controls",
      "model_module_version": "1.5.0",
      "model_name": "DescriptionStyleModel",
      "state": {
       "description_width": ""
      }
     },
     "483660fd2728401685dff852ae2de9fb": {
      "model_module": "@jupyter-widgets/controls",
      "model_module_version": "1.5.0",
      "model_name": "DescriptionStyleModel",
      "state": {
       "description_width": ""
      }
     },
     "483b03ddf3524222b64bceff32f342fc": {
      "model_module": "@jupyter-widgets/controls",
      "model_module_version": "1.5.0",
      "model_name": "HTMLModel",
      "state": {
       "layout": "IPY_MODEL_016f17b73d8c440e80ea3f5c17830bd9",
       "style": "IPY_MODEL_6d7883412c9e483f80c38fe2f8ece8ff",
       "value": " 100% | Simulation finished in 00:10 "
      }
     },
     "5d93de75f3b5428a9b7480cee6203851": {
      "model_module": "@jupyter-widgets/base",
      "model_module_version": "1.2.0",
      "model_name": "LayoutModel",
      "state": {}
     },
     "6241318ecca34fbbabb491c5fe117d1a": {
      "model_module": "@jupyter-widgets/controls",
      "model_module_version": "1.5.0",
      "model_name": "ProgressStyleModel",
      "state": {
       "description_width": ""
      }
     },
     "6d7883412c9e483f80c38fe2f8ece8ff": {
      "model_module": "@jupyter-widgets/controls",
      "model_module_version": "1.5.0",
      "model_name": "DescriptionStyleModel",
      "state": {
       "description_width": ""
      }
     },
     "71698578ba9a4d6482488ca513c3c10b": {
      "model_module": "pgljupyter",
      "model_module_version": "^1.0.5",
      "model_name": "SceneWidgetModel",
      "state": {
       "_model_module_version": "^1.0.5",
       "_view_module_version": "^1.0.5",
       "axes_helper": false,
       "layout": "IPY_MODEL_f2d4bed7f1cb4acda695a55546c6132c",
       "light_helper": false,
       "plane": true,
       "size_display": [
        400,
        400
       ],
       "size_world": 2.5
      }
     },
     "71a0ffebb11d4ffdabff90871e7f5a5e": {
      "model_module": "@jupyter-widgets/controls",
      "model_module_version": "1.5.0",
      "model_name": "HBoxModel",
      "state": {
       "children": [
        "IPY_MODEL_7d40ec5bbfe34ffd9c6ee1b0f768f398",
        "IPY_MODEL_1bcebca41dcf419ca0f825ecb9db8a2d",
        "IPY_MODEL_483b03ddf3524222b64bceff32f342fc"
       ],
       "layout": "IPY_MODEL_9bd00e6dd8f34d05b52f5cb5bcfdb0ca"
      }
     },
     "7d40ec5bbfe34ffd9c6ee1b0f768f398": {
      "model_module": "@jupyter-widgets/controls",
      "model_module_version": "1.5.0",
      "model_name": "HTMLModel",
      "state": {
       "layout": "IPY_MODEL_ae78545361414c9fb1e8578e3c5742b0",
       "style": "IPY_MODEL_34f516b7111e49acb305a0d2ca1af043"
      }
     },
     "896806317a0c4fddb890c7f34cc3594c": {
      "model_module": "@jupyter-widgets/base",
      "model_module_version": "1.2.0",
      "model_name": "LayoutModel",
      "state": {}
     },
     "8e9dd5c4c0654bdaa833978bbedc9533": {
      "model_module": "@jupyter-widgets/base",
      "model_module_version": "1.2.0",
      "model_name": "LayoutModel",
      "state": {}
     },
     "9bd00e6dd8f34d05b52f5cb5bcfdb0ca": {
      "model_module": "@jupyter-widgets/base",
      "model_module_version": "1.2.0",
      "model_name": "LayoutModel",
      "state": {}
     },
     "a3042aa762794e57a9113764b51fbc83": {
      "model_module": "@jupyter-widgets/controls",
      "model_module_version": "1.5.0",
      "model_name": "HTMLModel",
      "state": {
       "layout": "IPY_MODEL_896806317a0c4fddb890c7f34cc3594c",
       "style": "IPY_MODEL_460f14ada0c44975ac0189df14830828",
       "value": " 100% | Simulation finished in 00:12 "
      }
     },
     "ae78545361414c9fb1e8578e3c5742b0": {
      "model_module": "@jupyter-widgets/base",
      "model_module_version": "1.2.0",
      "model_name": "LayoutModel",
      "state": {}
     },
     "b8ce25670c8240c29a16e899cbad9fcf": {
      "model_module": "@jupyter-widgets/controls",
      "model_module_version": "1.5.0",
      "model_name": "FloatProgressModel",
      "state": {
       "bar_style": "success",
       "layout": "IPY_MODEL_30f89fc6a62943e5b3aae099bffcfda3",
       "max": 367,
       "style": "IPY_MODEL_6241318ecca34fbbabb491c5fe117d1a",
       "value": 367
      }
     },
     "d0fefbe4de4b4b079a9afbbf2258ff97": {
      "model_module": "@jupyter-widgets/base",
      "model_module_version": "1.2.0",
      "model_name": "LayoutModel",
      "state": {}
     },
     "d666ce0686b746fd9d8278282b092b55": {
      "model_module": "@jupyter-widgets/controls",
      "model_module_version": "1.5.0",
      "model_name": "ProgressStyleModel",
      "state": {
       "description_width": ""
      }
     },
     "eae0f7a0b4bf433a95a72135ac3d6c55": {
      "buffers": [
       {
        "data": "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",
        "encoding": "base64",
        "path": [
         "scenes",
         0,
         "data"
        ]
       }
      ],
      "model_module": "pgljupyter",
      "model_module_version": "^1.1.0",
      "model_name": "SceneWidgetModel",
      "state": {
       "_model_module_version": "^1.1.0",
       "_view_module_version": "^1.1.0",
       "axes_helper": false,
       "layout": "IPY_MODEL_5d93de75f3b5428a9b7480cee6203851",
       "light_helper": false,
       "plane": true,
       "scenes": [
        {
         "id": "kvOYNVnryuyM3zBzMhSGujcMONsxXCY4dYFIhWIndX6qppdvuiSHYN9PXq7J3TpeUcY9QBj31866lkMTEhsD8WKSVArWvNVX1HFL",
         "position": [
          0,
          0,
          0
         ],
         "scale": 0.01,
         "scene": "<openalea.plantgl.scenegraph._pglsg.Scene object at 0x7fcfbeb2b760>"
        }
       ],
       "size_display": [
        400,
        400
       ],
       "size_world": 2.5
      }
     },
     "f2baeb323a704ba784dd231d7140b6da": {
      "model_module": "@jupyter-widgets/base",
      "model_module_version": "1.2.0",
      "model_name": "LayoutModel",
      "state": {}
     },
     "f2d4bed7f1cb4acda695a55546c6132c": {
      "model_module": "@jupyter-widgets/base",
      "model_module_version": "1.2.0",
      "model_name": "LayoutModel",
      "state": {}
     }
    },
    "version_major": 2,
    "version_minor": 0
   }
  }
 },
 "nbformat": 4,
 "nbformat_minor": 5
}
