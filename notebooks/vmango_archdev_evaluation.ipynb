{
 "cells": [
  {
   "cell_type": "markdown",
   "id": "reduced-puppy",
   "metadata": {},
   "source": [
    "# Evalution of vmango-lab simulations"
   ]
  },
  {
   "cell_type": "code",
   "execution_count": null,
   "id": "related-signal",
   "metadata": {
    "ExecuteTime": {
     "end_time": "2021-10-26T10:43:37.575204Z",
     "start_time": "2021-10-26T10:43:34.369853Z"
    }
   },
   "outputs": [],
   "source": [
    "import numpy as np\n",
    "import pandas as pd\n",
    "import datetime as dt\n",
    "import matplotlib.pyplot as plt\n",
    "import xsimlab as xs\n",
    "import xsimlab.dot as dot\n",
    "import ipywidgets as iw\n",
    "from importlib import resources\n",
    "\n",
    "import vmlab\n",
    "from vmlab.models import *"
   ]
  },
  {
   "cell_type": "code",
   "execution_count": null,
   "id": "c765dd89",
   "metadata": {
    "ExecuteTime": {
     "end_time": "2021-10-26T10:43:37.584891Z",
     "start_time": "2021-10-26T10:43:37.577508Z"
    }
   },
   "outputs": [],
   "source": [
    "import vmlab.processes.phenology as phenology\n",
    "import vmlab.processes.environment as environment\n",
    "my_arch_dev = arch_dev_model\n",
    "my_arch_dev = my_arch_dev.update_processes({'phenology': phenology.Phenology, 'environment': environment.Environment})"
   ]
  },
  {
   "cell_type": "code",
   "execution_count": null,
   "id": "hollywood-soviet",
   "metadata": {
    "ExecuteTime": {
     "end_time": "2021-10-26T10:43:38.025031Z",
     "start_time": "2021-10-26T10:43:37.586564Z"
    }
   },
   "outputs": [],
   "source": [
    "dot.dot_graph(my_arch_dev,\n",
    "              show_inputs=False,\n",
    "              rankdir='TB',\n",
    "              graph_attr = {'margin':'0.2', 'nodesep':'0.1', 'ranksep':'0.1'})"
   ]
  },
  {
   "cell_type": "markdown",
   "id": "mineral-berry",
   "metadata": {},
   "source": [
    "## 1. Run simulations for the three trees (B10, B12 and F2)"
   ]
  },
  {
   "cell_type": "code",
   "execution_count": null,
   "id": "civilian-characteristic",
   "metadata": {
    "ExecuteTime": {
     "end_time": "2021-10-26T10:43:38.030263Z",
     "start_time": "2021-10-26T10:43:38.027621Z"
    }
   },
   "outputs": [],
   "source": [
    "start_date='2003-06-01'\n",
    "end_date='2005-12-01'"
   ]
  },
  {
   "cell_type": "code",
   "execution_count": null,
   "id": "c5b64ff7",
   "metadata": {
    "ExecuteTime": {
     "end_time": "2021-10-26T10:43:38.052200Z",
     "start_time": "2021-10-26T10:43:38.047901Z"
    }
   },
   "outputs": [],
   "source": [
    "def create_setup(tree):\n",
    "    return vmlab.create_setup(\n",
    "        model=vmango,\n",
    "        tree=tree,   \n",
    "        start_date=start_date,\n",
    "        end_date=end_date,\n",
    "        setup_toml='vmango.toml',\n",
    "        current_cycle=3,\n",
    "        input_vars={\n",
    "            'topology__seed': 10,\n",
    "            'geometry__interpretation_freq': 30\n",
    "        },\n",
    "        output_vars={\n",
    "            'topology': {\n",
    "                'appearance_date': 'day',\n",
    "                'appearance_month':'day',\n",
    "                'appeared':'day',               \n",
    "                'cycle': None,\n",
    "                'adjacency' : None,\n",
    "                'is_apical' : None\n",
    "            },\n",
    "            'phenology':{\n",
    "                'flowered':'day',\n",
    "            },\n",
    "            'arch_dev': {\n",
    "                'pot_flowering_date' : 'day',\n",
    "                'pot_nb_fruit': 'day'\n",
    "\n",
    "            },\n",
    "            'arch_dev_rep': {\n",
    "                'flowering': 'day',\n",
    "                'flowering_date' : 'day',\n",
    "                'flowering_week' : 'day',\n",
    "                'fruiting':'day',\n",
    "                'nb_fruits':'day'\n",
    "            }               \n",
    "        }\n",
    "    )\n"
   ]
  },
  {
   "cell_type": "markdown",
   "id": "digital-saturday",
   "metadata": {},
   "source": [
    "- **Tree B10**"
   ]
  },
  {
   "cell_type": "code",
   "execution_count": null,
   "id": "lovely-chuck",
   "metadata": {
    "ExecuteTime": {
     "end_time": "2021-10-26T10:44:42.202794Z",
     "start_time": "2021-10-26T10:43:38.053482Z"
    }
   },
   "outputs": [],
   "source": [
    "with resources.path('vmlab.data.trees', 'tree_B10_cycle_030405.csv') as path:\n",
    "    tree = pd.read_csv(path)\n",
    "\n",
    "setup = create_setup(tree)\n",
    "\n",
    "ds_out_B10 = vmlab.run(setup, vmango, geometry = False)"
   ]
  },
  {
   "cell_type": "markdown",
   "id": "senior-squad",
   "metadata": {},
   "source": [
    "- **Tree B12**"
   ]
  },
  {
   "cell_type": "code",
   "execution_count": null,
   "id": "three-dylan",
   "metadata": {
    "ExecuteTime": {
     "end_time": "2021-10-26T10:45:37.857441Z",
     "start_time": "2021-10-26T10:44:42.204413Z"
    }
   },
   "outputs": [],
   "source": [
    "with resources.path('vmlab.data.trees', 'tree_B12_cycle_030405.csv') as path:\n",
    "    tree = pd.read_csv(path)\n",
    "\n",
    "setup = create_setup(tree)\n",
    "\n",
    "ds_out_B12 = vmlab.run(setup, vmango, geometry = False)"
   ]
  },
  {
   "cell_type": "markdown",
   "id": "civic-intellectual",
   "metadata": {},
   "source": [
    "- **Tree F2**"
   ]
  },
  {
   "cell_type": "code",
   "execution_count": null,
   "id": "cosmetic-lobby",
   "metadata": {
    "ExecuteTime": {
     "end_time": "2021-10-26T10:46:30.232645Z",
     "start_time": "2021-10-26T10:45:37.858765Z"
    }
   },
   "outputs": [],
   "source": [
    "with resources.path('vmlab.data.trees', 'tree_F2_cycle_030405.csv') as path:\n",
    "    tree = pd.read_csv(path)\n",
    "\n",
    "setup = create_setup(tree)\n",
    "\n",
    "ds_out_F2 = vmlab.run(setup, vmango, geometry = False)"
   ]
  },
  {
   "cell_type": "markdown",
   "id": "smooth-arrest",
   "metadata": {},
   "source": [
    "## 2. Evaluation\n",
    "\n",
    "The goal of this notebook is to reproduce the results from original paper. For the following diagram, only one set of 3 trees is considered.\n",
    "\n",
    "![archdev_result](vmango_original_archdev_results.jpeg)\n",
    "\n",
    "### 2.1. Vegetative growth"
   ]
  },
  {
   "cell_type": "code",
   "execution_count": null,
   "id": "833b1bbb",
   "metadata": {
    "ExecuteTime": {
     "end_time": "2021-10-26T10:46:30.237056Z",
     "start_time": "2021-10-26T10:46:30.233884Z"
    }
   },
   "outputs": [],
   "source": [
    "def apply_to_all_ds(func):\n",
    "    result = None\n",
    "    for ds_out in [ds_out_B10, ds_out_B12, ds_out_F2]:\n",
    "        lresult = func(ds_out)\n",
    "        if result is None:\n",
    "            result = lresult\n",
    "        else:\n",
    "            result = result.add(lresult, fill_value=0) \n",
    "    return result"
   ]
  },
  {
   "cell_type": "code",
   "execution_count": null,
   "id": "collect-bibliography",
   "metadata": {
    "ExecuteTime": {
     "end_time": "2021-10-26T10:46:33.527885Z",
     "start_time": "2021-10-26T10:46:30.239308Z"
    }
   },
   "outputs": [],
   "source": [
    "def vegetative_appearance(ds_out):\n",
    "    appearance_date = ds_out.topology__appearance_date.where(ds_out.topology__appeared == 1).groupby(ds_out.topology__appearance_date)\n",
    "    appearance_date = appearance_date.count().to_dataframe().reindex(pd.date_range(start=start_date, end=end_date, freq='MS'))\n",
    "    return appearance_date.rename(columns={\"topology__appearance_date\": \"1 simulation\"})\n",
    "\n",
    "appearance_date = apply_to_all_ds(vegetative_appearance)\n"
   ]
  },
  {
   "cell_type": "code",
   "execution_count": null,
   "id": "36a2e045",
   "metadata": {
    "ExecuteTime": {
     "end_time": "2021-10-26T10:46:33.539291Z",
     "start_time": "2021-10-26T10:46:33.529820Z"
    }
   },
   "outputs": [],
   "source": [
    "from numpy import datetime64 as datetime\n",
    "measured_histogram = [((2003, 5), 0), ((2003, 6), 1), ((2003, 7), 1), ((2003, 8), 0), ((2003, 9), 33), ((2003, 10), 240), ((2003, 11), 71), ((2003, 12), 329), ((2004, 1), 126), ((2004, 2), 323), ((2004, 3), 21), ((2004, 4), 61), ((2004, 5), 7), ((2004, 6), 3), ((2004, 7), 0), ((2004, 8), 213), ((2004, 9), 55), ((2004, 10), 31), ((2004, 11), 144), ((2004, 12), 15), ((2005, 1), 85), ((2005, 2), 723), ((2005, 3), 1189), ((2005, 4), 0)]\n",
    "def todate(y,m):\n",
    "    return datetime(str(y)+'-'+str(m).zfill(2)+'-01')\n",
    "from pandas import DataFrame\n",
    "measured_histogram = DataFrame({'Observations' : [v for k,v in measured_histogram]}, index = [todate(*k) for k,v in measured_histogram])\n",
    "measured_histogram = measured_histogram.reindex(appearance_date.index)\n"
   ]
  },
  {
   "cell_type": "code",
   "execution_count": null,
   "id": "insured-clock",
   "metadata": {
    "ExecuteTime": {
     "end_time": "2021-10-26T10:46:33.851007Z",
     "start_time": "2021-10-26T10:46:33.545167Z"
    }
   },
   "outputs": [],
   "source": [
    "fig, axes = plt.subplots(figsize=(10,5))\n",
    "appearance_date.plot.bar( ax=axes)\n",
    "measured_histogram.plot(ax=axes, color='purple', linewidth=2, use_index=False)\n",
    "plt.title('Number of new growth units')\n",
    "plt.show()"
   ]
  },
  {
   "cell_type": "markdown",
   "id": "subject-injury",
   "metadata": {},
   "source": [
    "**Figure A. Monthly demography of new growth units (GUs) for growing cycles 1 and 2**\n",
    "\n",
    "Blue histogram and purple line represent respectively the simulations and observed data summed over the three mango trees (B10, B12 and F2)"
   ]
  },
  {
   "cell_type": "markdown",
   "id": "joined-baseball",
   "metadata": {},
   "source": [
    "### 2.2. Flowering"
   ]
  },
  {
   "cell_type": "markdown",
   "id": "black-french",
   "metadata": {},
   "source": [
    "#### Number of new inflorescences at the full bloom stage for cycle 2"
   ]
  },
  {
   "cell_type": "code",
   "execution_count": null,
   "id": "eb8132d5",
   "metadata": {
    "ExecuteTime": {
     "end_time": "2021-10-26T10:46:34.915032Z",
     "start_time": "2021-10-26T10:46:33.852371Z"
    }
   },
   "outputs": [],
   "source": [
    "x_range = list(range(30,51,1))\n",
    "\n",
    "def full_bloom(ds_out):\n",
    "    flowering_date_tree = ds_out.arch_dev__pot_flowering_date.where(ds_out.phenology__flowered == 1).groupby(ds_out.arch_dev__pot_flowering_date)\n",
    "    flowering_date_tree = flowering_date_tree.count().to_dataframe()\n",
    "    df_week = flowering_date_tree.index.isocalendar()[['year','week']]\n",
    "    df = flowering_date_tree.join(df_week)\n",
    "    df = df[df['year'] == 2005].drop(labels=['year'],axis=1).groupby(['week']).sum().reindex(x_range)\n",
    "    return df.rename(columns={\"arch_dev__pot_flowering_date\": \"1 simulation\"})\n",
    "\n",
    "flowering_date = apply_to_all_ds(full_bloom)\n"
   ]
  },
  {
   "cell_type": "code",
   "execution_count": null,
   "id": "eb1b76ea",
   "metadata": {
    "ExecuteTime": {
     "end_time": "2021-10-26T10:46:34.924039Z",
     "start_time": "2021-10-26T10:46:34.917064Z"
    }
   },
   "outputs": [],
   "source": [
    "bloom_date2005 = [((2005, 26), 0), ((2005, 27), 0), ((2005, 28), 0),  ((2005, 29), 0),((2005, 30), 0),\n",
    "             ((2005, 31), 1), ((2005, 32), 22), ((2005, 33), 3), ((2005, 34), 15), ((2005, 35), 108),\n",
    "             ((2005, 36), 487), ((2005, 37), 161), ((2005, 38), 204), ((2005, 39), 142),\n",
    "             ((2005, 40), 49), ((2005, 41), 34), ((2005, 42), 11),  ((2005, 43), 7)]\n",
    "bloom_date2005 = DataFrame({'Observations' : [v for k,v in bloom_date2005]}, \n",
    "                           index = [w for (y,w),v in bloom_date2005])\n",
    "bloom_date2005 = bloom_date2005.reindex(flowering_date.index)\n"
   ]
  },
  {
   "cell_type": "code",
   "execution_count": null,
   "id": "01652eea",
   "metadata": {
    "ExecuteTime": {
     "end_time": "2021-10-26T10:46:35.125893Z",
     "start_time": "2021-10-26T10:46:34.926768Z"
    }
   },
   "outputs": [],
   "source": [
    "axes = flowering_date.plot.bar(figsize=(10,5))\n",
    "bloom_date2005.plot.line(ax=axes, color='purple', linewidth=2, use_index=False)\n",
    "_= plt.title('Number of new inflorescences at the full bloom stage')"
   ]
  },
  {
   "cell_type": "markdown",
   "id": "modern-accountability",
   "metadata": {},
   "source": [
    "### 2.3. Fruiting"
   ]
  },
  {
   "cell_type": "markdown",
   "id": "historical-single",
   "metadata": {},
   "source": [
    "#### Number of new fruits in 2004 and 2005 (cycles 2 and 3)"
   ]
  },
  {
   "cell_type": "code",
   "execution_count": null,
   "id": "binary-while",
   "metadata": {
    "ExecuteTime": {
     "end_time": "2021-10-26T10:46:35.411154Z",
     "start_time": "2021-10-26T10:46:35.127158Z"
    }
   },
   "outputs": [],
   "source": [
    "def nbfruits_estimation(ds_out):\n",
    "    nb_fruits_tree = ds_out.arch_dev__pot_nb_fruit.max(dim=\"day\").to_dataframe()\n",
    "    flowering_date = ds_out.arch_dev__pot_flowering_date.where(ds_out.topology__appeared == 1).to_dataframe().dropna()\n",
    "    df = nb_fruits_tree.join(flowering_date)\n",
    "    df = df.loc[df.index.repeat(df.arch_dev__pot_nb_fruit)].groupby(['arch_dev__pot_flowering_date']).count()\n",
    "    df_year = df.index.isocalendar()[['year']]\n",
    "    df = df.join(df_year)\n",
    "    df = df.groupby(['year']).sum()\n",
    "    return df.rename(columns={\"arch_dev__pot_nb_fruit\": \"1 simulation\"})\n",
    "\n",
    "nb_fruits = apply_to_all_ds(nbfruits_estimation)\n",
    "nb_fruits\n"
   ]
  },
  {
   "cell_type": "code",
   "execution_count": null,
   "id": "aabe4614",
   "metadata": {
    "ExecuteTime": {
     "end_time": "2021-10-26T10:46:35.418942Z",
     "start_time": "2021-10-26T10:46:35.412955Z"
    }
   },
   "outputs": [],
   "source": [
    "nbmeasuredfruits = DataFrame({'Observations':[302, 400]},index=nb_fruits.index)\n",
    "nbmeasuredfruits"
   ]
  },
  {
   "cell_type": "code",
   "execution_count": null,
   "id": "talented-premiere",
   "metadata": {
    "ExecuteTime": {
     "end_time": "2021-10-26T10:46:35.540491Z",
     "start_time": "2021-10-26T10:46:35.420286Z"
    }
   },
   "outputs": [],
   "source": [
    "fig, axes = plt.subplots(figsize=(5,5))\n",
    "ax = nb_fruits.plot.bar(ax=axes)\n",
    "nbmeasuredfruits.plot(style='o',ax=axes,color='purple',  use_index=False)\n",
    "_ = plt.title('Number of fruits')"
   ]
  },
  {
   "cell_type": "markdown",
   "id": "atlantic-environment",
   "metadata": {},
   "source": [
    "### 4. Distribution of axis lengths \n",
    "\n",
    "Axis length is expressed in number of successive apical GUs. \n",
    "\n",
    "\n",
    "*Bug found in the estimation of the histogram of branch length in the original paper.*\n"
   ]
  },
  {
   "cell_type": "code",
   "execution_count": null,
   "id": "c4c90198",
   "metadata": {
    "ExecuteTime": {
     "end_time": "2021-10-26T10:46:35.546104Z",
     "start_time": "2021-10-26T10:46:35.541812Z"
    }
   },
   "outputs": [],
   "source": [
    "from scipy.sparse import csgraph\n",
    "\n",
    "def compute_axis_lengths(ds):\n",
    "    adjacency = np.array(ds.topology__adjacency.data)\n",
    "    cycle = ds.topology__cycle\n",
    "    is_lateral = ds.topology__is_apical == False\n",
    "\n",
    "    # Remove link between lateral children and their parent\n",
    "    adjacency[:,is_lateral] = 0\n",
    "\n",
    "    # Change topology so that node from cycle 3 are not considered\n",
    "    adjacency = adjacency[cycle > 3][:, cycle > 3]\n",
    "\n",
    "    # determine connected components to identify branches\n",
    "    n_components, labels = csgraph.connected_components(adjacency)\n",
    "    \n",
    "    # determine branch length from labels\n",
    "    branch_length = np.bincount(labels)\n",
    "    \n",
    "    # determine branch length histogram from branch length\n",
    "    branch_length_histogram = np.bincount(branch_length)\n",
    "    return DataFrame({'1 simulation':branch_length_histogram[1:]},\n",
    "                     index = list(range(1,len(branch_length_histogram))))"
   ]
  },
  {
   "cell_type": "code",
   "execution_count": null,
   "id": "4da49faa",
   "metadata": {
    "ExecuteTime": {
     "end_time": "2021-10-26T10:46:35.809245Z",
     "start_time": "2021-10-26T10:46:35.547442Z"
    }
   },
   "outputs": [],
   "source": [
    "lengthdistribution = apply_to_all_ds(compute_axis_lengths)\n",
    "lengthdistribution"
   ]
  },
  {
   "cell_type": "code",
   "execution_count": null,
   "id": "ceafc5c2",
   "metadata": {
    "ExecuteTime": {
     "end_time": "2021-10-26T10:46:35.818274Z",
     "start_time": "2021-10-26T10:46:35.810860Z"
    }
   },
   "outputs": [],
   "source": [
    "measuredlengthdistribution = DataFrame({'Observations' : [2347, 351, 197, 35, 16, 4]}, index=list(range(1,7)))\n",
    "if len(lengthdistribution.index ) >= len(measuredlengthdistribution.index ):\n",
    "    measuredlengthdistribution = measuredlengthdistribution.reindex(lengthdistribution.index)\n",
    "else:\n",
    "    lengthdistribution = lengthdistribution.reindex(measuredlengthdistribution.index)\n",
    "\n",
    "measuredlengthdistribution"
   ]
  },
  {
   "cell_type": "code",
   "execution_count": null,
   "id": "8c60bcd0",
   "metadata": {
    "ExecuteTime": {
     "end_time": "2021-10-26T10:46:35.947509Z",
     "start_time": "2021-10-26T10:46:35.819935Z"
    }
   },
   "outputs": [],
   "source": [
    "fig, axes = plt.subplots(figsize=(10,5))\n",
    "lengthdistribution.plot.bar(ax=axes)\n",
    "measuredlengthdistribution.plot.line(ax=axes, color='purple', linewidth=2, use_index=False)\n",
    "_= plt.title('Axis length (in number of successive apical GUs)')"
   ]
  },
  {
   "cell_type": "markdown",
   "id": "2ae76b06",
   "metadata": {},
   "source": [
    "### Alternative method based on MTG. Much slower."
   ]
  },
  {
   "cell_type": "code",
   "execution_count": null,
   "id": "2f41cc4d",
   "metadata": {
    "ExecuteTime": {
     "end_time": "2021-10-26T10:46:35.956755Z",
     "start_time": "2021-10-26T10:46:35.949168Z"
    }
   },
   "outputs": [],
   "source": [
    "def to_mtg(ds):\n",
    "    from openalea.mtg import MTG\n",
    "    adjacency = np.array(ds.topology__adjacency.data)\n",
    "    apical = ds.topology__is_apical\n",
    "    cycle = ds.topology__cycle\n",
    "    m = MTG()\n",
    "    parents = list(adjacency[:, ds.GU[cycle>3]].nonzero()[0])\n",
    "    mapping = {}\n",
    "    for gu, parent in zip(ds.GU[cycle>3].data, parents):\n",
    "        if not parent in mapping or apical[gu] == False :\n",
    "            mapping[gu] = m.add_component(m.root, cycle=cycle[gu])\n",
    "        else:\n",
    "            mapping[gu] = m.add_child(mapping[parent], edge_type='<', cycle=cycle[gu])\n",
    "    return m\n",
    "\n",
    "def determine_length_histogram(ds):\n",
    "    mtg = to_mtg(ds)\n",
    "    ucs =  [uc for uc in mtg.vertices(scale=1) if mtg.property('cycle')[uc] > 3]\n",
    "    def axial_axe_length(uc):\n",
    "        cuc = uc\n",
    "        l = 1\n",
    "        parent = mtg.parent(cuc)\n",
    "        while not parent is None:\n",
    "            cuc = parent\n",
    "            parent = mtg.parent(cuc)\n",
    "            l += 1\n",
    "        return l\n",
    "    last_apical_ucs = [uc for uc in ucs if len(mtg.children(uc)) == 0 ]\n",
    "    axial_axe_lengths = list(map(axial_axe_length, last_apical_ucs))\n",
    "    histo = np.bincount(axial_axe_lengths)[1:]\n",
    "    return DataFrame({'1 simulation' : histo}, index=list(range(1,1+len(histo))))"
   ]
  },
  {
   "cell_type": "code",
   "execution_count": null,
   "id": "24a9bec6",
   "metadata": {
    "ExecuteTime": {
     "end_time": "2021-10-26T10:46:37.526909Z",
     "start_time": "2021-10-26T10:46:35.958416Z"
    }
   },
   "outputs": [],
   "source": [
    "lengthdistribution = apply_to_all_ds(determine_length_histogram)\n",
    "lengthdistribution\n"
   ]
  },
  {
   "cell_type": "code",
   "execution_count": null,
   "id": "2c4061b4",
   "metadata": {},
   "outputs": [],
   "source": []
  }
 ],
 "metadata": {
  "kernelspec": {
   "display_name": "Python 3 (ipykernel)",
   "language": "python",
   "name": "python3"
  },
  "language_info": {
   "codemirror_mode": {
    "name": "ipython",
    "version": 3
   },
   "file_extension": ".py",
   "mimetype": "text/x-python",
   "name": "python",
   "nbconvert_exporter": "python",
   "pygments_lexer": "ipython3",
   "version": "3.10.13"
  }
 },
 "nbformat": 4,
 "nbformat_minor": 5
}
