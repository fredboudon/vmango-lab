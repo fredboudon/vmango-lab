{
 "cells": [
  {
   "cell_type": "markdown",
   "id": "reduced-puppy",
   "metadata": {},
   "source": [
    "# Evalution of vmango-lab simulations"
   ]
  },
  {
   "cell_type": "code",
   "execution_count": null,
   "id": "related-signal",
   "metadata": {
    "ExecuteTime": {
     "end_time": "2021-10-25T16:26:39.990372Z",
     "start_time": "2021-10-25T16:26:36.782232Z"
    }
   },
   "outputs": [],
   "source": [
    "import numpy as np\n",
    "import pandas as pd\n",
    "import datetime as dt\n",
    "import matplotlib.pyplot as plt\n",
    "import xsimlab as xs\n",
    "import xsimlab.dot as dot\n",
    "import ipywidgets as iw\n",
    "from importlib import resources\n",
    "\n",
    "import vmlab\n",
    "from vmlab.models import *"
   ]
  },
  {
   "cell_type": "code",
   "execution_count": null,
   "id": "hollywood-soviet",
   "metadata": {
    "ExecuteTime": {
     "end_time": "2021-10-25T16:26:40.549096Z",
     "start_time": "2021-10-25T16:26:39.992524Z"
    }
   },
   "outputs": [],
   "source": [
    "dot.dot_graph(vmango,\n",
    "              show_inputs=False,\n",
    "              rankdir='TB',\n",
    "              graph_attr = {'margin':'0.2', 'nodesep':'0.1', 'ranksep':'0.1'})"
   ]
  },
  {
   "cell_type": "markdown",
   "id": "mineral-berry",
   "metadata": {},
   "source": [
    "## 1. Run simulations for the three trees (B10, B12 and F2)"
   ]
  },
  {
   "cell_type": "code",
   "execution_count": null,
   "id": "civilian-characteristic",
   "metadata": {
    "ExecuteTime": {
     "end_time": "2021-10-25T16:26:40.553416Z",
     "start_time": "2021-10-25T16:26:40.550807Z"
    }
   },
   "outputs": [],
   "source": [
    "start_date='2003-06-01'\n",
    "end_date='2005-12-01'"
   ]
  },
  {
   "cell_type": "code",
   "execution_count": null,
   "id": "c5b64ff7",
   "metadata": {
    "ExecuteTime": {
     "end_time": "2021-10-25T16:26:40.561804Z",
     "start_time": "2021-10-25T16:26:40.556387Z"
    }
   },
   "outputs": [],
   "source": [
    "def create_setup(tree):\n",
    "    return vmlab.create_setup(\n",
    "        model=vmango,\n",
    "        tree=tree,   \n",
    "        start_date=start_date,\n",
    "        end_date=end_date,\n",
    "        setup_toml='vmango.toml',\n",
    "        current_cycle=3,\n",
    "        input_vars={\n",
    "            'topology__seed': 10,\n",
    "            'geometry__interpretation_freq': 30\n",
    "        },\n",
    "        output_vars={\n",
    "            'topology': {\n",
    "                'appearance_date': 'day',\n",
    "                'appearance_month':'day',\n",
    "                'bursted': 'day',\n",
    "                'appeared':'day',\n",
    "                'nb_gu': None,\n",
    "                'cycle': 'day',\n",
    "                'adjacency' : None,\n",
    "                'is_apical' : None\n",
    "            },\n",
    "            'phenology':{\n",
    "                'nb_inflo':'day',\n",
    "                'nb_fruit':'day',\n",
    "                'flowered':'day',\n",
    "                'fruited':'day',\n",
    "                'full_bloom_date': None,\n",
    "                'inflo_stage':'day'\n",
    "            },\n",
    "            'arch_dev': {\n",
    "                'pot_burst_date': 'day',\n",
    "                'pot_flowering_date' : 'day',\n",
    "                'pot_nature': 'day',\n",
    "                'pot_has_apical_child': 'day',\n",
    "                'pot_nb_lateral_children': 'day',\n",
    "                'pot_nb_inflo': 'day',\n",
    "                'pot_nb_fruit': 'day'\n",
    "            },\n",
    "            'arch_dev_rep': {\n",
    "                'flowering': 'day',\n",
    "                'flowering_date' : 'day',\n",
    "                'flowering_week' : 'day',\n",
    "                'fruiting':'day',\n",
    "                'nb_fruits':'day'\n",
    "            }               \n",
    "        }\n",
    "    )"
   ]
  },
  {
   "cell_type": "markdown",
   "id": "digital-saturday",
   "metadata": {},
   "source": [
    "- **Tree B10**"
   ]
  },
  {
   "cell_type": "code",
   "execution_count": null,
   "id": "lovely-chuck",
   "metadata": {
    "ExecuteTime": {
     "end_time": "2021-10-25T16:28:02.033755Z",
     "start_time": "2021-10-25T16:26:40.563387Z"
    }
   },
   "outputs": [],
   "source": [
    "with resources.path('vmlab.data.trees', 'tree_B10_cycle_030405.csv') as path:\n",
    "    tree = pd.read_csv(path)\n",
    "\n",
    "setup = create_setup(tree)\n",
    "\n",
    "ds_out_B10 = vmlab.run(setup, vmango, geometry = False)"
   ]
  },
  {
   "cell_type": "markdown",
   "id": "senior-squad",
   "metadata": {},
   "source": [
    "- **Tree B12**"
   ]
  },
  {
   "cell_type": "code",
   "execution_count": null,
   "id": "three-dylan",
   "metadata": {
    "ExecuteTime": {
     "end_time": "2021-10-25T16:29:11.114052Z",
     "start_time": "2021-10-25T16:28:02.035482Z"
    }
   },
   "outputs": [],
   "source": [
    "with resources.path('vmlab.data.trees', 'tree_B12_cycle_030405.csv') as path:\n",
    "    tree = pd.read_csv(path)\n",
    "\n",
    "setup = create_setup(tree)\n",
    "\n",
    "ds_out_B12 = vmlab.run(setup, vmango, geometry = False)"
   ]
  },
  {
   "cell_type": "markdown",
   "id": "civic-intellectual",
   "metadata": {},
   "source": [
    "- **Tree F2**"
   ]
  },
  {
   "cell_type": "code",
   "execution_count": null,
   "id": "cosmetic-lobby",
   "metadata": {
    "ExecuteTime": {
     "end_time": "2021-10-25T16:30:20.557491Z",
     "start_time": "2021-10-25T16:29:11.115743Z"
    }
   },
   "outputs": [],
   "source": [
    "with resources.path('vmlab.data.trees', 'tree_F2_cycle_030405.csv') as path:\n",
    "    tree = pd.read_csv(path)\n",
    "\n",
    "setup = create_setup(tree)\n",
    "\n",
    "ds_out_F2 = vmlab.run(setup, vmango, geometry = False)"
   ]
  },
  {
   "cell_type": "markdown",
   "id": "smooth-arrest",
   "metadata": {},
   "source": [
    "## 2. Evaluation\n",
    "\n",
    "### 2.1. Vegetative growth"
   ]
  },
  {
   "cell_type": "code",
   "execution_count": null,
   "id": "collect-bibliography",
   "metadata": {
    "ExecuteTime": {
     "end_time": "2021-10-25T16:30:23.908925Z",
     "start_time": "2021-10-25T16:30:20.559111Z"
    }
   },
   "outputs": [],
   "source": [
    "appearance_date_all = None\n",
    "for ds_out in [ds_out_B10, ds_out_B12, ds_out_F2]:\n",
    "    appearance_date = ds_out.topology__appearance_date.where(ds_out.topology__appeared == 1).groupby(ds_out.topology__appearance_date)\n",
    "    appearance_date = appearance_date.count().to_dataframe().reindex(pd.date_range(start=start_date, end=end_date, freq='MS'))\n",
    "    if appearance_date_all is None:\n",
    "        appearance_date_all = appearance_date\n",
    "    else:\n",
    "        appearance_date_all = appearance_date_all.add(appearance_date, fill_value=0)\n",
    "appearance_date_all = appearance_date_all.rename(columns={\"topology__appearance_date\": \"Simulated Data\"})\n",
    "appearance_date = appearance_date_all\n"
   ]
  },
  {
   "cell_type": "code",
   "execution_count": null,
   "id": "36a2e045",
   "metadata": {
    "ExecuteTime": {
     "end_time": "2021-10-25T16:30:23.919702Z",
     "start_time": "2021-10-25T16:30:23.910330Z"
    }
   },
   "outputs": [],
   "source": [
    "from numpy import datetime64 as datetime\n",
    "measured_histogram = [((2003, 5), 0), ((2003, 6), 1), ((2003, 7), 1), ((2003, 8), 0), ((2003, 9), 33), ((2003, 10), 240), ((2003, 11), 71), ((2003, 12), 329), ((2004, 1), 126), ((2004, 2), 323), ((2004, 3), 21), ((2004, 4), 61), ((2004, 5), 7), ((2004, 6), 3), ((2004, 7), 0), ((2004, 8), 213), ((2004, 9), 55), ((2004, 10), 31), ((2004, 11), 144), ((2004, 12), 15), ((2005, 1), 85), ((2005, 2), 723), ((2005, 3), 1189), ((2005, 4), 0)]\n",
    "def todate(y,m):\n",
    "    return datetime(str(y)+'-'+str(m).zfill(2)+'-01')\n",
    "from pandas import DataFrame\n",
    "measured_histogram = DataFrame({'Measured Data' : [v for k,v in measured_histogram]}, index = [todate(*k) for k,v in measured_histogram])\n",
    "measured_histogram = measured_histogram.reindex(appearance_date.index)\n"
   ]
  },
  {
   "cell_type": "code",
   "execution_count": null,
   "id": "insured-clock",
   "metadata": {
    "ExecuteTime": {
     "end_time": "2021-10-25T16:30:24.222614Z",
     "start_time": "2021-10-25T16:30:23.924573Z"
    }
   },
   "outputs": [],
   "source": [
    "fig, axes = plt.subplots(figsize=(10,5))\n",
    "appearance_date.plot.bar( ax=axes)\n",
    "measured_histogram.plot(ax=axes, color='purple', linewidth=2, use_index=False)\n",
    "plt.title('Number of new growth units')\n",
    "plt.show()"
   ]
  },
  {
   "cell_type": "markdown",
   "id": "subject-injury",
   "metadata": {},
   "source": [
    "**Figure A. Monthly demography of new growth units (GUs) for growing cycles 1 and 2**\n",
    "\n",
    "Blue histogram and purple line represent respectively the simulations and observed data summed over the three mango trees (B10, B12 and F2)"
   ]
  },
  {
   "cell_type": "markdown",
   "id": "joined-baseball",
   "metadata": {},
   "source": [
    "### 2.2. Flowering"
   ]
  },
  {
   "cell_type": "markdown",
   "id": "black-french",
   "metadata": {},
   "source": [
    "#### Number of new inflorescences at the full bloom stage for cycle 5"
   ]
  },
  {
   "cell_type": "code",
   "execution_count": null,
   "id": "eb8132d5",
   "metadata": {
    "ExecuteTime": {
     "end_time": "2021-10-25T16:30:25.325822Z",
     "start_time": "2021-10-25T16:30:24.223963Z"
    }
   },
   "outputs": [],
   "source": [
    "x_range = list(range(30,51,1))\n",
    "flowering_date = None\n",
    "\n",
    "for ds_out in [ds_out_B10, ds_out_B12, ds_out_F2]:\n",
    "    flowering_date_tree = ds_out.arch_dev__pot_flowering_date.where(ds_out.phenology__flowered == 1).groupby(ds_out.arch_dev__pot_flowering_date)\n",
    "    flowering_date_tree = flowering_date_tree.count().to_dataframe()\n",
    "    df_week = flowering_date_tree.index.isocalendar()[['year','week']]\n",
    "    df = flowering_date_tree.join(df_week)\n",
    "    df = df[df['year'] == 2005].drop(labels=['year'],axis=1).groupby(['week']).sum().reindex(x_range)\n",
    "    if flowering_date is None:\n",
    "        flowering_date = df\n",
    "    else:\n",
    "        flowering_date = flowering_date.add(df, fill_value=0)\n",
    "flowering_date = flowering_date.rename(columns={\"arch_dev__pot_flowering_date\": \"Simulated Data\"})\n"
   ]
  },
  {
   "cell_type": "code",
   "execution_count": null,
   "id": "eb1b76ea",
   "metadata": {
    "ExecuteTime": {
     "end_time": "2021-10-25T16:30:25.333664Z",
     "start_time": "2021-10-25T16:30:25.327788Z"
    }
   },
   "outputs": [],
   "source": [
    "bloom_date2005 = [((2005, 26), 0), ((2005, 27), 0), ((2005, 28), 0),  ((2005, 29), 0),((2005, 30), 0),\n",
    "             ((2005, 31), 1), ((2005, 32), 22), ((2005, 33), 3), ((2005, 34), 15), ((2005, 35), 108),\n",
    "             ((2005, 36), 487), ((2005, 37), 161), ((2005, 38), 204), ((2005, 39), 142),\n",
    "             ((2005, 40), 49), ((2005, 41), 34), ((2005, 42), 11),  ((2005, 43), 7)]\n",
    "bloom_date2005 = DataFrame({'Measured Data' : [v for k,v in bloom_date2005]}, \n",
    "                           index = [w for (y,w),v in bloom_date2005])\n",
    "bloom_date2005 = bloom_date2005.reindex(flowering_date.index)\n"
   ]
  },
  {
   "cell_type": "code",
   "execution_count": null,
   "id": "01652eea",
   "metadata": {
    "ExecuteTime": {
     "end_time": "2021-10-25T16:30:25.553707Z",
     "start_time": "2021-10-25T16:30:25.335343Z"
    }
   },
   "outputs": [],
   "source": [
    "axes = flowering_date.plot.bar(figsize=(10,5))\n",
    "bloom_date2005.plot.line(ax=axes, color='purple', linewidth=2, use_index=False)\n",
    "_= plt.title('Number of new inflorescences at the full bloom stage')"
   ]
  },
  {
   "cell_type": "markdown",
   "id": "modern-accountability",
   "metadata": {},
   "source": [
    "### 2.3. Fruiting"
   ]
  },
  {
   "cell_type": "markdown",
   "id": "historical-single",
   "metadata": {},
   "source": [
    "#### Number of new fruits in 2004 and 2005 (cycles 2 and 3)"
   ]
  },
  {
   "cell_type": "code",
   "execution_count": null,
   "id": "binary-while",
   "metadata": {
    "ExecuteTime": {
     "end_time": "2021-10-25T16:30:25.781984Z",
     "start_time": "2021-10-25T16:30:25.556233Z"
    }
   },
   "outputs": [],
   "source": [
    "nb_fruits = None\n",
    "for ds_out in [ds_out_B10, ds_out_B12, ds_out_F2]:\n",
    "    nb_fruits_tree = ds_out.arch_dev__pot_nb_fruit.max(dim=\"day\").to_dataframe()\n",
    "    flowering_date = ds_out.arch_dev__pot_flowering_date.where(ds_out.topology__appeared == 1).to_dataframe().dropna()\n",
    "    df = nb_fruits_tree.join(flowering_date)\n",
    "    df = df.loc[df.index.repeat(df.arch_dev__pot_nb_fruit)].groupby(['arch_dev__pot_flowering_date']).count()\n",
    "    df_year = df.index.isocalendar()[['year']]\n",
    "    df = df.join(df_year)\n",
    "    df = df.groupby(['year']).sum()\n",
    "    if nb_fruits is None:\n",
    "        nb_fruits = df\n",
    "    else:\n",
    "        nb_fruits = nb_fruits.add(df, fill_value=0)\n",
    "\n",
    "nb_fruits = nb_fruits.rename(columns={\"arch_dev__pot_nb_fruit\": \"Simulated Data\"})\n",
    "nb_fruits\n"
   ]
  },
  {
   "cell_type": "code",
   "execution_count": null,
   "id": "aabe4614",
   "metadata": {
    "ExecuteTime": {
     "end_time": "2021-10-25T16:30:25.793628Z",
     "start_time": "2021-10-25T16:30:25.784424Z"
    }
   },
   "outputs": [],
   "source": [
    "nbmeasuredfruits = DataFrame({'Measured Data':[302, 400]},index=nb_fruits.index)\n",
    "nbmeasuredfruits"
   ]
  },
  {
   "cell_type": "code",
   "execution_count": null,
   "id": "talented-premiere",
   "metadata": {
    "ExecuteTime": {
     "end_time": "2021-10-25T16:30:25.951645Z",
     "start_time": "2021-10-25T16:30:25.795880Z"
    }
   },
   "outputs": [],
   "source": [
    "fig, axes = plt.subplots(figsize=(5,5))\n",
    "ax = nb_fruits.plot.bar(ax=axes)\n",
    "nbmeasuredfruits.plot(style='o',ax=axes,color='purple',  use_index=False)\n",
    "_ = plt.title('Number of fruits')"
   ]
  },
  {
   "cell_type": "markdown",
   "id": "atlantic-environment",
   "metadata": {},
   "source": [
    "### 4. Distribution of axis lengths \n",
    "\n",
    "Axis length is expressed in number of successive apical GUs"
   ]
  },
  {
   "cell_type": "code",
   "execution_count": null,
   "id": "c4c90198",
   "metadata": {
    "ExecuteTime": {
     "end_time": "2021-10-25T17:30:30.459025Z",
     "start_time": "2021-10-25T17:30:30.452913Z"
    }
   },
   "outputs": [],
   "source": [
    "from scipy.sparse import csgraph\n",
    "\n",
    "def compute_axis_lengths(ds):\n",
    "    adjacency = np.array(ds.topology__adjacency.data)\n",
    "    \n",
    "    # Change topology so that node from cycle 3 are isolated (not considered)\n",
    "    adjacency[:,np.where(ds.topology__cycle[-1] == 3)] = 0\n",
    "    adjacency[np.where(ds.topology__cycle[-1] == 3),:] = 0\n",
    "    \n",
    "    # Remove link between lateral children and their parent\n",
    "    adjacency[:,np.where(ds.topology__is_apical == False)] = 0\n",
    "    for gu in ds.GU:\n",
    "        lat_children = np.where((adjacency[:,gu] == 1)&(ds.topology__is_apical == False))\n",
    "        adjacency[lat_children,gu] = 0\n",
    "    \n",
    "    n_components, labels = csgraph.connected_components(adjacency)\n",
    "    print(n_components, labels)\n",
    "    branch_length = np.bincount(labels[np.where(ds.topology__cycle[-1] != 3) ])\n",
    "    print(branch_length, max(branch_length))\n",
    "    branch_length_histogram = np.bincount(branch_length)\n",
    "    print(branch_length_histogram)\n",
    "    print()\n",
    "    return DataFrame({'Simulated data':branch_length_histogram},index = list(range(len(branch_length_histogram))))"
   ]
  },
  {
   "cell_type": "code",
   "execution_count": null,
   "id": "d1aab67c",
   "metadata": {
    "ExecuteTime": {
     "end_time": "2021-10-25T17:30:34.497477Z",
     "start_time": "2021-10-25T17:30:31.308964Z"
    }
   },
   "outputs": [],
   "source": [
    "lengthdistribution = None\n",
    "for ds_out in [ds_out_B10, ds_out_B12, ds_out_F2]:\n",
    "    df = compute_axis_lengths(ds_out)\n",
    "    if lengthdistribution is None:\n",
    "        lengthdistribution = df\n",
    "    else:\n",
    "        lengthdistribution = lengthdistribution.add(df, fill_value=0)\n"
   ]
  },
  {
   "cell_type": "code",
   "execution_count": null,
   "id": "ceafc5c2",
   "metadata": {
    "ExecuteTime": {
     "end_time": "2021-10-25T17:30:44.529948Z",
     "start_time": "2021-10-25T17:30:44.526271Z"
    }
   },
   "outputs": [],
   "source": [
    "measuredlengthdistribution = DataFrame({'Measured data' : [1282, 797, 533, 309, 27, 2]}, index=list(range(1,7)))\n"
   ]
  },
  {
   "cell_type": "code",
   "execution_count": null,
   "id": "8c60bcd0",
   "metadata": {
    "ExecuteTime": {
     "end_time": "2021-10-25T17:30:45.275058Z",
     "start_time": "2021-10-25T17:30:45.149882Z"
    }
   },
   "outputs": [],
   "source": [
    "fig, axes = plt.subplots(figsize=(10,5))\n",
    "lengthdistribution.plot.bar(ax=axes)\n",
    "measuredlengthdistribution.plot.line(ax=axes, color='purple', linewidth=2, use_index=False)\n",
    "_= plt.title('Axis length (in number of successive apical GUs)')"
   ]
  },
  {
   "cell_type": "code",
   "execution_count": null,
   "id": "dd67268d",
   "metadata": {},
   "outputs": [],
   "source": []
  }
 ],
 "metadata": {
  "kernelspec": {
   "display_name": "Python 3 (ipykernel)",
   "language": "python",
   "name": "python3"
  },
  "language_info": {
   "codemirror_mode": {
    "name": "ipython",
    "version": 3
   },
   "file_extension": ".py",
   "mimetype": "text/x-python",
   "name": "python",
   "nbconvert_exporter": "python",
   "pygments_lexer": "ipython3",
   "version": "3.9.6"
  }
 },
 "nbformat": 4,
 "nbformat_minor": 5
}
