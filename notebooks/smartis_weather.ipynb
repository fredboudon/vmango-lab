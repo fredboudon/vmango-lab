{
 "cells": [
  {
   "cell_type": "code",
   "execution_count": null,
   "id": "b3f3c3e0-2e51-4ca6-8b11-865db885b451",
   "metadata": {},
   "outputs": [],
   "source": [
    "import pandas as pd\n",
    "import numpy as np"
   ]
  },
  {
   "cell_type": "code",
   "execution_count": null,
   "id": "a97cf435-2c40-4156-a2d4-606e32c27494",
   "metadata": {},
   "outputs": [],
   "source": [
    "weather_file_path = '../share/environment/smartis_lingne_paradis_01.2002_01.2008.csv'\n",
    "\n",
    "weather_hourly_df = pd.read_csv(\n",
    "    weather_file_path,\n",
    "    sep=';',\n",
    "    parse_dates=['Jour'],\n",
    "    dayfirst=True,\n",
    "    usecols=['Jour', 'tm', 'glot', 'um']\n",
    ").rename(\n",
    "    columns={'Jour': 'DATETIME', 'tm': 'TM', 'glot': 'GR', 'um': 'RH'},\n",
    "    inplace=False\n",
    ").set_index('DATETIME', inplace=False).astype(np.float32)\n",
    "\n",
    "# smartis may have nans\n",
    "weather_hourly_df_filled = weather_hourly_df.fillna(inplace=False, method='backfill')\n",
    "\n",
    "weather_daily_df = pd.DataFrame({\n",
    "    'TM': weather_hourly_df['TM'].groupby(pd.Grouper(freq=\"1D\")).mean(),\n",
    "    'GR': weather_hourly_df['GR'].groupby(pd.Grouper(freq=\"1D\")).mean(),\n",
    "    'RH': weather_hourly_df['RH'].groupby(pd.Grouper(freq=\"1D\")).mean()\n",
    "}).astype(np.float32)"
   ]
  },
  {
   "cell_type": "code",
   "execution_count": null,
   "id": "6ad6863e-2906-4eb1-add2-974ca9ef15cf",
   "metadata": {},
   "outputs": [],
   "source": [
    "weather_hourly_df['RH'].plot()"
   ]
  },
  {
   "cell_type": "code",
   "execution_count": null,
   "id": "0e8afe78-6ab6-42aa-9dac-22260f553621",
   "metadata": {},
   "outputs": [],
   "source": [
    "weather_hourly_df_filled['RH'].plot()"
   ]
  },
  {
   "cell_type": "code",
   "execution_count": null,
   "id": "4e857814-5bf9-40c8-bbe2-d5c294f1ed00",
   "metadata": {},
   "outputs": [],
   "source": []
  }
 ],
 "metadata": {
  "kernelspec": {
   "display_name": "Python 3",
   "language": "python",
   "name": "python3"
  },
  "language_info": {
   "codemirror_mode": {
    "name": "ipython",
    "version": 3
   },
   "file_extension": ".py",
   "mimetype": "text/x-python",
   "name": "python",
   "nbconvert_exporter": "python",
   "pygments_lexer": "ipython3",
   "version": "3.8.9"
  },
  "widgets": {
   "application/vnd.jupyter.widget-state+json": {
    "state": {},
    "version_major": 2,
    "version_minor": 0
   }
  }
 },
 "nbformat": 4,
 "nbformat_minor": 5
}
