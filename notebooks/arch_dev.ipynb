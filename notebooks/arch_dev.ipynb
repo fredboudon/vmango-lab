{
 "cells": [
  {
   "cell_type": "code",
   "execution_count": null,
   "id": "processed-standing",
   "metadata": {
    "ExecuteTime": {
     "end_time": "2021-05-04T16:38:05.934283Z",
     "start_time": "2021-05-04T16:38:04.339866Z"
    }
   },
   "outputs": [],
   "source": [
    "import numpy as np\n",
    "import pandas as pd\n",
    "import vmlab"
   ]
  },
  {
   "cell_type": "code",
   "execution_count": null,
   "id": "secret-upgrade",
   "metadata": {
    "ExecuteTime": {
     "end_time": "2021-05-04T16:38:06.510467Z",
     "start_time": "2021-05-04T16:38:05.936366Z"
    }
   },
   "outputs": [],
   "source": [
    "from vmlab.models import arch_dev_model, longname_model\n",
    "longname_model(arch_dev_model).visualize()"
   ]
  },
  {
   "cell_type": "code",
   "execution_count": null,
   "id": "exposed-coral",
   "metadata": {
    "ExecuteTime": {
     "end_time": "2021-05-04T16:38:06.776048Z",
     "start_time": "2021-05-04T16:38:06.670047Z"
    }
   },
   "outputs": [],
   "source": [
    "start_date='2003-06-01'\n",
    "end_date='2005-06-01'\n",
    "setup = vmlab.create_setup(\n",
    "    model=arch_dev_model,\n",
    "    start_date=start_date,\n",
    "    end_date=end_date,\n",
    "    setup_toml='../share/setup/arch_dev_model.toml',\n",
    "    current_cycle=3,\n",
    "    input_vars={\n",
    "        'topology__seed': 11\n",
    "    },\n",
    "    output_vars={\n",
    "        'topology': {\n",
    "            'appearance_date': 'day',\n",
    "            'cycle': 'day'\n",
    "        },\n",
    "        'arch_dev': {\n",
    "            'pot_burst_date': 'day',\n",
    "            'pot_nb_inflo': 'day',\n",
    "            'pot_flowering_date': 'day'\n",
    "        }\n",
    "    }\n",
    ")"
   ]
  },
  {
   "cell_type": "code",
   "execution_count": null,
   "id": "educated-preparation",
   "metadata": {
    "ExecuteTime": {
     "end_time": "2021-05-04T16:38:14.230292Z",
     "start_time": "2021-05-04T16:38:06.778195Z"
    }
   },
   "outputs": [],
   "source": [
    "ds_out = vmlab.run(setup, arch_dev_model)"
   ]
  },
  {
   "cell_type": "code",
   "execution_count": null,
   "id": "approved-greek",
   "metadata": {
    "ExecuteTime": {
     "end_time": "2021-05-04T16:38:14.462789Z",
     "start_time": "2021-05-04T16:38:14.232632Z"
    }
   },
   "outputs": [],
   "source": [
    "appearance_date = ds_out.topology__appearance_date.groupby(ds_out.topology__appearance_date)\n",
    "appearance_date.count().to_dataframe().reindex(pd.date_range(start=start_date, end=end_date, freq='MS')).plot.bar(figsize=(10,5))"
   ]
  },
  {
   "cell_type": "code",
   "execution_count": null,
   "id": "changing-roads",
   "metadata": {
    "ExecuteTime": {
     "end_time": "2021-05-04T16:38:14.465549Z",
     "start_time": "2021-05-04T16:38:04.344Z"
    }
   },
   "outputs": [],
   "source": [
    "burst_date = ds_out.arch_dev__pot_burst_date.groupby(ds_out.arch_dev__pot_burst_date)\n",
    "burst_date.count().to_dataframe().reindex(pd.date_range(start=start_date, end=end_date, freq='MS')).plot.bar(figsize=(10,5))"
   ]
  },
  {
   "cell_type": "code",
   "execution_count": null,
   "id": "boxed-sentence",
   "metadata": {
    "ExecuteTime": {
     "end_time": "2021-05-04T16:38:14.466905Z",
     "start_time": "2021-05-04T16:38:04.344Z"
    }
   },
   "outputs": [],
   "source": [
    "flowering_date = ds_out.arch_dev__pot_flowering_date.groupby(ds_out.arch_dev__pot_flowering_date)\n",
    "flowering_date.count().to_dataframe().plot.bar(figsize=(10,5))"
   ]
  },
  {
   "cell_type": "code",
   "execution_count": null,
   "id": "finite-humidity",
   "metadata": {
    "ExecuteTime": {
     "end_time": "2021-05-04T16:38:14.468265Z",
     "start_time": "2021-05-04T16:38:04.345Z"
    }
   },
   "outputs": [],
   "source": [
    "nb_inflo = ds_out.arch_dev__pot_nb_inflo.groupby(ds_out.arch_dev__pot_nb_inflo)\n",
    "nb_inflo.sum().to_dataframe().plot.bar()"
   ]
  },
  {
   "cell_type": "code",
   "execution_count": null,
   "id": "isolated-inflation",
   "metadata": {
    "ExecuteTime": {
     "end_time": "2021-05-04T16:38:14.469376Z",
     "start_time": "2021-05-04T16:38:04.346Z"
    }
   },
   "outputs": [],
   "source": [
    "cycle = ds_out.topology__cycle.groupby(ds_out.topology__cycle)\n",
    "cycle.count().to_dataframe().plot.bar()"
   ]
  },
  {
   "cell_type": "code",
   "execution_count": null,
   "id": "educated-window",
   "metadata": {},
   "outputs": [],
   "source": []
  }
 ],
 "metadata": {
  "kernelspec": {
   "display_name": "Python 3",
   "language": "python",
   "name": "python3"
  },
  "language_info": {
   "codemirror_mode": {
    "name": "ipython",
    "version": 3
   },
   "file_extension": ".py",
   "mimetype": "text/x-python",
   "name": "python",
   "nbconvert_exporter": "python",
   "pygments_lexer": "ipython3",
   "version": "3.8.9"
  },
  "widgets": {
   "application/vnd.jupyter.widget-state+json": {
    "state": {
     "041611acaf464b07b52d5fdcb8b232ae": {
      "model_module": "@jupyter-widgets/controls",
      "model_module_version": "1.5.0",
      "model_name": "HTMLModel",
      "state": {
       "layout": "IPY_MODEL_1d1d521ad0b14b42b68cec7429b5a7ee",
       "style": "IPY_MODEL_459074caa5e84cb9a1858e20b74bc436"
      }
     },
     "06c687aad049419488fad90f0337106b": {
      "model_module": "@jupyter-widgets/controls",
      "model_module_version": "1.5.0",
      "model_name": "DescriptionStyleModel",
      "state": {
       "description_width": ""
      }
     },
     "07cb240325f647438223d718aaaacd5e": {
      "model_module": "@jupyter-widgets/controls",
      "model_module_version": "1.5.0",
      "model_name": "HBoxModel",
      "state": {
       "children": [
        "IPY_MODEL_640e3dee17ac47f6bb8e05b480524292",
        "IPY_MODEL_45a404c6e2d14f8ba678764b019092ff",
        "IPY_MODEL_2c6d38fd9fe0439d8f0b483955da293a"
       ],
       "layout": "IPY_MODEL_b05f1d2e04ec4fe899828bc378ff32fe"
      }
     },
     "0be2cc04be3e428b95575915ea496325": {
      "model_module": "@jupyter-widgets/controls",
      "model_module_version": "1.5.0",
      "model_name": "HBoxModel",
      "state": {
       "children": [
        "IPY_MODEL_041611acaf464b07b52d5fdcb8b232ae",
        "IPY_MODEL_9d56d8941edd4986811268fe884d90dc",
        "IPY_MODEL_fb14492580d44403af85c007a882e30a"
       ],
       "layout": "IPY_MODEL_1b147e88731548eb84fa871f7b7120a8"
      }
     },
     "11a537ea0f3748f985d06554cd7fee32": {
      "model_module": "@jupyter-widgets/base",
      "model_module_version": "1.2.0",
      "model_name": "LayoutModel",
      "state": {}
     },
     "120142f515334a3badd77003610c8cb2": {
      "model_module": "@jupyter-widgets/base",
      "model_module_version": "1.2.0",
      "model_name": "LayoutModel",
      "state": {}
     },
     "19ea305b487e49099ac7c7c38a2360f8": {
      "model_module": "@jupyter-widgets/controls",
      "model_module_version": "1.5.0",
      "model_name": "HTMLModel",
      "state": {
       "layout": "IPY_MODEL_d114f7988e8648449153e0e290deda77",
       "style": "IPY_MODEL_d7b23fb6ff434d8a9327d606ede49f46",
       "value": " 100% | Simulation finished in 00:13 "
      }
     },
     "1b147e88731548eb84fa871f7b7120a8": {
      "model_module": "@jupyter-widgets/base",
      "model_module_version": "1.2.0",
      "model_name": "LayoutModel",
      "state": {}
     },
     "1d1d521ad0b14b42b68cec7429b5a7ee": {
      "model_module": "@jupyter-widgets/base",
      "model_module_version": "1.2.0",
      "model_name": "LayoutModel",
      "state": {}
     },
     "1fbefaa380a64033bb33a4ebe16618e5": {
      "model_module": "@jupyter-widgets/controls",
      "model_module_version": "1.5.0",
      "model_name": "ProgressStyleModel",
      "state": {
       "description_width": ""
      }
     },
     "238750e10a9340f3bcb40b8c60ea8594": {
      "model_module": "@jupyter-widgets/base",
      "model_module_version": "1.2.0",
      "model_name": "LayoutModel",
      "state": {}
     },
     "27d1dec075754ef38f155e02da4ed32b": {
      "model_module": "@jupyter-widgets/controls",
      "model_module_version": "1.5.0",
      "model_name": "DescriptionStyleModel",
      "state": {
       "description_width": ""
      }
     },
     "2c6d38fd9fe0439d8f0b483955da293a": {
      "model_module": "@jupyter-widgets/controls",
      "model_module_version": "1.5.0",
      "model_name": "HTMLModel",
      "state": {
       "layout": "IPY_MODEL_11a537ea0f3748f985d06554cd7fee32",
       "style": "IPY_MODEL_27d1dec075754ef38f155e02da4ed32b",
       "value": " 100% | Simulation finished in 00:14 "
      }
     },
     "31cdeedefaa149fe8503f418fc291f6d": {
      "model_module": "@jupyter-widgets/controls",
      "model_module_version": "1.5.0",
      "model_name": "DescriptionStyleModel",
      "state": {
       "description_width": ""
      }
     },
     "3b20b89e7fd94c55b9288566547521a3": {
      "model_module": "@jupyter-widgets/controls",
      "model_module_version": "1.5.0",
      "model_name": "HTMLModel",
      "state": {
       "layout": "IPY_MODEL_a651661711d04cc3b823fa6949e31582",
       "style": "IPY_MODEL_e00634210efa4407926c76de2cc1e76d",
       "value": " 100% | Simulation finished in 00:14 "
      }
     },
     "418d759a5abc463383405ac8ba06804d": {
      "model_module": "@jupyter-widgets/base",
      "model_module_version": "1.2.0",
      "model_name": "LayoutModel",
      "state": {}
     },
     "459074caa5e84cb9a1858e20b74bc436": {
      "model_module": "@jupyter-widgets/controls",
      "model_module_version": "1.5.0",
      "model_name": "DescriptionStyleModel",
      "state": {
       "description_width": ""
      }
     },
     "45a404c6e2d14f8ba678764b019092ff": {
      "model_module": "@jupyter-widgets/controls",
      "model_module_version": "1.5.0",
      "model_name": "FloatProgressModel",
      "state": {
       "bar_style": "success",
       "layout": "IPY_MODEL_5aa5d68971e946a6bc0c979cad9edaec",
       "max": 733,
       "style": "IPY_MODEL_9baea6afb2da4bb3906ad37b06e820fb",
       "value": 733
      }
     },
     "48e93b472b504d9ea3d6fcf9eaed900b": {
      "model_module": "@jupyter-widgets/controls",
      "model_module_version": "1.5.0",
      "model_name": "ProgressStyleModel",
      "state": {
       "description_width": ""
      }
     },
     "5aa5d68971e946a6bc0c979cad9edaec": {
      "model_module": "@jupyter-widgets/base",
      "model_module_version": "1.2.0",
      "model_name": "LayoutModel",
      "state": {}
     },
     "640e3dee17ac47f6bb8e05b480524292": {
      "model_module": "@jupyter-widgets/controls",
      "model_module_version": "1.5.0",
      "model_name": "HTMLModel",
      "state": {
       "layout": "IPY_MODEL_7dbc1b3000754f358c0bae71c17752d3",
       "style": "IPY_MODEL_31cdeedefaa149fe8503f418fc291f6d"
      }
     },
     "66ae5441725643ec9eea6d3a17036c39": {
      "model_module": "@jupyter-widgets/base",
      "model_module_version": "1.2.0",
      "model_name": "LayoutModel",
      "state": {}
     },
     "796937586e944fc894ca0694df8f2719": {
      "model_module": "@jupyter-widgets/controls",
      "model_module_version": "1.5.0",
      "model_name": "HBoxModel",
      "state": {
       "children": [
        "IPY_MODEL_d6eda718575946e5ad2ae83127803311",
        "IPY_MODEL_f632901ef37348abb215e4c9d11acb49",
        "IPY_MODEL_19ea305b487e49099ac7c7c38a2360f8"
       ],
       "layout": "IPY_MODEL_120142f515334a3badd77003610c8cb2"
      }
     },
     "7dbc1b3000754f358c0bae71c17752d3": {
      "model_module": "@jupyter-widgets/base",
      "model_module_version": "1.2.0",
      "model_name": "LayoutModel",
      "state": {}
     },
     "899c45d785ac4e2884a6bca785cc49c8": {
      "model_module": "@jupyter-widgets/base",
      "model_module_version": "1.2.0",
      "model_name": "LayoutModel",
      "state": {}
     },
     "9a4fc2ebae5a440fb3a06df2de2dc7b2": {
      "model_module": "@jupyter-widgets/controls",
      "model_module_version": "1.5.0",
      "model_name": "ProgressStyleModel",
      "state": {
       "description_width": ""
      }
     },
     "9baea6afb2da4bb3906ad37b06e820fb": {
      "model_module": "@jupyter-widgets/controls",
      "model_module_version": "1.5.0",
      "model_name": "ProgressStyleModel",
      "state": {
       "description_width": ""
      }
     },
     "9d56d8941edd4986811268fe884d90dc": {
      "model_module": "@jupyter-widgets/controls",
      "model_module_version": "1.5.0",
      "model_name": "FloatProgressModel",
      "state": {
       "bar_style": "success",
       "layout": "IPY_MODEL_9e1e8df53f404ebfb4c7129395e23882",
       "max": 733,
       "style": "IPY_MODEL_48e93b472b504d9ea3d6fcf9eaed900b",
       "value": 733
      }
     },
     "9e1e8df53f404ebfb4c7129395e23882": {
      "model_module": "@jupyter-widgets/base",
      "model_module_version": "1.2.0",
      "model_name": "LayoutModel",
      "state": {}
     },
     "9eda4b4134c84095b4db37fdd23f7126": {
      "model_module": "@jupyter-widgets/controls",
      "model_module_version": "1.5.0",
      "model_name": "DescriptionStyleModel",
      "state": {
       "description_width": ""
      }
     },
     "a651661711d04cc3b823fa6949e31582": {
      "model_module": "@jupyter-widgets/base",
      "model_module_version": "1.2.0",
      "model_name": "LayoutModel",
      "state": {}
     },
     "a81a1e35e3114089882051cb84395d78": {
      "model_module": "@jupyter-widgets/base",
      "model_module_version": "1.2.0",
      "model_name": "LayoutModel",
      "state": {}
     },
     "b05f1d2e04ec4fe899828bc378ff32fe": {
      "model_module": "@jupyter-widgets/base",
      "model_module_version": "1.2.0",
      "model_name": "LayoutModel",
      "state": {}
     },
     "b32132848e574fe781a944674ac9b0bc": {
      "model_module": "@jupyter-widgets/controls",
      "model_module_version": "1.5.0",
      "model_name": "HBoxModel",
      "state": {
       "children": [
        "IPY_MODEL_bba5c0ca555a48528dad693e6ef10b95",
        "IPY_MODEL_cd565fe8794a48409c83a3d61910d054",
        "IPY_MODEL_3b20b89e7fd94c55b9288566547521a3"
       ],
       "layout": "IPY_MODEL_418d759a5abc463383405ac8ba06804d"
      }
     },
     "bba5c0ca555a48528dad693e6ef10b95": {
      "model_module": "@jupyter-widgets/controls",
      "model_module_version": "1.5.0",
      "model_name": "HTMLModel",
      "state": {
       "layout": "IPY_MODEL_a81a1e35e3114089882051cb84395d78",
       "style": "IPY_MODEL_9eda4b4134c84095b4db37fdd23f7126"
      }
     },
     "bcc899d841c343b0b0ce5bb3f0a07ff0": {
      "model_module": "@jupyter-widgets/base",
      "model_module_version": "1.2.0",
      "model_name": "LayoutModel",
      "state": {}
     },
     "cd565fe8794a48409c83a3d61910d054": {
      "model_module": "@jupyter-widgets/controls",
      "model_module_version": "1.5.0",
      "model_name": "FloatProgressModel",
      "state": {
       "bar_style": "success",
       "layout": "IPY_MODEL_66ae5441725643ec9eea6d3a17036c39",
       "max": 733,
       "style": "IPY_MODEL_9a4fc2ebae5a440fb3a06df2de2dc7b2",
       "value": 733
      }
     },
     "d114f7988e8648449153e0e290deda77": {
      "model_module": "@jupyter-widgets/base",
      "model_module_version": "1.2.0",
      "model_name": "LayoutModel",
      "state": {}
     },
     "d6eda718575946e5ad2ae83127803311": {
      "model_module": "@jupyter-widgets/controls",
      "model_module_version": "1.5.0",
      "model_name": "HTMLModel",
      "state": {
       "layout": "IPY_MODEL_bcc899d841c343b0b0ce5bb3f0a07ff0",
       "style": "IPY_MODEL_f05948dd90ac48488701122d6abbda74"
      }
     },
     "d7b23fb6ff434d8a9327d606ede49f46": {
      "model_module": "@jupyter-widgets/controls",
      "model_module_version": "1.5.0",
      "model_name": "DescriptionStyleModel",
      "state": {
       "description_width": ""
      }
     },
     "e00634210efa4407926c76de2cc1e76d": {
      "model_module": "@jupyter-widgets/controls",
      "model_module_version": "1.5.0",
      "model_name": "DescriptionStyleModel",
      "state": {
       "description_width": ""
      }
     },
     "f05948dd90ac48488701122d6abbda74": {
      "model_module": "@jupyter-widgets/controls",
      "model_module_version": "1.5.0",
      "model_name": "DescriptionStyleModel",
      "state": {
       "description_width": ""
      }
     },
     "f632901ef37348abb215e4c9d11acb49": {
      "model_module": "@jupyter-widgets/controls",
      "model_module_version": "1.5.0",
      "model_name": "FloatProgressModel",
      "state": {
       "bar_style": "success",
       "layout": "IPY_MODEL_238750e10a9340f3bcb40b8c60ea8594",
       "max": 733,
       "style": "IPY_MODEL_1fbefaa380a64033bb33a4ebe16618e5",
       "value": 733
      }
     },
     "fb14492580d44403af85c007a882e30a": {
      "model_module": "@jupyter-widgets/controls",
      "model_module_version": "1.5.0",
      "model_name": "HTMLModel",
      "state": {
       "layout": "IPY_MODEL_899c45d785ac4e2884a6bca785cc49c8",
       "style": "IPY_MODEL_06c687aad049419488fad90f0337106b",
       "value": " 100% | Simulation finished in 00:08 "
      }
     }
    },
    "version_major": 2,
    "version_minor": 0
   }
  }
 },
 "nbformat": 4,
 "nbformat_minor": 5
}
