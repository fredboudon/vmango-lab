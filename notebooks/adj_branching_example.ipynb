{
 "cells": [
  {
   "cell_type": "code",
   "execution_count": 1,
   "id": "parallel-drink",
   "metadata": {},
   "outputs": [],
   "source": [
    "import numpy as np\n",
    "import igraph as ig"
   ]
  },
  {
   "cell_type": "code",
   "execution_count": 2,
   "id": "failing-faculty",
   "metadata": {},
   "outputs": [],
   "source": [
    "initial_tree = np.array([\n",
    "    [0, 1, 1, 0],\n",
    "    [0, 0, 0, 0],\n",
    "    [0, 0, 0, 1],\n",
    "    [0, 0, 0, 0]\n",
    "])"
   ]
  },
  {
   "cell_type": "code",
   "execution_count": 3,
   "id": "circular-framing",
   "metadata": {},
   "outputs": [],
   "source": [
    "# create properties per GU index\n",
    "gus = np.array([0, 1, 2, 3])\n",
    "position = np.array(['apical', 'apical', 'lateral', 'apical'])\n",
    "nb_fruits = np.array([0, 1, 2, 0])\n",
    "nb_leaves = np.array([1, 2, 2, 1])"
   ]
  },
  {
   "cell_type": "code",
   "execution_count": 4,
   "id": "joint-relay",
   "metadata": {},
   "outputs": [
    {
     "data": {
      "image/svg+xml": [
       "<?xml version=\"1.0\" encoding=\"UTF-8\"?>\n",
       "<svg xmlns=\"http://www.w3.org/2000/svg\" xmlns:xlink=\"http://www.w3.org/1999/xlink\" width=\"600pt\" height=\"200pt\" viewBox=\"0 0 600 200\" version=\"1.1\">\n",
       "<defs>\n",
       "<g>\n",
       "<symbol overflow=\"visible\" id=\"glyph0-0\">\n",
       "<path style=\"stroke:none;\" d=\"M 0.703125 2.46875 L 0.703125 -9.875 L 7.703125 -9.875 L 7.703125 2.46875 Z M 1.484375 1.703125 L 6.921875 1.703125 L 6.921875 -9.078125 L 1.484375 -9.078125 Z M 1.484375 1.703125 \"/>\n",
       "</symbol>\n",
       "<symbol overflow=\"visible\" id=\"glyph0-1\">\n",
       "<path style=\"stroke:none;\" d=\"M 4.453125 -9.296875 C 3.742188 -9.296875 3.207031 -8.945312 2.84375 -8.25 C 2.488281 -7.550781 2.3125 -6.5 2.3125 -5.09375 C 2.3125 -3.695312 2.488281 -2.644531 2.84375 -1.9375 C 3.207031 -1.238281 3.742188 -0.890625 4.453125 -0.890625 C 5.171875 -0.890625 5.707031 -1.238281 6.0625 -1.9375 C 6.414062 -2.644531 6.59375 -3.695312 6.59375 -5.09375 C 6.59375 -6.5 6.414062 -7.550781 6.0625 -8.25 C 5.707031 -8.945312 5.171875 -9.296875 4.453125 -9.296875 Z M 4.453125 -10.390625 C 5.597656 -10.390625 6.472656 -9.9375 7.078125 -9.03125 C 7.679688 -8.125 7.984375 -6.8125 7.984375 -5.09375 C 7.984375 -3.375 7.679688 -2.0625 7.078125 -1.15625 C 6.472656 -0.25 5.597656 0.203125 4.453125 0.203125 C 3.304688 0.203125 2.429688 -0.25 1.828125 -1.15625 C 1.222656 -2.0625 0.921875 -3.375 0.921875 -5.09375 C 0.921875 -6.8125 1.222656 -8.125 1.828125 -9.03125 C 2.429688 -9.9375 3.304688 -10.390625 4.453125 -10.390625 Z M 4.453125 -10.390625 \"/>\n",
       "</symbol>\n",
       "<symbol overflow=\"visible\" id=\"glyph0-2\">\n",
       "<path style=\"stroke:none;\" d=\"M 1.734375 -1.15625 L 4 -1.15625 L 4 -8.953125 L 1.53125 -8.453125 L 1.53125 -9.71875 L 3.984375 -10.203125 L 5.359375 -10.203125 L 5.359375 -1.15625 L 7.609375 -1.15625 L 7.609375 0 L 1.734375 0 Z M 1.734375 -1.15625 \"/>\n",
       "</symbol>\n",
       "<symbol overflow=\"visible\" id=\"glyph0-3\">\n",
       "<path style=\"stroke:none;\" d=\"M 2.6875 -1.15625 L 7.5 -1.15625 L 7.5 0 L 1.03125 0 L 1.03125 -1.15625 C 1.550781 -1.695312 2.265625 -2.425781 3.171875 -3.34375 C 4.078125 -4.257812 4.644531 -4.847656 4.875 -5.109375 C 5.3125 -5.609375 5.617188 -6.03125 5.796875 -6.375 C 5.972656 -6.71875 6.0625 -7.054688 6.0625 -7.390625 C 6.0625 -7.929688 5.867188 -8.375 5.484375 -8.71875 C 5.109375 -9.0625 4.613281 -9.234375 4 -9.234375 C 3.570312 -9.234375 3.117188 -9.15625 2.640625 -9 C 2.160156 -8.851562 1.644531 -8.625 1.09375 -8.3125 L 1.09375 -9.71875 C 1.644531 -9.9375 2.160156 -10.101562 2.640625 -10.21875 C 3.128906 -10.332031 3.578125 -10.390625 3.984375 -10.390625 C 5.035156 -10.390625 5.875 -10.125 6.5 -9.59375 C 7.132812 -9.070312 7.453125 -8.367188 7.453125 -7.484375 C 7.453125 -7.054688 7.375 -6.65625 7.21875 -6.28125 C 7.0625 -5.90625 6.773438 -5.460938 6.359375 -4.953125 C 6.242188 -4.828125 5.878906 -4.445312 5.265625 -3.8125 C 4.660156 -3.175781 3.800781 -2.289062 2.6875 -1.15625 Z M 2.6875 -1.15625 \"/>\n",
       "</symbol>\n",
       "<symbol overflow=\"visible\" id=\"glyph0-4\">\n",
       "<path style=\"stroke:none;\" d=\"M 5.6875 -5.5 C 6.34375 -5.363281 6.851562 -5.070312 7.21875 -4.625 C 7.59375 -4.175781 7.78125 -3.625 7.78125 -2.96875 C 7.78125 -1.957031 7.429688 -1.175781 6.734375 -0.625 C 6.046875 -0.0703125 5.066406 0.203125 3.796875 0.203125 C 3.367188 0.203125 2.925781 0.15625 2.46875 0.0625 C 2.019531 -0.0195312 1.550781 -0.144531 1.0625 -0.3125 L 1.0625 -1.640625 C 1.445312 -1.421875 1.867188 -1.253906 2.328125 -1.140625 C 2.785156 -1.023438 3.257812 -0.96875 3.75 -0.96875 C 4.613281 -0.96875 5.269531 -1.132812 5.71875 -1.46875 C 6.175781 -1.8125 6.40625 -2.3125 6.40625 -2.96875 C 6.40625 -3.570312 6.191406 -4.039062 5.765625 -4.375 C 5.347656 -4.71875 4.765625 -4.890625 4.015625 -4.890625 L 2.828125 -4.890625 L 2.828125 -6.015625 L 4.078125 -6.015625 C 4.753906 -6.015625 5.269531 -6.148438 5.625 -6.421875 C 5.988281 -6.703125 6.171875 -7.097656 6.171875 -7.609375 C 6.171875 -8.128906 5.984375 -8.53125 5.609375 -8.8125 C 5.242188 -9.09375 4.710938 -9.234375 4.015625 -9.234375 C 3.640625 -9.234375 3.234375 -9.191406 2.796875 -9.109375 C 2.367188 -9.023438 1.894531 -8.894531 1.375 -8.71875 L 1.375 -9.953125 C 1.894531 -10.097656 2.382812 -10.207031 2.84375 -10.28125 C 3.300781 -10.351562 3.734375 -10.390625 4.140625 -10.390625 C 5.191406 -10.390625 6.019531 -10.148438 6.625 -9.671875 C 7.238281 -9.203125 7.546875 -8.5625 7.546875 -7.75 C 7.546875 -7.175781 7.382812 -6.695312 7.0625 -6.3125 C 6.738281 -5.925781 6.28125 -5.65625 5.6875 -5.5 Z M 5.6875 -5.5 \"/>\n",
       "</symbol>\n",
       "</g>\n",
       "</defs>\n",
       "<g id=\"surface2\">\n",
       "<rect x=\"0\" y=\"0\" width=\"600\" height=\"200\" style=\"fill:rgb(100%,100%,100%);fill-opacity:1;stroke:none;\"/>\n",
       "<path style=\"fill:none;stroke-width:1;stroke-linecap:butt;stroke-linejoin:miter;stroke:rgb(0%,100%,0%);stroke-opacity:1;stroke-miterlimit:10;\" d=\"M 20 100 L 276.667969 173.332031 \"/>\n",
       "<path style=\" stroke:none;fill-rule:nonzero;fill:rgb(0%,100%,0%);fill-opacity:1;\" d=\"M 290.382812 177.253906 L 275.394531 177.789062 L 277.941406 168.875 L 290.382812 177.253906 \"/>\n",
       "<path style=\"fill:none;stroke-width:1;stroke-linecap:butt;stroke-linejoin:miter;stroke:rgb(0%,0%,0%);stroke-opacity:1;stroke-miterlimit:10;\" d=\"M 20 100 L 276.667969 26.667969 \"/>\n",
       "<path style=\" stroke:none;fill-rule:nonzero;fill:rgb(0%,0%,0%);fill-opacity:1;\" d=\"M 290.382812 22.746094 L 277.941406 31.125 L 275.394531 22.210938 L 290.382812 22.746094 \"/>\n",
       "<path style=\"fill:none;stroke-width:1;stroke-linecap:butt;stroke-linejoin:miter;stroke:rgb(0%,100%,0%);stroke-opacity:1;stroke-miterlimit:10;\" d=\"M 300 20 L 555.734375 20 \"/>\n",
       "<path style=\" stroke:none;fill-rule:nonzero;fill:rgb(0%,100%,0%);fill-opacity:1;\" d=\"M 570 20 L 555.734375 24.636719 L 555.734375 15.363281 L 570 20 \"/>\n",
       "<path style=\"fill-rule:nonzero;fill:rgb(100%,100%,100%);fill-opacity:1;stroke-width:1;stroke-linecap:butt;stroke-linejoin:miter;stroke:rgb(0%,0%,0%);stroke-opacity:1;stroke-miterlimit:10;\" d=\"M 30 100 C 30 105.523438 25.523438 110 20 110 C 14.476562 110 10 105.523438 10 100 C 10 94.476562 14.476562 90 20 90 C 25.523438 90 30 94.476562 30 100 \"/>\n",
       "<path style=\"fill-rule:nonzero;fill:rgb(100%,0%,0%);fill-opacity:1;stroke-width:1;stroke-linecap:butt;stroke-linejoin:miter;stroke:rgb(0%,0%,0%);stroke-opacity:1;stroke-miterlimit:10;\" d=\"M 310 180 C 310 185.523438 305.523438 190 300 190 C 294.476562 190 290 185.523438 290 180 C 290 174.476562 294.476562 170 300 170 C 305.523438 170 310 174.476562 310 180 \"/>\n",
       "<path style=\"fill-rule:nonzero;fill:rgb(100%,0%,0%);fill-opacity:1;stroke-width:1;stroke-linecap:butt;stroke-linejoin:miter;stroke:rgb(0%,0%,0%);stroke-opacity:1;stroke-miterlimit:10;\" d=\"M 310 20 C 310 25.523438 305.523438 30 300 30 C 294.476562 30 290 25.523438 290 20 C 290 14.476562 294.476562 10 300 10 C 305.523438 10 310 14.476562 310 20 \"/>\n",
       "<path style=\"fill-rule:nonzero;fill:rgb(100%,100%,100%);fill-opacity:1;stroke-width:1;stroke-linecap:butt;stroke-linejoin:miter;stroke:rgb(0%,0%,0%);stroke-opacity:1;stroke-miterlimit:10;\" d=\"M 590 20 C 590 25.523438 585.523438 30 580 30 C 574.476562 30 570 25.523438 570 20 C 570 14.476562 574.476562 10 580 10 C 585.523438 10 590 14.476562 590 20 \"/>\n",
       "<g style=\"fill:rgb(0%,0%,0%);fill-opacity:1;\">\n",
       "  <use xlink:href=\"#glyph0-1\" x=\"15.550781\" y=\"106.847656\"/>\n",
       "</g>\n",
       "<g style=\"fill:rgb(0%,0%,0%);fill-opacity:1;\">\n",
       "  <use xlink:href=\"#glyph0-2\" x=\"295.421875\" y=\"186.753906\"/>\n",
       "</g>\n",
       "<g style=\"fill:rgb(0%,0%,0%);fill-opacity:1;\">\n",
       "  <use xlink:href=\"#glyph0-3\" x=\"295.734375\" y=\"26.847656\"/>\n",
       "</g>\n",
       "<g style=\"fill:rgb(0%,0%,0%);fill-opacity:1;\">\n",
       "  <use xlink:href=\"#glyph0-4\" x=\"575.574219\" y=\"26.847656\"/>\n",
       "</g>\n",
       "</g>\n",
       "</svg>\n"
      ],
      "text/plain": [
       "<igraph.drawing.Plot at 0x7f1cad7a84c0>"
      ]
     },
     "execution_count": 4,
     "metadata": {
      "image/svg+xml": {
       "isolated": true
      }
     },
     "output_type": "execute_result"
    }
   ],
   "source": [
    "# plot tree and vertex properties\n",
    "graph = ig.Graph.Adjacency(initial_tree.tolist())\n",
    "layout = graph.layout_reingold_tilford()\n",
    "layout.rotate(-90)\n",
    "ig.plot(graph, layout=layout, bbox=(600, 200), **{\n",
    "    'vertex_color': ['white' if f == 0 else 'red' for f in nb_fruits],\n",
    "    'vertex_label': [i for i in gus],\n",
    "    'edge_color': [ 'green' if position[c] == 'apical' else 'black' for p, c in graph.get_edgelist()]\n",
    "\n",
    "})"
   ]
  },
  {
   "cell_type": "code",
   "execution_count": 5,
   "id": "located-maker",
   "metadata": {},
   "outputs": [],
   "source": [
    "# define flows from GU row index _> GU column index\n",
    "gu_x_gu = np.array([\n",
    "    [0, 0.5, 0.5, 0],\n",
    "    [0, 1  , 0  , 0],\n",
    "    [0, 0  , 1  , 0],\n",
    "    [0, 0  , 1  , 0]\n",
    "])"
   ]
  },
  {
   "cell_type": "code",
   "execution_count": 6,
   "id": "future-diploma",
   "metadata": {},
   "outputs": [
    {
     "data": {
      "text/plain": [
       "array([[0, 1],\n",
       "       [0, 2],\n",
       "       [1, 1],\n",
       "       [2, 2],\n",
       "       [3, 2]])"
      ]
     },
     "execution_count": 6,
     "metadata": {},
     "output_type": "execute_result"
    }
   ],
   "source": [
    "# extract edges\n",
    "edges = np.argwhere(gu_x_gu)\n",
    "edges"
   ]
  },
  {
   "cell_type": "code",
   "execution_count": 7,
   "id": "ignored-eclipse",
   "metadata": {},
   "outputs": [
    {
     "data": {
      "text/plain": [
       "array([0.5, 0.5, 1. , 1. , 1. ])"
      ]
     },
     "execution_count": 7,
     "metadata": {},
     "output_type": "execute_result"
    }
   ],
   "source": [
    "# flow coef. per edge\n",
    "edges_flow = gu_x_gu[tuple(edges.transpose())]\n",
    "edges_flow"
   ]
  },
  {
   "cell_type": "code",
   "execution_count": 8,
   "id": "cooked-parallel",
   "metadata": {},
   "outputs": [
    {
     "data": {
      "image/svg+xml": [
       "<?xml version=\"1.0\" encoding=\"UTF-8\"?>\n",
       "<svg xmlns=\"http://www.w3.org/2000/svg\" xmlns:xlink=\"http://www.w3.org/1999/xlink\" width=\"600pt\" height=\"200pt\" viewBox=\"0 0 600 200\" version=\"1.1\">\n",
       "<defs>\n",
       "<g>\n",
       "<symbol overflow=\"visible\" id=\"glyph0-0\">\n",
       "<path style=\"stroke:none;\" d=\"M 0.703125 2.46875 L 0.703125 -9.875 L 7.703125 -9.875 L 7.703125 2.46875 Z M 1.484375 1.703125 L 6.921875 1.703125 L 6.921875 -9.078125 L 1.484375 -9.078125 Z M 1.484375 1.703125 \"/>\n",
       "</symbol>\n",
       "<symbol overflow=\"visible\" id=\"glyph0-1\">\n",
       "<path style=\"stroke:none;\" d=\"M 4.453125 -9.296875 C 3.742188 -9.296875 3.207031 -8.945312 2.84375 -8.25 C 2.488281 -7.550781 2.3125 -6.5 2.3125 -5.09375 C 2.3125 -3.695312 2.488281 -2.644531 2.84375 -1.9375 C 3.207031 -1.238281 3.742188 -0.890625 4.453125 -0.890625 C 5.171875 -0.890625 5.707031 -1.238281 6.0625 -1.9375 C 6.414062 -2.644531 6.59375 -3.695312 6.59375 -5.09375 C 6.59375 -6.5 6.414062 -7.550781 6.0625 -8.25 C 5.707031 -8.945312 5.171875 -9.296875 4.453125 -9.296875 Z M 4.453125 -10.390625 C 5.597656 -10.390625 6.472656 -9.9375 7.078125 -9.03125 C 7.679688 -8.125 7.984375 -6.8125 7.984375 -5.09375 C 7.984375 -3.375 7.679688 -2.0625 7.078125 -1.15625 C 6.472656 -0.25 5.597656 0.203125 4.453125 0.203125 C 3.304688 0.203125 2.429688 -0.25 1.828125 -1.15625 C 1.222656 -2.0625 0.921875 -3.375 0.921875 -5.09375 C 0.921875 -6.8125 1.222656 -8.125 1.828125 -9.03125 C 2.429688 -9.9375 3.304688 -10.390625 4.453125 -10.390625 Z M 4.453125 -10.390625 \"/>\n",
       "</symbol>\n",
       "<symbol overflow=\"visible\" id=\"glyph0-2\">\n",
       "<path style=\"stroke:none;\" d=\"M 1.734375 -1.15625 L 4 -1.15625 L 4 -8.953125 L 1.53125 -8.453125 L 1.53125 -9.71875 L 3.984375 -10.203125 L 5.359375 -10.203125 L 5.359375 -1.15625 L 7.609375 -1.15625 L 7.609375 0 L 1.734375 0 Z M 1.734375 -1.15625 \"/>\n",
       "</symbol>\n",
       "<symbol overflow=\"visible\" id=\"glyph0-3\">\n",
       "<path style=\"stroke:none;\" d=\"M 2.6875 -1.15625 L 7.5 -1.15625 L 7.5 0 L 1.03125 0 L 1.03125 -1.15625 C 1.550781 -1.695312 2.265625 -2.425781 3.171875 -3.34375 C 4.078125 -4.257812 4.644531 -4.847656 4.875 -5.109375 C 5.3125 -5.609375 5.617188 -6.03125 5.796875 -6.375 C 5.972656 -6.71875 6.0625 -7.054688 6.0625 -7.390625 C 6.0625 -7.929688 5.867188 -8.375 5.484375 -8.71875 C 5.109375 -9.0625 4.613281 -9.234375 4 -9.234375 C 3.570312 -9.234375 3.117188 -9.15625 2.640625 -9 C 2.160156 -8.851562 1.644531 -8.625 1.09375 -8.3125 L 1.09375 -9.71875 C 1.644531 -9.9375 2.160156 -10.101562 2.640625 -10.21875 C 3.128906 -10.332031 3.578125 -10.390625 3.984375 -10.390625 C 5.035156 -10.390625 5.875 -10.125 6.5 -9.59375 C 7.132812 -9.070312 7.453125 -8.367188 7.453125 -7.484375 C 7.453125 -7.054688 7.375 -6.65625 7.21875 -6.28125 C 7.0625 -5.90625 6.773438 -5.460938 6.359375 -4.953125 C 6.242188 -4.828125 5.878906 -4.445312 5.265625 -3.8125 C 4.660156 -3.175781 3.800781 -2.289062 2.6875 -1.15625 Z M 2.6875 -1.15625 \"/>\n",
       "</symbol>\n",
       "<symbol overflow=\"visible\" id=\"glyph0-4\">\n",
       "<path style=\"stroke:none;\" d=\"M 5.6875 -5.5 C 6.34375 -5.363281 6.851562 -5.070312 7.21875 -4.625 C 7.59375 -4.175781 7.78125 -3.625 7.78125 -2.96875 C 7.78125 -1.957031 7.429688 -1.175781 6.734375 -0.625 C 6.046875 -0.0703125 5.066406 0.203125 3.796875 0.203125 C 3.367188 0.203125 2.925781 0.15625 2.46875 0.0625 C 2.019531 -0.0195312 1.550781 -0.144531 1.0625 -0.3125 L 1.0625 -1.640625 C 1.445312 -1.421875 1.867188 -1.253906 2.328125 -1.140625 C 2.785156 -1.023438 3.257812 -0.96875 3.75 -0.96875 C 4.613281 -0.96875 5.269531 -1.132812 5.71875 -1.46875 C 6.175781 -1.8125 6.40625 -2.3125 6.40625 -2.96875 C 6.40625 -3.570312 6.191406 -4.039062 5.765625 -4.375 C 5.347656 -4.71875 4.765625 -4.890625 4.015625 -4.890625 L 2.828125 -4.890625 L 2.828125 -6.015625 L 4.078125 -6.015625 C 4.753906 -6.015625 5.269531 -6.148438 5.625 -6.421875 C 5.988281 -6.703125 6.171875 -7.097656 6.171875 -7.609375 C 6.171875 -8.128906 5.984375 -8.53125 5.609375 -8.8125 C 5.242188 -9.09375 4.710938 -9.234375 4.015625 -9.234375 C 3.640625 -9.234375 3.234375 -9.191406 2.796875 -9.109375 C 2.367188 -9.023438 1.894531 -8.894531 1.375 -8.71875 L 1.375 -9.953125 C 1.894531 -10.097656 2.382812 -10.207031 2.84375 -10.28125 C 3.300781 -10.351562 3.734375 -10.390625 4.140625 -10.390625 C 5.191406 -10.390625 6.019531 -10.148438 6.625 -9.671875 C 7.238281 -9.203125 7.546875 -8.5625 7.546875 -7.75 C 7.546875 -7.175781 7.382812 -6.695312 7.0625 -6.3125 C 6.738281 -5.925781 6.28125 -5.65625 5.6875 -5.5 Z M 5.6875 -5.5 \"/>\n",
       "</symbol>\n",
       "</g>\n",
       "</defs>\n",
       "<g id=\"surface8\">\n",
       "<rect x=\"0\" y=\"0\" width=\"600\" height=\"200\" style=\"fill:rgb(100%,100%,100%);fill-opacity:1;stroke:none;\"/>\n",
       "<path style=\"fill:none;stroke-width:2.5;stroke-linecap:butt;stroke-linejoin:miter;stroke:rgb(26.666667%,26.666667%,26.666667%);stroke-opacity:1;stroke-miterlimit:10;\" d=\"M 20 100 L 276.113281 145.734375 \"/>\n",
       "<path style=\" stroke:none;fill-rule:nonzero;fill:rgb(26.666667%,26.666667%,26.666667%);fill-opacity:1;\" d=\"M 290.15625 148.242188 L 275.296875 150.296875 L 276.925781 141.171875 L 290.15625 148.242188 \"/>\n",
       "<path style=\"fill:none;stroke-width:2.5;stroke-linecap:butt;stroke-linejoin:miter;stroke:rgb(26.666667%,26.666667%,26.666667%);stroke-opacity:1;stroke-miterlimit:10;\" d=\"M 20 100 L 276.113281 54.265625 \"/>\n",
       "<path style=\" stroke:none;fill-rule:nonzero;fill:rgb(26.666667%,26.666667%,26.666667%);fill-opacity:1;\" d=\"M 290.15625 51.757812 L 276.925781 58.828125 L 275.296875 49.703125 L 290.15625 51.757812 \"/>\n",
       "<path style=\"fill:none;stroke-width:5;stroke-linecap:butt;stroke-linejoin:miter;stroke:rgb(26.666667%,26.666667%,26.666667%);stroke-opacity:1;stroke-miterlimit:10;\" d=\"M 325.605469 139.394531 C 325.605469 147.675781 318.890625 154.394531 310.605469 154.394531 C 302.324219 154.394531 295.605469 147.675781 295.605469 139.394531 C 295.605469 131.109375 302.324219 124.394531 310.605469 124.394531 C 318.890625 124.394531 325.605469 131.109375 325.605469 139.394531 \"/>\n",
       "<path style=\"fill:none;stroke-width:5;stroke-linecap:butt;stroke-linejoin:miter;stroke:rgb(26.666667%,26.666667%,26.666667%);stroke-opacity:1;stroke-miterlimit:10;\" d=\"M 325.605469 39.394531 C 325.605469 47.675781 318.890625 54.394531 310.605469 54.394531 C 302.324219 54.394531 295.605469 47.675781 295.605469 39.394531 C 295.605469 31.109375 302.324219 24.394531 310.605469 24.394531 C 318.890625 24.394531 325.605469 31.109375 325.605469 39.394531 \"/>\n",
       "<path style=\"fill:none;stroke-width:5;stroke-linecap:butt;stroke-linejoin:miter;stroke:rgb(26.666667%,26.666667%,26.666667%);stroke-opacity:1;stroke-miterlimit:10;\" d=\"M 580 50 L 324.265625 50 \"/>\n",
       "<path style=\" stroke:none;fill-rule:nonzero;fill:rgb(26.666667%,26.666667%,26.666667%);fill-opacity:1;\" d=\"M 310 50 L 324.265625 45.363281 L 324.265625 54.636719 L 310 50 \"/>\n",
       "<path style=\"fill-rule:nonzero;fill:rgb(100%,100%,100%);fill-opacity:1;stroke-width:1;stroke-linecap:butt;stroke-linejoin:miter;stroke:rgb(0%,0%,0%);stroke-opacity:1;stroke-miterlimit:10;\" d=\"M 30 100 C 30 105.523438 25.523438 110 20 110 C 14.476562 110 10 105.523438 10 100 C 10 94.476562 14.476562 90 20 90 C 25.523438 90 30 94.476562 30 100 \"/>\n",
       "<path style=\"fill-rule:nonzero;fill:rgb(100%,0%,0%);fill-opacity:1;stroke-width:1;stroke-linecap:butt;stroke-linejoin:miter;stroke:rgb(0%,0%,0%);stroke-opacity:1;stroke-miterlimit:10;\" d=\"M 310 150 C 310 155.523438 305.523438 160 300 160 C 294.476562 160 290 155.523438 290 150 C 290 144.476562 294.476562 140 300 140 C 305.523438 140 310 144.476562 310 150 \"/>\n",
       "<path style=\"fill-rule:nonzero;fill:rgb(100%,0%,0%);fill-opacity:1;stroke-width:1;stroke-linecap:butt;stroke-linejoin:miter;stroke:rgb(0%,0%,0%);stroke-opacity:1;stroke-miterlimit:10;\" d=\"M 310 50 C 310 55.523438 305.523438 60 300 60 C 294.476562 60 290 55.523438 290 50 C 290 44.476562 294.476562 40 300 40 C 305.523438 40 310 44.476562 310 50 \"/>\n",
       "<path style=\"fill-rule:nonzero;fill:rgb(100%,100%,100%);fill-opacity:1;stroke-width:1;stroke-linecap:butt;stroke-linejoin:miter;stroke:rgb(0%,0%,0%);stroke-opacity:1;stroke-miterlimit:10;\" d=\"M 590 50 C 590 55.523438 585.523438 60 580 60 C 574.476562 60 570 55.523438 570 50 C 570 44.476562 574.476562 40 580 40 C 585.523438 40 590 44.476562 590 50 \"/>\n",
       "<g style=\"fill:rgb(0%,0%,0%);fill-opacity:1;\">\n",
       "  <use xlink:href=\"#glyph0-1\" x=\"15.550781\" y=\"106.847656\"/>\n",
       "</g>\n",
       "<g style=\"fill:rgb(0%,0%,0%);fill-opacity:1;\">\n",
       "  <use xlink:href=\"#glyph0-2\" x=\"295.421875\" y=\"156.753906\"/>\n",
       "</g>\n",
       "<g style=\"fill:rgb(0%,0%,0%);fill-opacity:1;\">\n",
       "  <use xlink:href=\"#glyph0-3\" x=\"295.734375\" y=\"56.847656\"/>\n",
       "</g>\n",
       "<g style=\"fill:rgb(0%,0%,0%);fill-opacity:1;\">\n",
       "  <use xlink:href=\"#glyph0-4\" x=\"575.574219\" y=\"56.847656\"/>\n",
       "</g>\n",
       "</g>\n",
       "</svg>\n"
      ],
      "text/plain": [
       "<igraph.drawing.Plot at 0x7f1c541a30d0>"
      ]
     },
     "execution_count": 8,
     "metadata": {
      "image/svg+xml": {
       "isolated": true
      }
     },
     "output_type": "execute_result"
    }
   ],
   "source": [
    "# display flows\n",
    "graph_flow = ig.Graph.Adjacency((gu_x_gu > 0).tolist())\n",
    "ig.plot(graph_flow, layout=layout, bbox=(600, 200), **{\n",
    "    'vertex_color': ['white' if f == 0 else 'red' for f in nb_fruits],\n",
    "    'vertex_label': [i for i in gus],\n",
    "    'edge_width': [f*5 for f in edges_flow]\n",
    "\n",
    "}, margin=(20,50,20,50))"
   ]
  },
  {
   "cell_type": "code",
   "execution_count": 9,
   "id": "planned-newark",
   "metadata": {},
   "outputs": [
    {
     "data": {
      "text/plain": [
       "array([[0. , 0. , 0. , 0. ],\n",
       "       [0.5, 2. , 0. , 0. ],\n",
       "       [0.5, 0. , 2. , 1. ],\n",
       "       [0. , 0. , 0. , 0. ]])"
      ]
     },
     "execution_count": 9,
     "metadata": {},
     "output_type": "execute_result"
    }
   ],
   "source": [
    "# examples for computing aggregates based on flow coef.\n",
    "gu_x_gu.transpose() * nb_leaves"
   ]
  },
  {
   "cell_type": "code",
   "execution_count": 10,
   "id": "aggressive-syndrome",
   "metadata": {},
   "outputs": [
    {
     "data": {
      "text/plain": [
       "array([0. , 2.5, 3.5, 0. ])"
      ]
     },
     "execution_count": 10,
     "metadata": {},
     "output_type": "execute_result"
    }
   ],
   "source": [
    "np.sum(gu_x_gu.transpose()  * nb_leaves, 1)"
   ]
  },
  {
   "cell_type": "code",
   "execution_count": 11,
   "id": "british-doubt",
   "metadata": {},
   "outputs": [
    {
     "data": {
      "text/plain": [
       "array([[0., 0., 0., 0.],\n",
       "       [0., 1., 0., 0.],\n",
       "       [0., 0., 2., 0.],\n",
       "       [0., 0., 0., 0.]])"
      ]
     },
     "execution_count": 11,
     "metadata": {},
     "output_type": "execute_result"
    }
   ],
   "source": [
    "gu_x_gu.transpose() * nb_fruits"
   ]
  },
  {
   "cell_type": "code",
   "execution_count": 12,
   "id": "architectural-infection",
   "metadata": {},
   "outputs": [
    {
     "data": {
      "text/plain": [
       "array([0., 1., 2., 0.])"
      ]
     },
     "execution_count": 12,
     "metadata": {},
     "output_type": "execute_result"
    }
   ],
   "source": [
    "np.sum(gu_x_gu.transpose() * nb_fruits, 1)"
   ]
  },
  {
   "cell_type": "code",
   "execution_count": 13,
   "id": "statistical-parks",
   "metadata": {},
   "outputs": [
    {
     "name": "stderr",
     "output_type": "stream",
     "text": [
      "<ipython-input-13-7a78f33228cf>:2: RuntimeWarning: invalid value encountered in true_divide\n",
      "  np.sum(gu_x_gu.transpose() * nb_leaves, 1) / np.sum(gu_x_gu.transpose() * nb_fruits, 1)\n"
     ]
    },
    {
     "data": {
      "text/plain": [
       "array([ nan, 2.5 , 1.75,  nan])"
      ]
     },
     "execution_count": 13,
     "metadata": {},
     "output_type": "execute_result"
    }
   ],
   "source": [
    "# leaf-fruit ratio\n",
    "np.sum(gu_x_gu.transpose() * nb_leaves, 1) / np.sum(gu_x_gu.transpose() * nb_fruits, 1)"
   ]
  },
  {
   "cell_type": "code",
   "execution_count": null,
   "id": "related-reunion",
   "metadata": {},
   "outputs": [],
   "source": []
  },
  {
   "cell_type": "code",
   "execution_count": null,
   "id": "proved-explosion",
   "metadata": {},
   "outputs": [],
   "source": []
  }
 ],
 "metadata": {
  "kernelspec": {
   "display_name": "Python 3",
   "language": "python",
   "name": "python3"
  },
  "language_info": {
   "codemirror_mode": {
    "name": "ipython",
    "version": 3
   },
   "file_extension": ".py",
   "mimetype": "text/x-python",
   "name": "python",
   "nbconvert_exporter": "python",
   "pygments_lexer": "ipython3",
   "version": "3.8.6"
  },
  "widgets": {
   "application/vnd.jupyter.widget-state+json": {
    "state": {},
    "version_major": 2,
    "version_minor": 0
   }
  }
 },
 "nbformat": 4,
 "nbformat_minor": 5
}
