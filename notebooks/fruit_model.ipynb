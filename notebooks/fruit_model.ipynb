{
 "cells": [
  {
   "cell_type": "code",
   "execution_count": null,
   "id": "6d531782-e4b6-4d56-89eb-bec688a9a2a2",
   "metadata": {},
   "outputs": [],
   "source": [
    "import numpy as np\n",
    "import pandas as pd\n",
    "import igraph as ig\n",
    "import vmlab"
   ]
  },
  {
   "cell_type": "code",
   "execution_count": null,
   "id": "bf9432fc-5995-4c7b-ba2f-565a1843b5e0",
   "metadata": {},
   "outputs": [],
   "source": [
    "from vmlab.models import fruit_model\n",
    "from vmlab.processes import harvest\n",
    "fruit_model = fruit_model.update_processes({'harvest': harvest.HarvestByQuality})\n",
    "fruit_model.visualize()"
   ]
  },
  {
   "cell_type": "code",
   "execution_count": null,
   "id": "0015f2f4-ec2a-416a-827f-5f9175280e4b",
   "metadata": {
    "jupyter": {
     "outputs_hidden": true
    },
    "tags": []
   },
   "outputs": [],
   "source": [
    "tree = pd.DataFrame({\n",
    "    'parent_id': [np.nan, 0, 0],\n",
    "    'id': [0, 1, 2],\n",
    "    'cycle': [3, 3, 3],\n",
    "    'is_apical': [1, 0, 1],\n",
    "    'appearance_month': [2, 2, 2],\n",
    "    'ancestor_nature': [0, 0, 0],\n",
    "    'ancestor_is_apical': [1, 1, 1],\n",
    "    'nature': [0, 0, 0],\n",
    "    'burst_date': ['NAT', 'NAT', 'NAT'],\n",
    "    'flowering_date': ['NAT', '2002-10-01', '2002-09-01'],\n",
    "    'has_apical_child': [1, 0, 0],\n",
    "    'nb_lateral_children': [1, 0, 0],\n",
    "    'nb_inflo': [0, 1, 2],\n",
    "    'nb_fruit': [0, 1, 1]\n",
    "    \n",
    "})\n",
    "in_g = ig.Graph.DataFrame(tree.dropna())\n",
    "ig.plot(in_g, bbox=(0,0,150,150), layout=in_g.layout_reingold_tilford())"
   ]
  },
  {
   "cell_type": "code",
   "execution_count": null,
   "id": "4d5e581b-0909-4796-a5f2-52072f263aef",
   "metadata": {},
   "outputs": [],
   "source": [
    "setup = vmlab.create_setup(\n",
    "    model=fruit_model,\n",
    "    tree=tree,\n",
    "    start_date='2002-06-01',\n",
    "    end_date='2003-06-01',\n",
    "    setup_toml='../share/setup/fruit_model.toml',\n",
    "    current_cycle=3,\n",
    "    input_vars={\n",
    "        'topology': {\n",
    "            'seed': 11,\n",
    "        },\n",
    "        'geometry__interpretation_freq': 15\n",
    "    },\n",
    "    output_vars={\n",
    "        'topology': {\n",
    "            'adjacency': 'day'\n",
    "        },\n",
    "        'environment': {\n",
    "            'TM_day': 'day',\n",
    "            'RH_day': 'day'\n",
    "        },\n",
    "        'carbon_allocation': {\n",
    "            'DM_fruit': 'day',\n",
    "            'DM_fleshpeel': 'day'\n",
    "        },\n",
    "        'harvest': {\n",
    "            'ripeness_index': 'day',\n",
    "            'nb_fruit_harvested': None\n",
    "        },\n",
    "        'growth': {\n",
    "            'nb_leaf': None,\n",
    "        },\n",
    "        'fruit_quality': {\n",
    "            'FM_fruit': 'day',\n",
    "            'W_fleshpeel': 'day',\n",
    "            'DM_flesh': 'day',\n",
    "            'W_flesh': 'day',\n",
    "            'transpiration_fruit': 'day',\n",
    "            'osmotic_pressure_fruit': 'day',\n",
    "            'turgor_pressure_fruit': 'day',\n",
    "            'water_potential_fruit': 'day',\n",
    "            'flux_xylem_phloem': 'day',\n",
    "            'sucrose': 'day'\n",
    "        }\n",
    "    }\n",
    ")"
   ]
  },
  {
   "cell_type": "code",
   "execution_count": null,
   "id": "926adf6b-ad25-4b86-904c-17f745e0bb20",
   "metadata": {},
   "outputs": [],
   "source": [
    "ds_out = vmlab.run(setup, fruit_model, geometry=True)"
   ]
  },
  {
   "cell_type": "code",
   "execution_count": null,
   "id": "480d1780-9145-4740-9eb2-fd9af256dccc",
   "metadata": {
    "jupyter": {
     "outputs_hidden": true
    },
    "tags": []
   },
   "outputs": [],
   "source": [
    "g = ig.Graph.Adjacency([row.tolist() for row in ds_out.topology__adjacency[-1].data.astype(np.int64)])\n",
    "layout = g.layout_reingold_tilford(root=0.)\n",
    "layout.rotate(-180)\n",
    "ig.plot(g, layout=layout, bbox=(600, 300), **{\n",
    "    'vertex_size': 1,\n",
    "    'vertex_label_size': 10,\n",
    "    'edge_arrow_width': 0.1,\n",
    "    'vertex_label': [\n",
    "        f'GU{idx}\\nF:{int(ds_out.harvest__nb_fruit_harvested.data[idx])}\\nL:{int(ds_out.growth__nb_leaf.data[idx])}' for idx in g.vs.indices\n",
    "    ]\n",
    "})"
   ]
  },
  {
   "cell_type": "code",
   "execution_count": null,
   "id": "3926ae8a-1bae-4f8c-8404-e16424e42ab9",
   "metadata": {
    "tags": []
   },
   "outputs": [],
   "source": [
    "ds_out.carbon_allocation__DM_fleshpeel.plot(col='GU', col_wrap=6)"
   ]
  },
  {
   "cell_type": "code",
   "execution_count": null,
   "id": "611fbd5c-222b-47ca-963a-a7c785f3b9fb",
   "metadata": {},
   "outputs": [],
   "source": [
    "ds_out.fruit_quality__DM_flesh.plot(col='GU', col_wrap=6)"
   ]
  },
  {
   "cell_type": "code",
   "execution_count": null,
   "id": "6110db59-986b-4be1-85f7-afad9db083c1",
   "metadata": {},
   "outputs": [],
   "source": [
    "ds_out.fruit_quality__FM_fruit.plot(col='GU', col_wrap=6)"
   ]
  },
  {
   "cell_type": "code",
   "execution_count": null,
   "id": "73dec5c6-c07c-4e68-a824-6e8b835f15b2",
   "metadata": {},
   "outputs": [],
   "source": [
    "ds_out.fruit_quality__W_fleshpeel.plot(col='GU', col_wrap=6)"
   ]
  },
  {
   "cell_type": "code",
   "execution_count": null,
   "id": "db5cbb2c-67de-42a8-a993-5519e74294ff",
   "metadata": {},
   "outputs": [],
   "source": [
    "ds_out.fruit_quality__flux_xylem_phloem.plot(col='GU', col_wrap=6)"
   ]
  },
  {
   "cell_type": "code",
   "execution_count": null,
   "id": "85fe84af-962c-48c2-8529-8106235ee759",
   "metadata": {},
   "outputs": [],
   "source": [
    "ds_out.fruit_quality__turgor_pressure_fruit.plot(col='GU', col_wrap=6)"
   ]
  },
  {
   "cell_type": "code",
   "execution_count": null,
   "id": "4caf7c1d-7b3b-446a-82fe-d48ecebed404",
   "metadata": {},
   "outputs": [],
   "source": [
    "ds_out.fruit_quality__transpiration_fruit.plot(col='GU', col_wrap=6)"
   ]
  },
  {
   "cell_type": "code",
   "execution_count": null,
   "id": "7ff90301-9697-4551-b3fa-583d634666c9",
   "metadata": {},
   "outputs": [],
   "source": [
    "ds_out.environment__TM_day.sel({'day': slice('2002-11-01', '2003-05-01')}).plot(col_wrap=6)"
   ]
  },
  {
   "cell_type": "code",
   "execution_count": null,
   "id": "a4cea3ae-5a35-4a43-a1eb-c6a99b06066d",
   "metadata": {},
   "outputs": [],
   "source": [
    "ds_out.environment__RH_day.sel({'day': slice('2002-11-01', '2003-05-01')}).plot(col_wrap=6)"
   ]
  },
  {
   "cell_type": "code",
   "execution_count": null,
   "id": "8017cbb1-7b2a-4696-b7bc-ae382e3877cf",
   "metadata": {},
   "outputs": [],
   "source": []
  }
 ],
 "metadata": {
  "kernelspec": {
   "display_name": "Python 3",
   "language": "python",
   "name": "python3"
  },
  "language_info": {
   "codemirror_mode": {
    "name": "ipython",
    "version": 3
   },
   "file_extension": ".py",
   "mimetype": "text/x-python",
   "name": "python",
   "nbconvert_exporter": "python",
   "pygments_lexer": "ipython3",
   "version": "3.8.9"
  },
  "widgets": {
   "application/vnd.jupyter.widget-state+json": {
    "state": {
     "037f1badc4e1488aaa3bb7a4bd7ae5e2": {
      "model_module": "@jupyter-widgets/base",
      "model_module_version": "1.2.0",
      "model_name": "LayoutModel",
      "state": {}
     },
     "0694422847344f2ba2dcee3b9af7538f": {
      "model_module": "pgljupyter",
      "model_module_version": "^1.0.5",
      "model_name": "SceneWidgetModel",
      "state": {
       "_model_module_version": "^1.0.5",
       "_view_module_version": "^1.0.5",
       "axes_helper": false,
       "layout": "IPY_MODEL_bbd854c017c34b5081c7eb3a8f7e7d68",
       "light_helper": false,
       "plane": true,
       "size_display": [
        400,
        400
       ],
       "size_world": 2.5
      }
     },
     "06de8c74202e46f8b0eefc721ba8cb94": {
      "model_module": "@jupyter-widgets/controls",
      "model_module_version": "1.5.0",
      "model_name": "HBoxModel",
      "state": {
       "children": [
        "IPY_MODEL_3c7c8588acb44967998f01521618e407",
        "IPY_MODEL_feae2ced50d848c59548486f4bb67d6d",
        "IPY_MODEL_b94c8d0102644f69b59b1cc2e9bb5703"
       ],
       "layout": "IPY_MODEL_23364e0202dd4327af96c16ce5672927"
      }
     },
     "0a5eb6d870924fa5aee31665087f92f8": {
      "model_module": "@jupyter-widgets/controls",
      "model_module_version": "1.5.0",
      "model_name": "HBoxModel",
      "state": {
       "children": [
        "IPY_MODEL_21ebe30450c74e0f9ec14835a7bfc9d2",
        "IPY_MODEL_73c3a272b4134e79ae82ca26d3cbb68a",
        "IPY_MODEL_1f12c70b5d3c492db6300b2294921b14"
       ],
       "layout": "IPY_MODEL_2d4f13ecf1074bb6b2c10602c44da535"
      }
     },
     "118dd3653473493c88453ad898f8decb": {
      "model_module": "@jupyter-widgets/base",
      "model_module_version": "1.2.0",
      "model_name": "LayoutModel",
      "state": {}
     },
     "1204b1729a8b421aa852601646ab5bc8": {
      "model_module": "@jupyter-widgets/base",
      "model_module_version": "1.2.0",
      "model_name": "LayoutModel",
      "state": {}
     },
     "1247cf779a5f437ea8d59f3ddd8a7221": {
      "model_module": "@jupyter-widgets/controls",
      "model_module_version": "1.5.0",
      "model_name": "FloatProgressModel",
      "state": {
       "bar_style": "danger",
       "layout": "IPY_MODEL_1204b1729a8b421aa852601646ab5bc8",
       "max": 367,
       "style": "IPY_MODEL_954cfd9e0b33429e9034ef8746b7322a",
       "value": 2
      }
     },
     "132f083421704c94a77e08b9b2f0a805": {
      "model_module": "@jupyter-widgets/controls",
      "model_module_version": "1.5.0",
      "model_name": "ProgressStyleModel",
      "state": {
       "description_width": ""
      }
     },
     "166afa95e37f474c971ad410c3e43d9b": {
      "model_module": "@jupyter-widgets/base",
      "model_module_version": "1.2.0",
      "model_name": "LayoutModel",
      "state": {}
     },
     "199010e2466f4aca8b28c8e7411c88fb": {
      "model_module": "@jupyter-widgets/base",
      "model_module_version": "1.2.0",
      "model_name": "LayoutModel",
      "state": {}
     },
     "1b216ced756640cdbce2d2724241d099": {
      "model_module": "@jupyter-widgets/controls",
      "model_module_version": "1.5.0",
      "model_name": "DescriptionStyleModel",
      "state": {
       "description_width": ""
      }
     },
     "1bf8d34e106c4778bc3c8e3f5a08924a": {
      "model_module": "@jupyter-widgets/base",
      "model_module_version": "1.2.0",
      "model_name": "LayoutModel",
      "state": {}
     },
     "1ec24ec6314644cc98f3ed5ce2f9664a": {
      "model_module": "@jupyter-widgets/base",
      "model_module_version": "1.2.0",
      "model_name": "LayoutModel",
      "state": {}
     },
     "1f12c70b5d3c492db6300b2294921b14": {
      "model_module": "@jupyter-widgets/controls",
      "model_module_version": "1.5.0",
      "model_name": "HTMLModel",
      "state": {
       "layout": "IPY_MODEL_037f1badc4e1488aaa3bb7a4bd7ae5e2",
       "style": "IPY_MODEL_2c65c77c42cb4ec8a1b5a2d357d794ab",
       "value": " 100% | Simulation finished in 00:11 "
      }
     },
     "1fabbfb330fc41f0ba3430c9fee37d8d": {
      "model_module": "@jupyter-widgets/base",
      "model_module_version": "1.2.0",
      "model_name": "LayoutModel",
      "state": {}
     },
     "205f4eb2ca164e33a51994b0c92f1270": {
      "model_module": "@jupyter-widgets/base",
      "model_module_version": "1.2.0",
      "model_name": "LayoutModel",
      "state": {}
     },
     "20ec51159f604a23bf4dcdbdb0e39ca9": {
      "model_module": "@jupyter-widgets/controls",
      "model_module_version": "1.5.0",
      "model_name": "DescriptionStyleModel",
      "state": {
       "description_width": ""
      }
     },
     "21ebe30450c74e0f9ec14835a7bfc9d2": {
      "model_module": "@jupyter-widgets/controls",
      "model_module_version": "1.5.0",
      "model_name": "HTMLModel",
      "state": {
       "layout": "IPY_MODEL_5cd46d901e4941f3b7ea1bf2196bfc53",
       "style": "IPY_MODEL_dc579a40a79f42228c140ed67a2661ff"
      }
     },
     "23364e0202dd4327af96c16ce5672927": {
      "model_module": "@jupyter-widgets/base",
      "model_module_version": "1.2.0",
      "model_name": "LayoutModel",
      "state": {}
     },
     "24a4b12763b34132b52abaa81fedb31b": {
      "model_module": "@jupyter-widgets/base",
      "model_module_version": "1.2.0",
      "model_name": "LayoutModel",
      "state": {}
     },
     "2ba1dbbc2bb24d3a9ff8f96f8db82abd": {
      "model_module": "@jupyter-widgets/base",
      "model_module_version": "1.2.0",
      "model_name": "LayoutModel",
      "state": {}
     },
     "2c65c77c42cb4ec8a1b5a2d357d794ab": {
      "model_module": "@jupyter-widgets/controls",
      "model_module_version": "1.5.0",
      "model_name": "DescriptionStyleModel",
      "state": {
       "description_width": ""
      }
     },
     "2d4f13ecf1074bb6b2c10602c44da535": {
      "model_module": "@jupyter-widgets/base",
      "model_module_version": "1.2.0",
      "model_name": "LayoutModel",
      "state": {}
     },
     "2dac9221e904499a94eb3c544b3a8ba8": {
      "model_module": "@jupyter-widgets/base",
      "model_module_version": "1.2.0",
      "model_name": "LayoutModel",
      "state": {}
     },
     "2dc99931cbfc4503a219b2ad76932417": {
      "model_module": "@jupyter-widgets/base",
      "model_module_version": "1.2.0",
      "model_name": "LayoutModel",
      "state": {}
     },
     "3c7c8588acb44967998f01521618e407": {
      "model_module": "@jupyter-widgets/controls",
      "model_module_version": "1.5.0",
      "model_name": "HTMLModel",
      "state": {
       "layout": "IPY_MODEL_c304ea7677ab4c9288a5440eecbf0e04",
       "style": "IPY_MODEL_20ec51159f604a23bf4dcdbdb0e39ca9"
      }
     },
     "3cdc2f082bc34cc8b5ee12ac984333d8": {
      "model_module": "@jupyter-widgets/controls",
      "model_module_version": "1.5.0",
      "model_name": "FloatProgressModel",
      "state": {
       "bar_style": "success",
       "layout": "IPY_MODEL_2dc99931cbfc4503a219b2ad76932417",
       "max": 367,
       "style": "IPY_MODEL_6964259e73eb4e53b32708ce7da6fabc",
       "value": 367
      }
     },
     "3f3265b587dc468ab04412f08e18e967": {
      "model_module": "@jupyter-widgets/controls",
      "model_module_version": "1.5.0",
      "model_name": "DescriptionStyleModel",
      "state": {
       "description_width": ""
      }
     },
     "46cc09be9b6d4a4ab6f4d6d16c952814": {
      "model_module": "pgljupyter",
      "model_module_version": "^1.0.5",
      "model_name": "SceneWidgetModel",
      "state": {
       "_model_module_version": "^1.0.5",
       "_view_module_version": "^1.0.5",
       "axes_helper": false,
       "layout": "IPY_MODEL_59fb72a1761841868f39509e4d6af607",
       "light_helper": false,
       "plane": true,
       "size_display": [
        400,
        400
       ],
       "size_world": 2.5
      }
     },
     "4b3c17f8bf7e458f94a7db02ceec5064": {
      "model_module": "@jupyter-widgets/base",
      "model_module_version": "1.2.0",
      "model_name": "LayoutModel",
      "state": {}
     },
     "4b6e50d4aa5f485faf7437ef0a49e2a5": {
      "model_module": "@jupyter-widgets/controls",
      "model_module_version": "1.5.0",
      "model_name": "HBoxModel",
      "state": {
       "children": [
        "IPY_MODEL_85c302ea94a847d690ed31b246cd4914",
        "IPY_MODEL_1247cf779a5f437ea8d59f3ddd8a7221",
        "IPY_MODEL_bf02a0c96db9438495d0e667393ff123"
       ],
       "layout": "IPY_MODEL_dc087cdd8aa144048ea53de0c6983388"
      }
     },
     "4c29147398f54f318a006995552375aa": {
      "model_module": "@jupyter-widgets/base",
      "model_module_version": "1.2.0",
      "model_name": "LayoutModel",
      "state": {}
     },
     "5128996528a04a3db94fd273c56596da": {
      "model_module": "@jupyter-widgets/controls",
      "model_module_version": "1.5.0",
      "model_name": "HTMLModel",
      "state": {
       "layout": "IPY_MODEL_e1d9751ab9c8402896b157e0f3a31bad",
       "style": "IPY_MODEL_3f3265b587dc468ab04412f08e18e967",
       "value": "   1% | Simulation finished in 00:06 "
      }
     },
     "53f0e6be2f434f09a48966c300ea2c46": {
      "model_module": "@jupyter-widgets/controls",
      "model_module_version": "1.5.0",
      "model_name": "DescriptionStyleModel",
      "state": {
       "description_width": ""
      }
     },
     "561677d855b94681a6cc33739392c3ea": {
      "model_module": "@jupyter-widgets/controls",
      "model_module_version": "1.5.0",
      "model_name": "HBoxModel",
      "state": {
       "children": [
        "IPY_MODEL_c67ce924513a4b659bc1b703bb11dfd7",
        "IPY_MODEL_fbdc3a3dabbc4992975d387beee4a123",
        "IPY_MODEL_7f12977bca7d47358febca5223d43663"
       ],
       "layout": "IPY_MODEL_1ec24ec6314644cc98f3ed5ce2f9664a"
      }
     },
     "59fb72a1761841868f39509e4d6af607": {
      "model_module": "@jupyter-widgets/base",
      "model_module_version": "1.2.0",
      "model_name": "LayoutModel",
      "state": {}
     },
     "5a4f62e0d032433d91ae46362e5b091d": {
      "model_module": "@jupyter-widgets/controls",
      "model_module_version": "1.5.0",
      "model_name": "HBoxModel",
      "state": {
       "children": [
        "IPY_MODEL_6c596d94b6b0482ab0e16522aa4beae9",
        "IPY_MODEL_f75f571b766b4d04a1ca3f7813a35994",
        "IPY_MODEL_e7f4617326af409db9837a74f74ec755"
       ],
       "layout": "IPY_MODEL_205f4eb2ca164e33a51994b0c92f1270"
      }
     },
     "5a5c60c787e54a68ac1b9fe1c6160b3c": {
      "model_module": "@jupyter-widgets/base",
      "model_module_version": "1.2.0",
      "model_name": "LayoutModel",
      "state": {}
     },
     "5cd46d901e4941f3b7ea1bf2196bfc53": {
      "model_module": "@jupyter-widgets/base",
      "model_module_version": "1.2.0",
      "model_name": "LayoutModel",
      "state": {}
     },
     "66f88ab47f6244f2bc6812eced36023c": {
      "model_module": "@jupyter-widgets/controls",
      "model_module_version": "1.5.0",
      "model_name": "HTMLModel",
      "state": {
       "layout": "IPY_MODEL_24a4b12763b34132b52abaa81fedb31b",
       "style": "IPY_MODEL_86a29f71f363419b9a8d0594a9c9bc94"
      }
     },
     "6964259e73eb4e53b32708ce7da6fabc": {
      "model_module": "@jupyter-widgets/controls",
      "model_module_version": "1.5.0",
      "model_name": "ProgressStyleModel",
      "state": {
       "description_width": ""
      }
     },
     "6a936f2d6bfd4a7c8d7ce8ec57c0b31a": {
      "model_module": "@jupyter-widgets/controls",
      "model_module_version": "1.5.0",
      "model_name": "DescriptionStyleModel",
      "state": {
       "description_width": ""
      }
     },
     "6c596d94b6b0482ab0e16522aa4beae9": {
      "model_module": "@jupyter-widgets/controls",
      "model_module_version": "1.5.0",
      "model_name": "HTMLModel",
      "state": {
       "layout": "IPY_MODEL_b8ed2eab61e54f5faf4f9002246bacfc",
       "style": "IPY_MODEL_53f0e6be2f434f09a48966c300ea2c46"
      }
     },
     "6f2784dbf8e8494892bae698c234ad7e": {
      "model_module": "@jupyter-widgets/base",
      "model_module_version": "1.2.0",
      "model_name": "LayoutModel",
      "state": {}
     },
     "722d70a2a578414cb5a61610150828f3": {
      "model_module": "@jupyter-widgets/controls",
      "model_module_version": "1.5.0",
      "model_name": "ProgressStyleModel",
      "state": {
       "description_width": ""
      }
     },
     "7263b2ae4be741c1bfae9aa18b33f7f5": {
      "model_module": "pgljupyter",
      "model_module_version": "^1.0.5",
      "model_name": "SceneWidgetModel",
      "state": {
       "_model_module_version": "^1.0.5",
       "_view_module_version": "^1.0.5",
       "axes_helper": false,
       "layout": "IPY_MODEL_4b3c17f8bf7e458f94a7db02ceec5064",
       "light_helper": false,
       "plane": true,
       "size_display": [
        400,
        400
       ],
       "size_world": 2.5
      }
     },
     "73c3a272b4134e79ae82ca26d3cbb68a": {
      "model_module": "@jupyter-widgets/controls",
      "model_module_version": "1.5.0",
      "model_name": "FloatProgressModel",
      "state": {
       "bar_style": "success",
       "layout": "IPY_MODEL_8fc5205f5abb4ea3a69ecaad4c95eb9a",
       "max": 367,
       "style": "IPY_MODEL_132f083421704c94a77e08b9b2f0a805",
       "value": 367
      }
     },
     "74829aa364554740b7fff22490faa97f": {
      "model_module": "@jupyter-widgets/controls",
      "model_module_version": "1.5.0",
      "model_name": "ProgressStyleModel",
      "state": {
       "description_width": ""
      }
     },
     "74ad4709aa1540dcbe0bee65329f1625": {
      "model_module": "@jupyter-widgets/base",
      "model_module_version": "1.2.0",
      "model_name": "LayoutModel",
      "state": {}
     },
     "75bbdefedc5049c9b34991a1fa82beea": {
      "model_module": "@jupyter-widgets/controls",
      "model_module_version": "1.5.0",
      "model_name": "DescriptionStyleModel",
      "state": {
       "description_width": ""
      }
     },
     "79be29c5dbcc4419aa3baeb77fa14f8d": {
      "model_module": "@jupyter-widgets/controls",
      "model_module_version": "1.5.0",
      "model_name": "DescriptionStyleModel",
      "state": {
       "description_width": ""
      }
     },
     "7f12977bca7d47358febca5223d43663": {
      "model_module": "@jupyter-widgets/controls",
      "model_module_version": "1.5.0",
      "model_name": "HTMLModel",
      "state": {
       "layout": "IPY_MODEL_6f2784dbf8e8494892bae698c234ad7e",
       "style": "IPY_MODEL_75bbdefedc5049c9b34991a1fa82beea",
       "value": " 100% | Simulation finished in 00:10 "
      }
     },
     "82e8af5704c74a369c03f6537d9092a5": {
      "model_module": "pgljupyter",
      "model_module_version": "^1.0.5",
      "model_name": "SceneWidgetModel",
      "state": {
       "_model_module_version": "^1.0.5",
       "_view_module_version": "^1.0.5",
       "axes_helper": false,
       "layout": "IPY_MODEL_8fadcf2e9c4f4e2eb411384695bbbd44",
       "light_helper": false,
       "plane": true,
       "size_display": [
        400,
        400
       ],
       "size_world": 2.5
      }
     },
     "85c302ea94a847d690ed31b246cd4914": {
      "model_module": "@jupyter-widgets/controls",
      "model_module_version": "1.5.0",
      "model_name": "HTMLModel",
      "state": {
       "layout": "IPY_MODEL_d839d41b30b545868b83c045c90c9efa",
       "style": "IPY_MODEL_af26de64fe40423fa99a07fec3470b7e"
      }
     },
     "85cd9e965b0446648f94dd31ee04e175": {
      "model_module": "@jupyter-widgets/base",
      "model_module_version": "1.2.0",
      "model_name": "LayoutModel",
      "state": {}
     },
     "864ad5d3b74d4e759fa09684484d8425": {
      "model_module": "@jupyter-widgets/controls",
      "model_module_version": "1.5.0",
      "model_name": "ProgressStyleModel",
      "state": {
       "description_width": ""
      }
     },
     "86a29f71f363419b9a8d0594a9c9bc94": {
      "model_module": "@jupyter-widgets/controls",
      "model_module_version": "1.5.0",
      "model_name": "DescriptionStyleModel",
      "state": {
       "description_width": ""
      }
     },
     "8e4fa775f68041fb8dbb5db7b90a1361": {
      "model_module": "@jupyter-widgets/base",
      "model_module_version": "1.2.0",
      "model_name": "LayoutModel",
      "state": {}
     },
     "8fadcf2e9c4f4e2eb411384695bbbd44": {
      "model_module": "@jupyter-widgets/base",
      "model_module_version": "1.2.0",
      "model_name": "LayoutModel",
      "state": {}
     },
     "8fc5205f5abb4ea3a69ecaad4c95eb9a": {
      "model_module": "@jupyter-widgets/base",
      "model_module_version": "1.2.0",
      "model_name": "LayoutModel",
      "state": {}
     },
     "924ca642f73d41ceb97b5bb0705db3d5": {
      "model_module": "@jupyter-widgets/controls",
      "model_module_version": "1.5.0",
      "model_name": "ProgressStyleModel",
      "state": {
       "description_width": ""
      }
     },
     "954cfd9e0b33429e9034ef8746b7322a": {
      "model_module": "@jupyter-widgets/controls",
      "model_module_version": "1.5.0",
      "model_name": "ProgressStyleModel",
      "state": {
       "description_width": ""
      }
     },
     "960624487f524ed192edeaa13c79ea61": {
      "model_module": "@jupyter-widgets/controls",
      "model_module_version": "1.5.0",
      "model_name": "FloatProgressModel",
      "state": {
       "bar_style": "danger",
       "layout": "IPY_MODEL_1bf8d34e106c4778bc3c8e3f5a08924a",
       "max": 367,
       "style": "IPY_MODEL_74829aa364554740b7fff22490faa97f",
       "value": 2
      }
     },
     "965526973f684f19b1a5315bfa069a3b": {
      "model_module": "@jupyter-widgets/base",
      "model_module_version": "1.2.0",
      "model_name": "LayoutModel",
      "state": {}
     },
     "991252a0eb364784b15f250e4d8d7fa9": {
      "model_module": "@jupyter-widgets/controls",
      "model_module_version": "1.5.0",
      "model_name": "DescriptionStyleModel",
      "state": {
       "description_width": ""
      }
     },
     "99aeff98ddcf4d689af40c6fab2b9074": {
      "model_module": "@jupyter-widgets/controls",
      "model_module_version": "1.5.0",
      "model_name": "ProgressStyleModel",
      "state": {
       "description_width": ""
      }
     },
     "9f9193dde77d4987a29ea343f724f974": {
      "model_module": "pgljupyter",
      "model_module_version": "^1.0.5",
      "model_name": "SceneWidgetModel",
      "state": {
       "_model_module_version": "^1.0.5",
       "_view_module_version": "^1.0.5",
       "axes_helper": false,
       "layout": "IPY_MODEL_c9266434fcee4f18912e33aad5b5016a",
       "light_helper": false,
       "plane": true,
       "size_display": [
        400,
        400
       ],
       "size_world": 2.5
      }
     },
     "a01f2c6e0dd840adb95d7b784b3b9cbd": {
      "model_module": "@jupyter-widgets/base",
      "model_module_version": "1.2.0",
      "model_name": "LayoutModel",
      "state": {}
     },
     "a236ab70eee34141b1bbedd92d96cfc6": {
      "model_module": "@jupyter-widgets/base",
      "model_module_version": "1.2.0",
      "model_name": "LayoutModel",
      "state": {}
     },
     "a4cb1675a3a64062b2a7e55767eb63bc": {
      "model_module": "pgljupyter",
      "model_module_version": "^1.0.5",
      "model_name": "SceneWidgetModel",
      "state": {
       "_model_module_version": "^1.0.5",
       "_view_module_version": "^1.0.5",
       "axes_helper": false,
       "layout": "IPY_MODEL_4c29147398f54f318a006995552375aa",
       "light_helper": false,
       "plane": true,
       "size_display": [
        400,
        400
       ],
       "size_world": 2.5
      }
     },
     "ad1c3d16438f48b096ef51d89bdc9c2d": {
      "buffers": [
       {
        "data": "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",
        "encoding": "base64",
        "path": [
         "scenes",
         0,
         "data"
        ]
       }
      ],
      "model_module": "pgljupyter",
      "model_module_version": "^1.0.5",
      "model_name": "SceneWidgetModel",
      "state": {
       "_model_module_version": "^1.0.5",
       "_view_module_version": "^1.0.5",
       "axes_helper": false,
       "layout": "IPY_MODEL_8e4fa775f68041fb8dbb5db7b90a1361",
       "light_helper": false,
       "plane": true,
       "scenes": [
        {
         "id": "y9bTWsLgnM30rGjlW769K2jQgRuLXr9DbWSb2NJU4b9bvBJBRNmiGbsQEXIiuqBj0ZDEt3hF333aVFNM5E4tKlFMhpWzWX9yLPKk",
         "position": [
          0,
          0,
          0
         ],
         "scale": 0.01,
         "scene": "<openalea.plantgl.scenegraph._pglsg.Scene object at 0x1513b5b20>"
        }
       ],
       "size_display": [
        400,
        400
       ],
       "size_world": 2.5
      }
     },
     "af26de64fe40423fa99a07fec3470b7e": {
      "model_module": "@jupyter-widgets/controls",
      "model_module_version": "1.5.0",
      "model_name": "DescriptionStyleModel",
      "state": {
       "description_width": ""
      }
     },
     "b036009ca8dd4a9c95985b5c5f0e19b9": {
      "model_module": "@jupyter-widgets/controls",
      "model_module_version": "1.5.0",
      "model_name": "HBoxModel",
      "state": {
       "children": [
        "IPY_MODEL_dad1258c6c454c25a335868c4d5165a0",
        "IPY_MODEL_f15268f65d68429d94fd4b8fdefdec89",
        "IPY_MODEL_e3a0c166660646bb83f456859451c8dd"
       ],
       "layout": "IPY_MODEL_118dd3653473493c88453ad898f8decb"
      }
     },
     "b0eda51581d74625a4a8918fe7f7a178": {
      "model_module": "@jupyter-widgets/base",
      "model_module_version": "1.2.0",
      "model_name": "LayoutModel",
      "state": {}
     },
     "b67df321010d471988221fa3d4a4be89": {
      "model_module": "pgljupyter",
      "model_module_version": "^1.0.5",
      "model_name": "SceneWidgetModel",
      "state": {
       "_model_module_version": "^1.0.5",
       "_view_module_version": "^1.0.5",
       "axes_helper": false,
       "layout": "IPY_MODEL_a236ab70eee34141b1bbedd92d96cfc6",
       "light_helper": false,
       "plane": true,
       "size_display": [
        400,
        400
       ],
       "size_world": 2.5
      }
     },
     "b7495ee91c134021a9e33e46d6de9f54": {
      "model_module": "@jupyter-widgets/base",
      "model_module_version": "1.2.0",
      "model_name": "LayoutModel",
      "state": {}
     },
     "b8ed2eab61e54f5faf4f9002246bacfc": {
      "model_module": "@jupyter-widgets/base",
      "model_module_version": "1.2.0",
      "model_name": "LayoutModel",
      "state": {}
     },
     "b94c8d0102644f69b59b1cc2e9bb5703": {
      "model_module": "@jupyter-widgets/controls",
      "model_module_version": "1.5.0",
      "model_name": "HTMLModel",
      "state": {
       "layout": "IPY_MODEL_e7b37faf45cd4823a149f158cfb106a4",
       "style": "IPY_MODEL_1b216ced756640cdbce2d2724241d099",
       "value": "   1% | Simulation finished in 00:06 "
      }
     },
     "bbd854c017c34b5081c7eb3a8f7e7d68": {
      "model_module": "@jupyter-widgets/base",
      "model_module_version": "1.2.0",
      "model_name": "LayoutModel",
      "state": {}
     },
     "bf02a0c96db9438495d0e667393ff123": {
      "model_module": "@jupyter-widgets/controls",
      "model_module_version": "1.5.0",
      "model_name": "HTMLModel",
      "state": {
       "layout": "IPY_MODEL_85cd9e965b0446648f94dd31ee04e175",
       "style": "IPY_MODEL_991252a0eb364784b15f250e4d8d7fa9",
       "value": "   1% | Simulation finished in 00:06 "
      }
     },
     "c304ea7677ab4c9288a5440eecbf0e04": {
      "model_module": "@jupyter-widgets/base",
      "model_module_version": "1.2.0",
      "model_name": "LayoutModel",
      "state": {}
     },
     "c67ce924513a4b659bc1b703bb11dfd7": {
      "model_module": "@jupyter-widgets/controls",
      "model_module_version": "1.5.0",
      "model_name": "HTMLModel",
      "state": {
       "layout": "IPY_MODEL_a01f2c6e0dd840adb95d7b784b3b9cbd",
       "style": "IPY_MODEL_6a936f2d6bfd4a7c8d7ce8ec57c0b31a"
      }
     },
     "c9266434fcee4f18912e33aad5b5016a": {
      "model_module": "@jupyter-widgets/base",
      "model_module_version": "1.2.0",
      "model_name": "LayoutModel",
      "state": {}
     },
     "d2157407eabd4fffb79a3f7de3493221": {
      "model_module": "@jupyter-widgets/controls",
      "model_module_version": "1.5.0",
      "model_name": "HTMLModel",
      "state": {
       "layout": "IPY_MODEL_199010e2466f4aca8b28c8e7411c88fb",
       "style": "IPY_MODEL_e843fec007c744fdb61006bf1dd14e98",
       "value": " 100% | Simulation finished in 00:12 "
      }
     },
     "d3bb0ad78fd24f0cb1be1c20d06b534e": {
      "model_module": "@jupyter-widgets/controls",
      "model_module_version": "1.5.0",
      "model_name": "DescriptionStyleModel",
      "state": {
       "description_width": ""
      }
     },
     "d839d41b30b545868b83c045c90c9efa": {
      "model_module": "@jupyter-widgets/base",
      "model_module_version": "1.2.0",
      "model_name": "LayoutModel",
      "state": {}
     },
     "dad1258c6c454c25a335868c4d5165a0": {
      "model_module": "@jupyter-widgets/controls",
      "model_module_version": "1.5.0",
      "model_name": "HTMLModel",
      "state": {
       "layout": "IPY_MODEL_b0eda51581d74625a4a8918fe7f7a178",
       "style": "IPY_MODEL_eab402b1f14f4308940c028bd30909e3"
      }
     },
     "dc087cdd8aa144048ea53de0c6983388": {
      "model_module": "@jupyter-widgets/base",
      "model_module_version": "1.2.0",
      "model_name": "LayoutModel",
      "state": {}
     },
     "dc579a40a79f42228c140ed67a2661ff": {
      "model_module": "@jupyter-widgets/controls",
      "model_module_version": "1.5.0",
      "model_name": "DescriptionStyleModel",
      "state": {
       "description_width": ""
      }
     },
     "df23f09baf3e43f294a06ea195efb728": {
      "model_module": "@jupyter-widgets/controls",
      "model_module_version": "1.5.0",
      "model_name": "DescriptionStyleModel",
      "state": {
       "description_width": ""
      }
     },
     "e0b1c7d85b324f5ca4008bb451188f99": {
      "model_module": "@jupyter-widgets/controls",
      "model_module_version": "1.5.0",
      "model_name": "HBoxModel",
      "state": {
       "children": [
        "IPY_MODEL_66f88ab47f6244f2bc6812eced36023c",
        "IPY_MODEL_960624487f524ed192edeaa13c79ea61",
        "IPY_MODEL_5128996528a04a3db94fd273c56596da"
       ],
       "layout": "IPY_MODEL_5a5c60c787e54a68ac1b9fe1c6160b3c"
      }
     },
     "e1d9751ab9c8402896b157e0f3a31bad": {
      "model_module": "@jupyter-widgets/base",
      "model_module_version": "1.2.0",
      "model_name": "LayoutModel",
      "state": {}
     },
     "e2835bea292b4883bb609b589f3c8a1d": {
      "model_module": "@jupyter-widgets/base",
      "model_module_version": "1.2.0",
      "model_name": "LayoutModel",
      "state": {}
     },
     "e3a0c166660646bb83f456859451c8dd": {
      "model_module": "@jupyter-widgets/controls",
      "model_module_version": "1.5.0",
      "model_name": "HTMLModel",
      "state": {
       "layout": "IPY_MODEL_e2835bea292b4883bb609b589f3c8a1d",
       "style": "IPY_MODEL_d3bb0ad78fd24f0cb1be1c20d06b534e",
       "value": " 100% | Simulation finished in 00:10 "
      }
     },
     "e7b37faf45cd4823a149f158cfb106a4": {
      "model_module": "@jupyter-widgets/base",
      "model_module_version": "1.2.0",
      "model_name": "LayoutModel",
      "state": {}
     },
     "e7f4617326af409db9837a74f74ec755": {
      "model_module": "@jupyter-widgets/controls",
      "model_module_version": "1.5.0",
      "model_name": "HTMLModel",
      "state": {
       "layout": "IPY_MODEL_b7495ee91c134021a9e33e46d6de9f54",
       "style": "IPY_MODEL_df23f09baf3e43f294a06ea195efb728",
       "value": " 100% | Simulation finished in 00:10 "
      }
     },
     "e843fec007c744fdb61006bf1dd14e98": {
      "model_module": "@jupyter-widgets/controls",
      "model_module_version": "1.5.0",
      "model_name": "DescriptionStyleModel",
      "state": {
       "description_width": ""
      }
     },
     "eab402b1f14f4308940c028bd30909e3": {
      "model_module": "@jupyter-widgets/controls",
      "model_module_version": "1.5.0",
      "model_name": "DescriptionStyleModel",
      "state": {
       "description_width": ""
      }
     },
     "ee8736b6a36847c0bb1447abcf0eec39": {
      "model_module": "@jupyter-widgets/controls",
      "model_module_version": "1.5.0",
      "model_name": "HBoxModel",
      "state": {
       "children": [
        "IPY_MODEL_f9587dc0b83344f89ea938ca5badc4fe",
        "IPY_MODEL_3cdc2f082bc34cc8b5ee12ac984333d8",
        "IPY_MODEL_d2157407eabd4fffb79a3f7de3493221"
       ],
       "layout": "IPY_MODEL_166afa95e37f474c971ad410c3e43d9b"
      }
     },
     "f15268f65d68429d94fd4b8fdefdec89": {
      "model_module": "@jupyter-widgets/controls",
      "model_module_version": "1.5.0",
      "model_name": "FloatProgressModel",
      "state": {
       "bar_style": "success",
       "layout": "IPY_MODEL_74ad4709aa1540dcbe0bee65329f1625",
       "max": 367,
       "style": "IPY_MODEL_924ca642f73d41ceb97b5bb0705db3d5",
       "value": 367
      }
     },
     "f75f571b766b4d04a1ca3f7813a35994": {
      "model_module": "@jupyter-widgets/controls",
      "model_module_version": "1.5.0",
      "model_name": "FloatProgressModel",
      "state": {
       "bar_style": "success",
       "layout": "IPY_MODEL_2dac9221e904499a94eb3c544b3a8ba8",
       "max": 367,
       "style": "IPY_MODEL_99aeff98ddcf4d689af40c6fab2b9074",
       "value": 367
      }
     },
     "f9587dc0b83344f89ea938ca5badc4fe": {
      "model_module": "@jupyter-widgets/controls",
      "model_module_version": "1.5.0",
      "model_name": "HTMLModel",
      "state": {
       "layout": "IPY_MODEL_965526973f684f19b1a5315bfa069a3b",
       "style": "IPY_MODEL_79be29c5dbcc4419aa3baeb77fa14f8d"
      }
     },
     "fbdc3a3dabbc4992975d387beee4a123": {
      "model_module": "@jupyter-widgets/controls",
      "model_module_version": "1.5.0",
      "model_name": "FloatProgressModel",
      "state": {
       "bar_style": "success",
       "layout": "IPY_MODEL_1fabbfb330fc41f0ba3430c9fee37d8d",
       "max": 367,
       "style": "IPY_MODEL_722d70a2a578414cb5a61610150828f3",
       "value": 367
      }
     },
     "feae2ced50d848c59548486f4bb67d6d": {
      "model_module": "@jupyter-widgets/controls",
      "model_module_version": "1.5.0",
      "model_name": "FloatProgressModel",
      "state": {
       "bar_style": "danger",
       "layout": "IPY_MODEL_2ba1dbbc2bb24d3a9ff8f96f8db82abd",
       "max": 367,
       "style": "IPY_MODEL_864ad5d3b74d4e759fa09684484d8425",
       "value": 2
      }
     }
    },
    "version_major": 2,
    "version_minor": 0
   }
  }
 },
 "nbformat": 4,
 "nbformat_minor": 5
}
