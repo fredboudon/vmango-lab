{
 "cells": [
  {
   "cell_type": "code",
   "execution_count": null,
   "id": "6d531782-e4b6-4d56-89eb-bec688a9a2a2",
   "metadata": {},
   "outputs": [],
   "source": [
    "import numpy as np\n",
    "import pandas as pd\n",
    "import igraph as ig\n",
    "import vmlab"
   ]
  },
  {
   "cell_type": "code",
   "execution_count": null,
   "id": "bf9432fc-5995-4c7b-ba2f-565a1843b5e0",
   "metadata": {},
   "outputs": [],
   "source": [
    "from vmlab.models import fruit_model\n",
    "from vmlab.processes import harvest\n",
    "fruit_model = fruit_model.update_processes({'harvest': harvest.HarvestByQuality})\n",
    "fruit_model.visualize()"
   ]
  },
  {
   "cell_type": "code",
   "execution_count": null,
   "id": "0015f2f4-ec2a-416a-827f-5f9175280e4b",
   "metadata": {
    "tags": []
   },
   "outputs": [],
   "source": [
    "tree = pd.DataFrame({\n",
    "    'parent_id': [np.nan, 0, 1, 1],\n",
    "    'id': [0, 1, 2, 3],\n",
    "    'topology__is_apical': [1, 1, 0, 1],\n",
    "    'arch_dev__pot_flowering_date': ['NaT', 'NaT', 'NaT', '2002-09-01'],\n",
    "    'arch_dev__pot_nb_inflo': [0, 0, 0, 1],\n",
    "    'arch_dev__pot_nb_fruit': [0, 0, 0, 1],\n",
    "    'growth__radius_gu': [2, 1, 0.5, 0.5],\n",
    "    'growth__nb_leaf': [0, 10, 5, 10],\n",
    "    'appearance__final_length_gu': [20, 10, 10, 10]\n",
    "    \n",
    "})"
   ]
  },
  {
   "cell_type": "code",
   "execution_count": null,
   "id": "4d5e581b-0909-4796-a5f2-52072f263aef",
   "metadata": {},
   "outputs": [],
   "source": [
    "setup = vmlab.create_setup(\n",
    "    model=fruit_model,\n",
    "    tree=tree,\n",
    "    start_date='2002-06-01',\n",
    "    end_date='2003-06-01',\n",
    "    setup_toml='fruit_model.toml',\n",
    "    current_cycle=3,\n",
    "    input_vars={\n",
    "        'growth__leaf_senescence_enabled': False,\n",
    "        'geometry__interpretation_freq': 15\n",
    "    },\n",
    "    output_vars={\n",
    "        'topology': {\n",
    "            'adjacency': 'day'\n",
    "        },\n",
    "        'environment': {\n",
    "            'TM_day': 'day',\n",
    "            'RH_day': 'day'\n",
    "        },\n",
    "        'carbon_allocation': {\n",
    "            'DM_fruit': 'day',\n",
    "            'DM_fleshpeel': 'day'\n",
    "        },\n",
    "        'harvest': {\n",
    "            'ripeness_index': 'day',\n",
    "            'nb_fruit_harvested': None\n",
    "        },\n",
    "        'growth': {\n",
    "            'nb_leaf': None,\n",
    "        },\n",
    "        'fruit_quality': {\n",
    "            'FM_fruit': 'day',\n",
    "            'W_fleshpeel': 'day',\n",
    "            'DM_flesh': 'day',\n",
    "            'W_flesh': 'day',\n",
    "            'transpiration_fruit': 'day',\n",
    "            'osmotic_pressure_fruit': 'day',\n",
    "            'turgor_pressure_fruit': 'day',\n",
    "            'water_potential_fruit': 'day',\n",
    "            'flux_xylem_phloem': 'day',\n",
    "            'sucrose': 'day'\n",
    "        }\n",
    "    }\n",
    ")"
   ]
  },
  {
   "cell_type": "code",
   "execution_count": null,
   "id": "926adf6b-ad25-4b86-904c-17f745e0bb20",
   "metadata": {},
   "outputs": [],
   "source": [
    "ds_out = vmlab.run(setup, fruit_model, geometry=True)"
   ]
  },
  {
   "cell_type": "code",
   "execution_count": null,
   "id": "480d1780-9145-4740-9eb2-fd9af256dccc",
   "metadata": {
    "tags": []
   },
   "outputs": [],
   "source": [
    "g = ig.Graph.Adjacency([row.tolist() for row in ds_out.topology__adjacency[-1].data.astype(np.int64)])\n",
    "layout = g.layout_reingold_tilford()\n",
    "layout.rotate(-180)\n",
    "ig.plot(g, layout=layout, bbox=(600, 300), **{\n",
    "    'vertex_size': 1,\n",
    "    'vertex_label_size': 10,\n",
    "    'edge_arrow_width': 0.1,\n",
    "    'vertex_label': [\n",
    "        f'GU{idx}\\nF:{int(ds_out.harvest__nb_fruit_harvested.data[idx])}\\nL:{int(ds_out.growth__nb_leaf.data[idx])}' for idx in g.vs.indices\n",
    "    ]\n",
    "})"
   ]
  },
  {
   "cell_type": "code",
   "execution_count": null,
   "id": "3926ae8a-1bae-4f8c-8404-e16424e42ab9",
   "metadata": {
    "tags": []
   },
   "outputs": [],
   "source": [
    "ds_out.carbon_allocation__DM_fleshpeel.plot(col='GU', col_wrap=6)"
   ]
  },
  {
   "cell_type": "code",
   "execution_count": null,
   "id": "611fbd5c-222b-47ca-963a-a7c785f3b9fb",
   "metadata": {},
   "outputs": [],
   "source": [
    "ds_out.fruit_quality__DM_flesh.plot(col='GU', col_wrap=6)"
   ]
  },
  {
   "cell_type": "code",
   "execution_count": null,
   "id": "6110db59-986b-4be1-85f7-afad9db083c1",
   "metadata": {},
   "outputs": [],
   "source": [
    "ds_out.fruit_quality__FM_fruit.plot(col='GU', col_wrap=6)"
   ]
  },
  {
   "cell_type": "code",
   "execution_count": null,
   "id": "73dec5c6-c07c-4e68-a824-6e8b835f15b2",
   "metadata": {},
   "outputs": [],
   "source": [
    "ds_out.fruit_quality__W_fleshpeel.plot(col='GU', col_wrap=6)"
   ]
  },
  {
   "cell_type": "code",
   "execution_count": null,
   "id": "db5cbb2c-67de-42a8-a993-5519e74294ff",
   "metadata": {},
   "outputs": [],
   "source": [
    "ds_out.fruit_quality__flux_xylem_phloem.plot(col='GU', col_wrap=6)"
   ]
  },
  {
   "cell_type": "code",
   "execution_count": null,
   "id": "85fe84af-962c-48c2-8529-8106235ee759",
   "metadata": {},
   "outputs": [],
   "source": [
    "ds_out.fruit_quality__turgor_pressure_fruit.plot(col='GU', col_wrap=6)"
   ]
  },
  {
   "cell_type": "code",
   "execution_count": null,
   "id": "4caf7c1d-7b3b-446a-82fe-d48ecebed404",
   "metadata": {},
   "outputs": [],
   "source": [
    "ds_out.fruit_quality__transpiration_fruit.plot(col='GU', col_wrap=6)"
   ]
  },
  {
   "cell_type": "code",
   "execution_count": null,
   "id": "573ade0f-359a-4458-90fd-16d43a995d1e",
   "metadata": {},
   "outputs": [],
   "source": []
  }
 ],
 "metadata": {
  "kernelspec": {
   "display_name": "Python 3 (ipykernel)",
   "language": "python",
   "name": "python3"
  },
  "language_info": {
   "codemirror_mode": {
    "name": "ipython",
    "version": 3
   },
   "file_extension": ".py",
   "mimetype": "text/x-python",
   "name": "python",
   "nbconvert_exporter": "python",
   "pygments_lexer": "ipython3",
   "version": "3.10.13"
  },
  "widgets": {
   "application/vnd.jupyter.widget-state+json": {
    "state": {
     "22972bb23e324f9bb82883321a7bf344": {
      "model_module": "@jupyter-widgets/base",
      "model_module_version": "1.2.0",
      "model_name": "LayoutModel",
      "state": {}
     },
     "2e8e4de6b89e40bcbeab61fe34bba95a": {
      "model_module": "@jupyter-widgets/controls",
      "model_module_version": "1.5.0",
      "model_name": "DescriptionStyleModel",
      "state": {
       "description_width": ""
      }
     },
     "318de9ff4f564f74b0d38bf08c2e906d": {
      "model_module": "@jupyter-widgets/controls",
      "model_module_version": "1.5.0",
      "model_name": "DescriptionStyleModel",
      "state": {
       "description_width": ""
      }
     },
     "3d7b20366d7a48959ecefb075037acb9": {
      "model_module": "@jupyter-widgets/controls",
      "model_module_version": "1.5.0",
      "model_name": "HBoxModel",
      "state": {
       "children": [
        "IPY_MODEL_d66b0b45ac5841c1a97b6834bbdac27a",
        "IPY_MODEL_b4620818421d4d9e9d714a99cea20fb6",
        "IPY_MODEL_b02b53d86c9a43719ee549cdd66b9eaa"
       ],
       "layout": "IPY_MODEL_5e5835f68ebc44779d1ff50fe6de9e2f"
      }
     },
     "40943c8e05904e2a94c82c4e583123dc": {
      "model_module": "@jupyter-widgets/controls",
      "model_module_version": "1.5.0",
      "model_name": "ProgressStyleModel",
      "state": {
       "description_width": ""
      }
     },
     "41fbbf355eab4acc8666fb50051e868c": {
      "buffers": [
       {
        "data": "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",
        "encoding": "base64",
        "path": [
         "scenes",
         0,
         "data"
        ]
       }
      ],
      "model_module": "pgljupyter",
      "model_module_version": "^1.0.5",
      "model_name": "SceneWidgetModel",
      "state": {
       "_model_module_version": "^1.0.5",
       "_view_module_version": "^1.0.5",
       "axes_helper": false,
       "layout": "IPY_MODEL_a027a4a8ce774d46a2cfddb9e8c2d264",
       "light_helper": false,
       "plane": true,
       "scenes": [
        {
         "data": {},
         "id": "CnIrt3ReBcX979sWVpCd4Ov7VE0kEkRv2TI01rrx0kh448z5CafMwOcOCWRnQCzriQeERtF3DibMbjyltigGE8i7AN4SZYdq7Om0",
         "position": [
          0,
          0,
          0
         ],
         "scale": 0.01,
         "scene": "<openalea.plantgl.scenegraph._pglsg.Scene object at 0x7f9c6a9e11c0>"
        }
       ],
       "size_display": [
        400,
        400
       ],
       "size_world": 2.5
      }
     },
     "45a6354a77554eef9d560da368a6aa69": {
      "model_module": "@jupyter-widgets/base",
      "model_module_version": "1.2.0",
      "model_name": "LayoutModel",
      "state": {}
     },
     "4acaffc6a802402ea3621633506a2dc7": {
      "model_module": "@jupyter-widgets/base",
      "model_module_version": "1.2.0",
      "model_name": "LayoutModel",
      "state": {}
     },
     "54a97a9a6bf94a2a83f20d2951654d06": {
      "model_module": "@jupyter-widgets/base",
      "model_module_version": "1.2.0",
      "model_name": "LayoutModel",
      "state": {}
     },
     "5e5835f68ebc44779d1ff50fe6de9e2f": {
      "model_module": "@jupyter-widgets/base",
      "model_module_version": "1.2.0",
      "model_name": "LayoutModel",
      "state": {}
     },
     "69355f5b29bf43aea847a043f96dc6ac": {
      "model_module": "@jupyter-widgets/controls",
      "model_module_version": "1.5.0",
      "model_name": "DescriptionStyleModel",
      "state": {
       "description_width": ""
      }
     },
     "6da239b0385049e7be9579f88a11794e": {
      "model_module": "@jupyter-widgets/base",
      "model_module_version": "1.2.0",
      "model_name": "LayoutModel",
      "state": {}
     },
     "6da5bfe99d804f59a0561e19741ee385": {
      "model_module": "@jupyter-widgets/controls",
      "model_module_version": "1.5.0",
      "model_name": "DescriptionStyleModel",
      "state": {
       "description_width": ""
      }
     },
     "6f9276aeebc7472a943b0490d14ea39e": {
      "model_module": "@jupyter-widgets/base",
      "model_module_version": "1.2.0",
      "model_name": "LayoutModel",
      "state": {}
     },
     "7948fd20a640456ea67976ca690479d8": {
      "model_module": "pgljupyter",
      "model_module_version": "^1.0.5",
      "model_name": "SceneWidgetModel",
      "state": {
       "_model_module_version": "^1.0.5",
       "_view_module_version": "^1.0.5",
       "axes_helper": false,
       "layout": "IPY_MODEL_6da239b0385049e7be9579f88a11794e",
       "light_helper": false,
       "plane": true,
       "size_display": [
        400,
        400
       ],
       "size_world": 2.5
      }
     },
     "895ace52d2d04a67a5819db0d955edc6": {
      "model_module": "@jupyter-widgets/base",
      "model_module_version": "1.2.0",
      "model_name": "LayoutModel",
      "state": {}
     },
     "94b10e134af244a9bb9e30a161d7503e": {
      "model_module": "@jupyter-widgets/controls",
      "model_module_version": "1.5.0",
      "model_name": "HTMLModel",
      "state": {
       "layout": "IPY_MODEL_e54acfb9dcf6482baaa4992f74950a58",
       "style": "IPY_MODEL_6da5bfe99d804f59a0561e19741ee385"
      }
     },
     "a027a4a8ce774d46a2cfddb9e8c2d264": {
      "model_module": "@jupyter-widgets/base",
      "model_module_version": "1.2.0",
      "model_name": "LayoutModel",
      "state": {}
     },
     "ae6ee9cb208849f59e587b3b9e26fbc0": {
      "model_module": "@jupyter-widgets/controls",
      "model_module_version": "1.5.0",
      "model_name": "HTMLModel",
      "state": {
       "layout": "IPY_MODEL_22972bb23e324f9bb82883321a7bf344",
       "style": "IPY_MODEL_69355f5b29bf43aea847a043f96dc6ac",
       "value": " 100% | Simulation finished in 00:07 "
      }
     },
     "b02b53d86c9a43719ee549cdd66b9eaa": {
      "model_module": "@jupyter-widgets/controls",
      "model_module_version": "1.5.0",
      "model_name": "HTMLModel",
      "state": {
       "layout": "IPY_MODEL_54a97a9a6bf94a2a83f20d2951654d06",
       "style": "IPY_MODEL_318de9ff4f564f74b0d38bf08c2e906d",
       "value": " 100% | Simulation finished in 00:07 "
      }
     },
     "b4620818421d4d9e9d714a99cea20fb6": {
      "model_module": "@jupyter-widgets/controls",
      "model_module_version": "1.5.0",
      "model_name": "FloatProgressModel",
      "state": {
       "bar_style": "success",
       "layout": "IPY_MODEL_4acaffc6a802402ea3621633506a2dc7",
       "max": 367,
       "style": "IPY_MODEL_ceb12f83bea04d95867d17b4b46d8e79",
       "value": 367
      }
     },
     "ceb12f83bea04d95867d17b4b46d8e79": {
      "model_module": "@jupyter-widgets/controls",
      "model_module_version": "1.5.0",
      "model_name": "ProgressStyleModel",
      "state": {
       "description_width": ""
      }
     },
     "d66b0b45ac5841c1a97b6834bbdac27a": {
      "model_module": "@jupyter-widgets/controls",
      "model_module_version": "1.5.0",
      "model_name": "HTMLModel",
      "state": {
       "layout": "IPY_MODEL_45a6354a77554eef9d560da368a6aa69",
       "style": "IPY_MODEL_2e8e4de6b89e40bcbeab61fe34bba95a"
      }
     },
     "e54acfb9dcf6482baaa4992f74950a58": {
      "model_module": "@jupyter-widgets/base",
      "model_module_version": "1.2.0",
      "model_name": "LayoutModel",
      "state": {}
     },
     "f7444151b0af48dabcbcb0eb3977f363": {
      "model_module": "@jupyter-widgets/controls",
      "model_module_version": "1.5.0",
      "model_name": "FloatProgressModel",
      "state": {
       "bar_style": "success",
       "layout": "IPY_MODEL_6f9276aeebc7472a943b0490d14ea39e",
       "max": 367,
       "style": "IPY_MODEL_40943c8e05904e2a94c82c4e583123dc",
       "value": 367
      }
     },
     "fd3aa32fb7d34175af57b6ea8a26cca5": {
      "model_module": "@jupyter-widgets/controls",
      "model_module_version": "1.5.0",
      "model_name": "HBoxModel",
      "state": {
       "children": [
        "IPY_MODEL_94b10e134af244a9bb9e30a161d7503e",
        "IPY_MODEL_f7444151b0af48dabcbcb0eb3977f363",
        "IPY_MODEL_ae6ee9cb208849f59e587b3b9e26fbc0"
       ],
       "layout": "IPY_MODEL_895ace52d2d04a67a5819db0d955edc6"
      }
     }
    },
    "version_major": 2,
    "version_minor": 0
   }
  }
 },
 "nbformat": 4,
 "nbformat_minor": 5
}
